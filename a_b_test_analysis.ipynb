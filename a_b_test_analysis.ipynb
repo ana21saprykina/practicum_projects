{
 "cells": [
  {
   "cell_type": "markdown",
   "metadata": {},
   "source": [
    "# Анализ результатов A/B-теста"
   ]
  },
  {
   "cell_type": "markdown",
   "metadata": {},
   "source": [
    "# Оглавление\n",
    "\n",
    "1) [Введение](#header_1)\n",
    "\n",
    "1.1 [Описание проекта](#header_2)\n",
    "\n",
    "1.2 [Описание данных](#header_3)\n",
    "\n",
    "2) [Предобработка данных](#header_4)\n",
    "\n",
    "2.1 [Изменение названий столбцов](#header_5)\n",
    "\n",
    "2.2 [Поиск и обработка дубликатов](#header_6)\n",
    "\n",
    "2.3 [Приведение данных к нужному типу](#header_7)\n",
    "\n",
    "2.4 [Поиск и обработка дубликатов](#header_8)\n",
    "\n",
    "3) [Приоритезация гипотез](#header_9)\n",
    "\n",
    "3.1 [Приоритезация гипотез с помощью фреймворка ICE](#header_10)\n",
    "\n",
    "3.2 [Приоритезация гипотез с помощью фреймворка RICE](#header_11)\n",
    "\n",
    "4) [Анализ A/B-теста](#header_12)\n",
    "\n",
    "4.1 [Анализ графиков по кумулятивным показателям и относительным различиям. Неочищенные данные](#header_13)\n",
    "\n",
    "4.2 [Поиск выбросов и аномалий](#header_14)\n",
    "\n",
    "4.3 [Расчет статистической значимости разницы в среднем количестве заказов по неочищенным данным](#header_14)\n",
    "\n",
    "4.4 [Расчет статистической значимости разницы в среднем чеке в разных группах теста по неочищенным данным](#header_15)\n",
    "\n",
    "4.5 [Очищение данных от выбросов и аномалий](#header_16)\n",
    "\n",
    "4.6 [Подсчет статистической значимости различий в конверсиях в заказ между группами по очищенным данным](#header_17)\n",
    "\n",
    "4.7 [Подсчет статистической значимости различий в среднем чеке между сегментами по \"очищенным\" данным](#header_18)\n",
    "\n",
    "5) [Выводы по проведенному исследованию](#header_19)\n",
    "\n",
    "6) [Рекомендации по результатам А-В теста](#header_20)"
   ]
  },
  {
   "cell_type": "markdown",
   "metadata": {},
   "source": [
    "## Введение\n",
    "<a id='header_1'></a>"
   ]
  },
  {
   "cell_type": "markdown",
   "metadata": {},
   "source": [
    "### Описание проекта\n",
    "<a id='header_2'></a>\n",
    "\n",
    "**Данный проект посвящен приоритезации гипотез, предложенных отделом маркетинга крупного интернет-магазина, а также анализу проведенного A/B-теста и его результатов.**\n",
    "\n",
    "**Целью исследования является понимание, существует ли статистически значимый эффект от предложенного в гипотезе нововведения, другими словами - наблюдается ли статистически значимая разница между показателями двух групп теста. Результаты теста позволят компании принять решение, расширять ли нововведение на всех пользователей или нет.**\n",
    "\n",
    "Исследование будет строится на основе нескольких датасетов. Во-первых, мы будем работать со списком перспективных гипотез, а также ранее рассчитанными параметрами, которые необходимы для приоритезации проверки гипотез. Во-вторых, нам доступны данные уже запущенного теста - информация о количестве пользователей из групп А и В и их покупках.\n",
    "\n",
    "В нашем распоряжении есть 3 датасета:\n",
    "\n",
    "**Датасет с гипотезами со следующими параметрами:**\n",
    "\n",
    "- Hypothesis — краткое описание гипотезы,\n",
    "\n",
    "- Reach — охват пользователей по 10-балльной шкале,\n",
    "\n",
    "- Impact — влияние на пользователей по 10-балльной шкале,\n",
    "\n",
    "- Confidence — уверенность в гипотезе по 10-балльной шкале,\n",
    "\n",
    "- Efforts — затраты ресурсов на проверку гипотезы по 10-балльной шкале. Этот параметр отображает, насколько дорого обойдется проверка гипотезы.\n",
    "\n",
    "**Датасет с заказами пользователей:**\n",
    "\n",
    "- transactionId — идентификатор заказа,\n",
    "\n",
    "- visitorId — идентификатор пользователя, совершившего заказ,\n",
    "\n",
    "- date — дата, когда был совершён заказ,\n",
    "\n",
    "- revenue — выручка заказа,\n",
    "\n",
    "- group — группа A/B-теста, в которую попал заказ.\n",
    "\n",
    "**Датасет с информацией о количестве пользователей:**\n",
    "\n",
    "- date — дата,\n",
    "\n",
    "- group — группа A/B-теста,\n",
    "\n",
    "- visitors — количество пользователей в указанную дату в указанной группе A/B-теста.\n"
   ]
  },
  {
   "cell_type": "markdown",
   "metadata": {},
   "source": [
    "### Описание данных\n",
    "<a id='header_3'></a>"
   ]
  },
  {
   "cell_type": "code",
   "execution_count": 1,
   "metadata": {},
   "outputs": [],
   "source": [
    "# импортируем необходимые библиотеки\n",
    "\n",
    "import pandas as pd\n",
    "import matplotlib.pyplot as plt\n",
    "import scipy.stats as st\n",
    "import numpy as np\n",
    "import datetime as dt\n",
    "from pandas.plotting import register_matplotlib_converters\n",
    "import warnings\n",
    "import seaborn as sns\n",
    "import plotly.express as px"
   ]
  },
  {
   "cell_type": "code",
   "execution_count": 2,
   "metadata": {},
   "outputs": [],
   "source": [
    "# загружаем данные для анализа и сохраняем их в переменные\n",
    "\n",
    "hypothesis, orders, visitors = (\n",
    "    pd.read_csv('/data/hypotesis.csv'),\n",
    "    pd.read_csv('/data/order.csv'),\n",
    "    pd.read_csv('/data/visit.csv'),\n",
    ")"
   ]
  },
  {
   "cell_type": "code",
   "execution_count": 3,
   "metadata": {},
   "outputs": [
    {
     "data": {
      "text/html": [
       "<div>\n",
       "<style scoped>\n",
       "    .dataframe tbody tr th:only-of-type {\n",
       "        vertical-align: middle;\n",
       "    }\n",
       "\n",
       "    .dataframe tbody tr th {\n",
       "        vertical-align: top;\n",
       "    }\n",
       "\n",
       "    .dataframe thead th {\n",
       "        text-align: right;\n",
       "    }\n",
       "</style>\n",
       "<table border=\"1\" class=\"dataframe\">\n",
       "  <thead>\n",
       "    <tr style=\"text-align: right;\">\n",
       "      <th></th>\n",
       "      <th>Hypothesis</th>\n",
       "      <th>Reach</th>\n",
       "      <th>Impact</th>\n",
       "      <th>Confidence</th>\n",
       "      <th>Efforts</th>\n",
       "    </tr>\n",
       "  </thead>\n",
       "  <tbody>\n",
       "    <tr>\n",
       "      <th>3</th>\n",
       "      <td>Изменить структура категорий, что увеличит кон...</td>\n",
       "      <td>8</td>\n",
       "      <td>3</td>\n",
       "      <td>3</td>\n",
       "      <td>8</td>\n",
       "    </tr>\n",
       "    <tr>\n",
       "      <th>7</th>\n",
       "      <td>Добавить форму подписки на все основные страни...</td>\n",
       "      <td>10</td>\n",
       "      <td>7</td>\n",
       "      <td>8</td>\n",
       "      <td>5</td>\n",
       "    </tr>\n",
       "  </tbody>\n",
       "</table>\n",
       "</div>"
      ],
      "text/plain": [
       "                                          Hypothesis  Reach  Impact  \\\n",
       "3  Изменить структура категорий, что увеличит кон...      8       3   \n",
       "7  Добавить форму подписки на все основные страни...     10       7   \n",
       "\n",
       "   Confidence  Efforts  \n",
       "3           3        8  \n",
       "7           8        5  "
      ]
     },
     "execution_count": 3,
     "metadata": {},
     "output_type": "execute_result"
    }
   ],
   "source": [
    "# знакомимся с данными файла, содержащего гипотезы\n",
    "\n",
    "hypothesis.sample(2)"
   ]
  },
  {
   "cell_type": "code",
   "execution_count": 4,
   "metadata": {},
   "outputs": [
    {
     "data": {
      "text/html": [
       "<div>\n",
       "<style scoped>\n",
       "    .dataframe tbody tr th:only-of-type {\n",
       "        vertical-align: middle;\n",
       "    }\n",
       "\n",
       "    .dataframe tbody tr th {\n",
       "        vertical-align: top;\n",
       "    }\n",
       "\n",
       "    .dataframe thead th {\n",
       "        text-align: right;\n",
       "    }\n",
       "</style>\n",
       "<table border=\"1\" class=\"dataframe\">\n",
       "  <thead>\n",
       "    <tr style=\"text-align: right;\">\n",
       "      <th></th>\n",
       "      <th>transactionId</th>\n",
       "      <th>visitorId</th>\n",
       "      <th>date</th>\n",
       "      <th>revenue</th>\n",
       "      <th>group</th>\n",
       "    </tr>\n",
       "  </thead>\n",
       "  <tbody>\n",
       "    <tr>\n",
       "      <th>0</th>\n",
       "      <td>3667963787</td>\n",
       "      <td>3312258926</td>\n",
       "      <td>2019-08-15</td>\n",
       "      <td>1650</td>\n",
       "      <td>B</td>\n",
       "    </tr>\n",
       "    <tr>\n",
       "      <th>1</th>\n",
       "      <td>2804400009</td>\n",
       "      <td>3642806036</td>\n",
       "      <td>2019-08-15</td>\n",
       "      <td>730</td>\n",
       "      <td>B</td>\n",
       "    </tr>\n",
       "  </tbody>\n",
       "</table>\n",
       "</div>"
      ],
      "text/plain": [
       "   transactionId   visitorId        date  revenue group\n",
       "0     3667963787  3312258926  2019-08-15     1650     B\n",
       "1     2804400009  3642806036  2019-08-15      730     B"
      ]
     },
     "execution_count": 4,
     "metadata": {},
     "output_type": "execute_result"
    }
   ],
   "source": [
    "# знакомимся с файлом, содержащим заказы\n",
    "\n",
    "orders.head(2)"
   ]
  },
  {
   "cell_type": "code",
   "execution_count": 5,
   "metadata": {},
   "outputs": [
    {
     "data": {
      "text/html": [
       "<div>\n",
       "<style scoped>\n",
       "    .dataframe tbody tr th:only-of-type {\n",
       "        vertical-align: middle;\n",
       "    }\n",
       "\n",
       "    .dataframe tbody tr th {\n",
       "        vertical-align: top;\n",
       "    }\n",
       "\n",
       "    .dataframe thead th {\n",
       "        text-align: right;\n",
       "    }\n",
       "</style>\n",
       "<table border=\"1\" class=\"dataframe\">\n",
       "  <thead>\n",
       "    <tr style=\"text-align: right;\">\n",
       "      <th></th>\n",
       "      <th>date</th>\n",
       "      <th>group</th>\n",
       "      <th>visitors</th>\n",
       "    </tr>\n",
       "  </thead>\n",
       "  <tbody>\n",
       "    <tr>\n",
       "      <th>60</th>\n",
       "      <td>2019-08-30</td>\n",
       "      <td>B</td>\n",
       "      <td>490</td>\n",
       "    </tr>\n",
       "    <tr>\n",
       "      <th>61</th>\n",
       "      <td>2019-08-31</td>\n",
       "      <td>B</td>\n",
       "      <td>718</td>\n",
       "    </tr>\n",
       "  </tbody>\n",
       "</table>\n",
       "</div>"
      ],
      "text/plain": [
       "          date group  visitors\n",
       "60  2019-08-30     B       490\n",
       "61  2019-08-31     B       718"
      ]
     },
     "execution_count": 5,
     "metadata": {},
     "output_type": "execute_result"
    }
   ],
   "source": [
    "# и то же самое делаем с файлом, содержащим информацию о кол-ве пользователей\n",
    "\n",
    "visitors.tail(2)"
   ]
  },
  {
   "cell_type": "code",
   "execution_count": 6,
   "metadata": {},
   "outputs": [
    {
     "name": "stdout",
     "output_type": "stream",
     "text": [
      "<class 'pandas.core.frame.DataFrame'>\n",
      "RangeIndex: 9 entries, 0 to 8\n",
      "Data columns (total 5 columns):\n",
      " #   Column      Non-Null Count  Dtype \n",
      "---  ------      --------------  ----- \n",
      " 0   Hypothesis  9 non-null      object\n",
      " 1   Reach       9 non-null      int64 \n",
      " 2   Impact      9 non-null      int64 \n",
      " 3   Confidence  9 non-null      int64 \n",
      " 4   Efforts     9 non-null      int64 \n",
      "dtypes: int64(4), object(1)\n",
      "memory usage: 488.0+ bytes\n"
     ]
    }
   ],
   "source": [
    "# взглянем на общую информацию о первом из датасетов\n",
    "\n",
    "hypothesis.info()"
   ]
  },
  {
   "cell_type": "code",
   "execution_count": 7,
   "metadata": {},
   "outputs": [
    {
     "name": "stdout",
     "output_type": "stream",
     "text": [
      "<class 'pandas.core.frame.DataFrame'>\n",
      "RangeIndex: 1197 entries, 0 to 1196\n",
      "Data columns (total 5 columns):\n",
      " #   Column         Non-Null Count  Dtype \n",
      "---  ------         --------------  ----- \n",
      " 0   transactionId  1197 non-null   int64 \n",
      " 1   visitorId      1197 non-null   int64 \n",
      " 2   date           1197 non-null   object\n",
      " 3   revenue        1197 non-null   int64 \n",
      " 4   group          1197 non-null   object\n",
      "dtypes: int64(3), object(2)\n",
      "memory usage: 46.9+ KB\n"
     ]
    }
   ],
   "source": [
    "# теперь ознакомимся с информацией о втором из датасетов \n",
    "\n",
    "orders.info()"
   ]
  },
  {
   "cell_type": "code",
   "execution_count": 8,
   "metadata": {},
   "outputs": [
    {
     "name": "stdout",
     "output_type": "stream",
     "text": [
      "<class 'pandas.core.frame.DataFrame'>\n",
      "RangeIndex: 62 entries, 0 to 61\n",
      "Data columns (total 3 columns):\n",
      " #   Column    Non-Null Count  Dtype \n",
      "---  ------    --------------  ----- \n",
      " 0   date      62 non-null     object\n",
      " 1   group     62 non-null     object\n",
      " 2   visitors  62 non-null     int64 \n",
      "dtypes: int64(1), object(2)\n",
      "memory usage: 1.6+ KB\n"
     ]
    }
   ],
   "source": [
    "# то же самое для датасета с кол-вом пользователей, посетивших интернет-магазин\n",
    "\n",
    "visitors.info()"
   ]
  },
  {
   "cell_type": "markdown",
   "metadata": {},
   "source": [
    "Исследование будет проводиться на основе трех датасетов: \n",
    "- с гипотезами и параметрами для выявления их приоритетности - hypothesis,\n",
    "- с информацией о заказах пользователей из A/B-теста - orders,\n",
    "- с информацией о количестве пользователей в каждую из дат проведения теста - visitors.\n",
    "\n",
    "Размеры датасетов (количество строк и столбцов):\n",
    "\n",
    "**hypothesis:** 9 строк и 5 столбцов\n",
    "\n",
    "**orders:** 1197 строк и 5 столбцов\n",
    "\n",
    "**visitors:** 62 строки и 3 столбца\n",
    "\n",
    "Знакомство с данными позволило заметить проблемы, которые нужно будет устранить на этапе предобработки: в первую очередь это неправильный тип данных в столбцах с датой и временем. Также для удобства дальнейшей работы и устранения возможных неточностей переименуем название столбцов, чтобы они содержали только строчные символы и подчеркивания. Пропуски отсутствуют.\n"
   ]
  },
  {
   "cell_type": "markdown",
   "metadata": {},
   "source": [
    "## Предобработка данных\n",
    "<a id='header_4'></a>"
   ]
  },
  {
   "cell_type": "markdown",
   "metadata": {},
   "source": [
    "### Изменения названия столбцов\n",
    "<a id='header_5'></a>"
   ]
  },
  {
   "cell_type": "code",
   "execution_count": 9,
   "metadata": {},
   "outputs": [],
   "source": [
    "# приведем к нижнему регистру названия столбцов, а также добавим нижнее подчеркивание между словами\n",
    "\n",
    "hypothesis.columns = hypothesis.columns.str.lower()\n",
    "orders.columns = orders.columns.str.lower()\n",
    "orders = orders.rename(columns={'transactionid':'transaction_id', 'visitorid':'visitor_id'})\n"
   ]
  },
  {
   "cell_type": "code",
   "execution_count": 10,
   "metadata": {
    "scrolled": true
   },
   "outputs": [
    {
     "data": {
      "text/html": [
       "<div>\n",
       "<style scoped>\n",
       "    .dataframe tbody tr th:only-of-type {\n",
       "        vertical-align: middle;\n",
       "    }\n",
       "\n",
       "    .dataframe tbody tr th {\n",
       "        vertical-align: top;\n",
       "    }\n",
       "\n",
       "    .dataframe thead th {\n",
       "        text-align: right;\n",
       "    }\n",
       "</style>\n",
       "<table border=\"1\" class=\"dataframe\">\n",
       "  <thead>\n",
       "    <tr style=\"text-align: right;\">\n",
       "      <th></th>\n",
       "      <th>hypothesis</th>\n",
       "      <th>reach</th>\n",
       "      <th>impact</th>\n",
       "      <th>confidence</th>\n",
       "      <th>efforts</th>\n",
       "    </tr>\n",
       "  </thead>\n",
       "  <tbody>\n",
       "    <tr>\n",
       "      <th>0</th>\n",
       "      <td>Добавить два новых канала привлечения трафика,...</td>\n",
       "      <td>3</td>\n",
       "      <td>10</td>\n",
       "      <td>8</td>\n",
       "      <td>6</td>\n",
       "    </tr>\n",
       "    <tr>\n",
       "      <th>1</th>\n",
       "      <td>Запустить собственную службу доставки, что сок...</td>\n",
       "      <td>2</td>\n",
       "      <td>5</td>\n",
       "      <td>4</td>\n",
       "      <td>10</td>\n",
       "    </tr>\n",
       "  </tbody>\n",
       "</table>\n",
       "</div>"
      ],
      "text/plain": [
       "                                          hypothesis  reach  impact  \\\n",
       "0  Добавить два новых канала привлечения трафика,...      3      10   \n",
       "1  Запустить собственную службу доставки, что сок...      2       5   \n",
       "\n",
       "   confidence  efforts  \n",
       "0           8        6  \n",
       "1           4       10  "
      ]
     },
     "metadata": {},
     "output_type": "display_data"
    },
    {
     "data": {
      "text/html": [
       "<div>\n",
       "<style scoped>\n",
       "    .dataframe tbody tr th:only-of-type {\n",
       "        vertical-align: middle;\n",
       "    }\n",
       "\n",
       "    .dataframe tbody tr th {\n",
       "        vertical-align: top;\n",
       "    }\n",
       "\n",
       "    .dataframe thead th {\n",
       "        text-align: right;\n",
       "    }\n",
       "</style>\n",
       "<table border=\"1\" class=\"dataframe\">\n",
       "  <thead>\n",
       "    <tr style=\"text-align: right;\">\n",
       "      <th></th>\n",
       "      <th>transaction_id</th>\n",
       "      <th>visitor_id</th>\n",
       "      <th>date</th>\n",
       "      <th>revenue</th>\n",
       "      <th>group</th>\n",
       "    </tr>\n",
       "  </thead>\n",
       "  <tbody>\n",
       "    <tr>\n",
       "      <th>0</th>\n",
       "      <td>3667963787</td>\n",
       "      <td>3312258926</td>\n",
       "      <td>2019-08-15</td>\n",
       "      <td>1650</td>\n",
       "      <td>B</td>\n",
       "    </tr>\n",
       "    <tr>\n",
       "      <th>1</th>\n",
       "      <td>2804400009</td>\n",
       "      <td>3642806036</td>\n",
       "      <td>2019-08-15</td>\n",
       "      <td>730</td>\n",
       "      <td>B</td>\n",
       "    </tr>\n",
       "  </tbody>\n",
       "</table>\n",
       "</div>"
      ],
      "text/plain": [
       "   transaction_id  visitor_id        date  revenue group\n",
       "0      3667963787  3312258926  2019-08-15     1650     B\n",
       "1      2804400009  3642806036  2019-08-15      730     B"
      ]
     },
     "execution_count": 10,
     "metadata": {},
     "output_type": "execute_result"
    }
   ],
   "source": [
    "# проверяем корректность изменений\n",
    "\n",
    "display(hypothesis.head(2))\n",
    "orders.head(2)"
   ]
  },
  {
   "cell_type": "markdown",
   "metadata": {},
   "source": [
    "### Изменение типа данных\n",
    "<a id='header_6'></a>"
   ]
  },
  {
   "cell_type": "markdown",
   "metadata": {},
   "source": [
    "Проверим необходимость изменения типов данных в столбцах с датами: метод info() показал объект типа object, но таким образом могут обозначаться как реальные строки str, так и объекты datetime.date"
   ]
  },
  {
   "cell_type": "code",
   "execution_count": 11,
   "metadata": {},
   "outputs": [
    {
     "data": {
      "text/plain": [
       "'string'"
      ]
     },
     "execution_count": 11,
     "metadata": {},
     "output_type": "execute_result"
    }
   ],
   "source": [
    "pd.api.types.infer_dtype(orders['date'])"
   ]
  },
  {
   "cell_type": "code",
   "execution_count": 12,
   "metadata": {},
   "outputs": [
    {
     "data": {
      "text/plain": [
       "'date'"
      ]
     },
     "execution_count": 12,
     "metadata": {},
     "output_type": "execute_result"
    }
   ],
   "source": [
    "# изменим тип данных в столбцах с датой и временем и сразу проверим изменения\n",
    "\n",
    "orders['date'] = pd.to_datetime(orders['date']).dt.date\n",
    "pd.api.types.infer_dtype(orders['date'])"
   ]
  },
  {
   "cell_type": "code",
   "execution_count": 13,
   "metadata": {},
   "outputs": [
    {
     "data": {
      "text/plain": [
       "'string'"
      ]
     },
     "execution_count": 13,
     "metadata": {},
     "output_type": "execute_result"
    }
   ],
   "source": [
    "# то же самое делаем со столбцом, содержащим дату в другом датасете\n",
    "\n",
    "pd.api.types.infer_dtype(visitors['date'])"
   ]
  },
  {
   "cell_type": "code",
   "execution_count": 14,
   "metadata": {},
   "outputs": [
    {
     "data": {
      "text/plain": [
       "'date'"
      ]
     },
     "execution_count": 14,
     "metadata": {},
     "output_type": "execute_result"
    }
   ],
   "source": [
    "visitors['date'] = pd.to_datetime(visitors['date']).dt.date\n",
    "pd.api.types.infer_dtype(visitors['date'])"
   ]
  },
  {
   "cell_type": "markdown",
   "metadata": {},
   "source": [
    "### Поиск и обработка дубликатов\n",
    "<a id='header_7'></a>"
   ]
  },
  {
   "cell_type": "code",
   "execution_count": 15,
   "metadata": {},
   "outputs": [
    {
     "data": {
      "text/plain": [
       "0"
      ]
     },
     "execution_count": 15,
     "metadata": {},
     "output_type": "execute_result"
    }
   ],
   "source": [
    "# ищем явные дубликаты в датасете hypothesis \n",
    "\n",
    "hypothesis.duplicated().sum()"
   ]
  },
  {
   "cell_type": "code",
   "execution_count": 16,
   "metadata": {},
   "outputs": [
    {
     "data": {
      "text/plain": [
       "0"
      ]
     },
     "execution_count": 16,
     "metadata": {},
     "output_type": "execute_result"
    }
   ],
   "source": [
    "# ищем явные дубликаты в заказах\n",
    "\n",
    "orders.duplicated().sum()"
   ]
  },
  {
   "cell_type": "code",
   "execution_count": 17,
   "metadata": {},
   "outputs": [
    {
     "data": {
      "text/plain": [
       "0"
      ]
     },
     "execution_count": 17,
     "metadata": {},
     "output_type": "execute_result"
    }
   ],
   "source": [
    "# ищем явные дубликаты в датасете с количетсвом пользователей\n",
    "\n",
    "visitors.duplicated().sum()"
   ]
  },
  {
   "cell_type": "markdown",
   "metadata": {},
   "source": [
    "Мы провели предобработку данных в рамках, которой были устранены следующие проблемы:\n",
    "\n",
    "- все названия столбцов приведены к единому стилю\n",
    "- изменен тип данных в столбцах с датой и временем\n",
    "\n",
    "Пропуски и дубликаты не были обнаружены."
   ]
  },
  {
   "cell_type": "markdown",
   "metadata": {},
   "source": [
    "## Приоритезация гипотез\n",
    "<a id='header_8'></a>"
   ]
  },
  {
   "cell_type": "code",
   "execution_count": 18,
   "metadata": {},
   "outputs": [
    {
     "name": "stdout",
     "output_type": "stream",
     "text": [
      "Добавить два новых канала привлечения трафика, что позволит привлекать на 30% больше пользователей\n",
      "Запустить собственную службу доставки, что сократит срок доставки заказов\n",
      "Добавить блоки рекомендаций товаров на сайт интернет магазина, чтобы повысить конверсию и средний чек заказа\n",
      "Изменить структура категорий, что увеличит конверсию, т.к. пользователи быстрее найдут нужный товар\n",
      "Изменить цвет фона главной страницы, чтобы увеличить вовлеченность пользователей\n",
      "Добавить страницу отзывов клиентов о магазине, что позволит увеличить количество заказов\n",
      "Показать на главной странице баннеры с актуальными акциями и распродажами, чтобы увеличить конверсию\n",
      "Добавить форму подписки на все основные страницы, чтобы собрать базу клиентов для email-рассылок\n",
      "Запустить акцию, дающую скидку на товар в день рождения\n"
     ]
    }
   ],
   "source": [
    "# для начала ознакомимся с гипотезами, выдвинутыми отделом маркетинга\n",
    "\n",
    "for element in hypothesis['hypothesis']:\n",
    "    print(element)\n"
   ]
  },
  {
   "cell_type": "markdown",
   "metadata": {},
   "source": [
    "### Приоритезация гипотез с помощью фреймворка ICE\n",
    "<a id='header_9'></a>"
   ]
  },
  {
   "cell_type": "markdown",
   "metadata": {},
   "source": [
    "**Фреймворк ICE используется для приоритезации гипотез. Он включает в себя несколько факторов, которые помогают в выборе объективной оценки.**\n",
    "\n",
    "**Impact - оценивает влияние нововведения на пользователя или ключевой показатель**\n",
    "\n",
    "**Efforts - усилия, необходимые для реализации нововведения**\n",
    "\n",
    "**Confidence - оценивает нашу уверенность в оценке влияния и усилий**\n",
    "\n",
    "**ICE = (IMPACT * CONFIDENCE) / EFFORTS**"
   ]
  },
  {
   "cell_type": "code",
   "execution_count": 19,
   "metadata": {},
   "outputs": [
    {
     "data": {
      "text/html": [
       "<div>\n",
       "<style scoped>\n",
       "    .dataframe tbody tr th:only-of-type {\n",
       "        vertical-align: middle;\n",
       "    }\n",
       "\n",
       "    .dataframe tbody tr th {\n",
       "        vertical-align: top;\n",
       "    }\n",
       "\n",
       "    .dataframe thead th {\n",
       "        text-align: right;\n",
       "    }\n",
       "</style>\n",
       "<table border=\"1\" class=\"dataframe\">\n",
       "  <thead>\n",
       "    <tr style=\"text-align: right;\">\n",
       "      <th></th>\n",
       "      <th>hypothesis</th>\n",
       "      <th>ICE</th>\n",
       "    </tr>\n",
       "  </thead>\n",
       "  <tbody>\n",
       "    <tr>\n",
       "      <th>8</th>\n",
       "      <td>Запустить акцию, дающую скидку на товар в день рождения</td>\n",
       "      <td>16.200</td>\n",
       "    </tr>\n",
       "    <tr>\n",
       "      <th>0</th>\n",
       "      <td>Добавить два новых канала привлечения трафика, что позволит привлекать на 30% больше пользователей</td>\n",
       "      <td>13.333</td>\n",
       "    </tr>\n",
       "    <tr>\n",
       "      <th>7</th>\n",
       "      <td>Добавить форму подписки на все основные страницы, чтобы собрать базу клиентов для email-рассылок</td>\n",
       "      <td>11.200</td>\n",
       "    </tr>\n",
       "    <tr>\n",
       "      <th>6</th>\n",
       "      <td>Показать на главной странице баннеры с актуальными акциями и распродажами, чтобы увеличить конверсию</td>\n",
       "      <td>8.000</td>\n",
       "    </tr>\n",
       "    <tr>\n",
       "      <th>2</th>\n",
       "      <td>Добавить блоки рекомендаций товаров на сайт интернет магазина, чтобы повысить конверсию и средний чек заказа</td>\n",
       "      <td>7.000</td>\n",
       "    </tr>\n",
       "    <tr>\n",
       "      <th>1</th>\n",
       "      <td>Запустить собственную службу доставки, что сократит срок доставки заказов</td>\n",
       "      <td>2.000</td>\n",
       "    </tr>\n",
       "    <tr>\n",
       "      <th>5</th>\n",
       "      <td>Добавить страницу отзывов клиентов о магазине, что позволит увеличить количество заказов</td>\n",
       "      <td>1.333</td>\n",
       "    </tr>\n",
       "    <tr>\n",
       "      <th>3</th>\n",
       "      <td>Изменить структура категорий, что увеличит конверсию, т.к. пользователи быстрее найдут нужный товар</td>\n",
       "      <td>1.125</td>\n",
       "    </tr>\n",
       "    <tr>\n",
       "      <th>4</th>\n",
       "      <td>Изменить цвет фона главной страницы, чтобы увеличить вовлеченность пользователей</td>\n",
       "      <td>1.000</td>\n",
       "    </tr>\n",
       "  </tbody>\n",
       "</table>\n",
       "</div>"
      ],
      "text/plain": [
       "                                                                                                     hypothesis  \\\n",
       "8                                                       Запустить акцию, дающую скидку на товар в день рождения   \n",
       "0            Добавить два новых канала привлечения трафика, что позволит привлекать на 30% больше пользователей   \n",
       "7              Добавить форму подписки на все основные страницы, чтобы собрать базу клиентов для email-рассылок   \n",
       "6          Показать на главной странице баннеры с актуальными акциями и распродажами, чтобы увеличить конверсию   \n",
       "2  Добавить блоки рекомендаций товаров на сайт интернет магазина, чтобы повысить конверсию и средний чек заказа   \n",
       "1                                     Запустить собственную службу доставки, что сократит срок доставки заказов   \n",
       "5                      Добавить страницу отзывов клиентов о магазине, что позволит увеличить количество заказов   \n",
       "3           Изменить структура категорий, что увеличит конверсию, т.к. пользователи быстрее найдут нужный товар   \n",
       "4                              Изменить цвет фона главной страницы, чтобы увеличить вовлеченность пользователей   \n",
       "\n",
       "      ICE  \n",
       "8  16.200  \n",
       "0  13.333  \n",
       "7  11.200  \n",
       "6   8.000  \n",
       "2   7.000  \n",
       "1   2.000  \n",
       "5   1.333  \n",
       "3   1.125  \n",
       "4   1.000  "
      ]
     },
     "execution_count": 19,
     "metadata": {},
     "output_type": "execute_result"
    }
   ],
   "source": [
    "# рассчитаем ICE-score для предложенных девяти гипотез\n",
    "\n",
    "pd.options.display.max_colwidth = 210\n",
    "hypothesis['ICE'] = ((hypothesis['impact'] * hypothesis['confidence']) / hypothesis['efforts']).round(3)\n",
    "hypothesis[['hypothesis', 'ICE']].sort_values('ICE', ascending=False)"
   ]
  },
  {
   "cell_type": "markdown",
   "metadata": {},
   "source": [
    "Метод приоритезации гипотез ICE в качестве наиболее перспективной выдвигает гипотезу, предполагающую запуск акции, дающей скидку на день родждения - ее ICE-score 16,2. Тройка лидеров выглядит следующим образом:\n",
    "\n",
    "- гипотеза №8: Запустить акцию, дающую скидку на товар в день рождения\n",
    "- гипотеза №0: Добавить два новых канала привлечения трафика, что позволит привлекать на 30% больше пользователей\n",
    "- гипотеза №7: Добавить форму подписки на все основные страницы, чтобы собрать базу клиентов для email-рассылок"
   ]
  },
  {
   "cell_type": "markdown",
   "metadata": {},
   "source": [
    "###  Приоритезация гипотез с помощью фреймворка RICE\n",
    "<a id='header_10'></a>"
   ]
  },
  {
   "cell_type": "markdown",
   "metadata": {},
   "source": [
    "**Фреймворк для приоритезации гипотез RICE опирается на ICE, но учитывает также дополнительный параметр - reach.**\n",
    "\n",
    "**Reach - охват, то есть количество пользователей, которых затронет нововведение.**\n",
    "\n",
    "**RICE = (REACH * IMPACT * CONFIDENCE) / EFFORTS**"
   ]
  },
  {
   "cell_type": "code",
   "execution_count": 20,
   "metadata": {
    "scrolled": true
   },
   "outputs": [
    {
     "data": {
      "text/html": [
       "<div>\n",
       "<style scoped>\n",
       "    .dataframe tbody tr th:only-of-type {\n",
       "        vertical-align: middle;\n",
       "    }\n",
       "\n",
       "    .dataframe tbody tr th {\n",
       "        vertical-align: top;\n",
       "    }\n",
       "\n",
       "    .dataframe thead th {\n",
       "        text-align: right;\n",
       "    }\n",
       "</style>\n",
       "<table border=\"1\" class=\"dataframe\">\n",
       "  <thead>\n",
       "    <tr style=\"text-align: right;\">\n",
       "      <th></th>\n",
       "      <th>hypothesis</th>\n",
       "      <th>RICE</th>\n",
       "    </tr>\n",
       "  </thead>\n",
       "  <tbody>\n",
       "    <tr>\n",
       "      <th>7</th>\n",
       "      <td>Добавить форму подписки на все основные страницы, чтобы собрать базу клиентов для email-рассылок</td>\n",
       "      <td>112.0</td>\n",
       "    </tr>\n",
       "    <tr>\n",
       "      <th>2</th>\n",
       "      <td>Добавить блоки рекомендаций товаров на сайт интернет магазина, чтобы повысить конверсию и средний чек заказа</td>\n",
       "      <td>56.0</td>\n",
       "    </tr>\n",
       "    <tr>\n",
       "      <th>0</th>\n",
       "      <td>Добавить два новых канала привлечения трафика, что позволит привлекать на 30% больше пользователей</td>\n",
       "      <td>40.0</td>\n",
       "    </tr>\n",
       "    <tr>\n",
       "      <th>6</th>\n",
       "      <td>Показать на главной странице баннеры с актуальными акциями и распродажами, чтобы увеличить конверсию</td>\n",
       "      <td>40.0</td>\n",
       "    </tr>\n",
       "    <tr>\n",
       "      <th>8</th>\n",
       "      <td>Запустить акцию, дающую скидку на товар в день рождения</td>\n",
       "      <td>16.2</td>\n",
       "    </tr>\n",
       "    <tr>\n",
       "      <th>3</th>\n",
       "      <td>Изменить структура категорий, что увеличит конверсию, т.к. пользователи быстрее найдут нужный товар</td>\n",
       "      <td>9.0</td>\n",
       "    </tr>\n",
       "    <tr>\n",
       "      <th>1</th>\n",
       "      <td>Запустить собственную службу доставки, что сократит срок доставки заказов</td>\n",
       "      <td>4.0</td>\n",
       "    </tr>\n",
       "    <tr>\n",
       "      <th>5</th>\n",
       "      <td>Добавить страницу отзывов клиентов о магазине, что позволит увеличить количество заказов</td>\n",
       "      <td>4.0</td>\n",
       "    </tr>\n",
       "    <tr>\n",
       "      <th>4</th>\n",
       "      <td>Изменить цвет фона главной страницы, чтобы увеличить вовлеченность пользователей</td>\n",
       "      <td>3.0</td>\n",
       "    </tr>\n",
       "  </tbody>\n",
       "</table>\n",
       "</div>"
      ],
      "text/plain": [
       "                                                                                                     hypothesis  \\\n",
       "7              Добавить форму подписки на все основные страницы, чтобы собрать базу клиентов для email-рассылок   \n",
       "2  Добавить блоки рекомендаций товаров на сайт интернет магазина, чтобы повысить конверсию и средний чек заказа   \n",
       "0            Добавить два новых канала привлечения трафика, что позволит привлекать на 30% больше пользователей   \n",
       "6          Показать на главной странице баннеры с актуальными акциями и распродажами, чтобы увеличить конверсию   \n",
       "8                                                       Запустить акцию, дающую скидку на товар в день рождения   \n",
       "3           Изменить структура категорий, что увеличит конверсию, т.к. пользователи быстрее найдут нужный товар   \n",
       "1                                     Запустить собственную службу доставки, что сократит срок доставки заказов   \n",
       "5                      Добавить страницу отзывов клиентов о магазине, что позволит увеличить количество заказов   \n",
       "4                              Изменить цвет фона главной страницы, чтобы увеличить вовлеченность пользователей   \n",
       "\n",
       "    RICE  \n",
       "7  112.0  \n",
       "2   56.0  \n",
       "0   40.0  \n",
       "6   40.0  \n",
       "8   16.2  \n",
       "3    9.0  \n",
       "1    4.0  \n",
       "5    4.0  \n",
       "4    3.0  "
      ]
     },
     "execution_count": 20,
     "metadata": {},
     "output_type": "execute_result"
    }
   ],
   "source": [
    "# теперь используем другой метод приоритезации гипотез - RICE, он также позволит учесть охват изменений\n",
    "\n",
    "pd.options.display.max_colwidth = 210\n",
    "hypothesis['RICE'] = (hypothesis['reach'] * hypothesis['impact'] * hypothesis['confidence'])/hypothesis['efforts']\n",
    "hypothesis[['hypothesis', 'RICE']].sort_values('RICE', ascending=False)"
   ]
  },
  {
   "cell_type": "markdown",
   "metadata": {},
   "source": [
    "Приоритезация методом RICE заметно изменила картину, благодаря параметру reach, который оценивает, на какое количество пользователей окажет влияние предлагаемое изменение. В топ-2 входят гипотезы:\n",
    "\n",
    "- гипотеза №7: Добавить форму подписки на все основные страницы, чтобы собрать базу клиентов для email-рассылок\n",
    "- гипотеза №2: Добавить блоки рекомендаций товаров на сайт интернет магазина, чтобы повысить конверсию и средний чек заказа\n",
    "\n",
    "Третье место поделили гипотезы: \n",
    "\n",
    "- гипотеза №0: Добавить два новых канала привлечения трафика, что позволит привлекать на 30% больше пользователей\n",
    "- гипотеза №6: Показать на главной странице баннеры с актуальными акциями и распродажами, чтобы увеличить конверсию\n"
   ]
  },
  {
   "cell_type": "markdown",
   "metadata": {},
   "source": [
    "**Выводы по приоритезации на основе применения методов ICE и RICE**\n",
    "\n",
    "Топ-3 наиболее приоритетных гипотез меняются в зависимости от используемого метода приоритезации. Это связано с наличием в фреймворке RICE дополнительного параметра reach, который оценивает охват. Лидирующая по ICE-score гипотеза №8, предлагающая запуск акции со скидкой на день рождения, получила низкий RICE, так как затрагивает небольшое количество пользователей - именинников. \n",
    "\n",
    "Чтобы внедряемые изменения были эффективными, советуем начать тестирование одной из следующих наиболее перспективных гипотез:\n",
    "\n",
    "1) гипотеза №7: Добавить форму подписки на все основные страницы, чтобы собрать базу клиентов для email-рассылок\n",
    "\n",
    "2) гипотеза №2: Добавить блоки рекомендаций товаров на сайт интернет магазина, чтобы повысить конверсию и средний чек заказа\n",
    "\n",
    "3) гипотеза №0: Добавить два новых канала привлечения трафика, что позволит привлекать на 30% больше пользователей"
   ]
  },
  {
   "cell_type": "markdown",
   "metadata": {},
   "source": [
    "## Анализ A/B-теста\n",
    "<a id='header_11'></a>"
   ]
  },
  {
   "cell_type": "markdown",
   "metadata": {},
   "source": [
    "### Анализ графиков по кумулятивным показателям и относительным различиям. Неочищенные данные\n",
    "<a id='header_12'></a>"
   ]
  },
  {
   "cell_type": "code",
   "execution_count": 21,
   "metadata": {},
   "outputs": [
    {
     "data": {
      "text/html": [
       "<div>\n",
       "<style scoped>\n",
       "    .dataframe tbody tr th:only-of-type {\n",
       "        vertical-align: middle;\n",
       "    }\n",
       "\n",
       "    .dataframe tbody tr th {\n",
       "        vertical-align: top;\n",
       "    }\n",
       "\n",
       "    .dataframe thead th {\n",
       "        text-align: right;\n",
       "    }\n",
       "</style>\n",
       "<table border=\"1\" class=\"dataframe\">\n",
       "  <thead>\n",
       "    <tr style=\"text-align: right;\">\n",
       "      <th></th>\n",
       "      <th>date</th>\n",
       "      <th>group</th>\n",
       "    </tr>\n",
       "  </thead>\n",
       "  <tbody>\n",
       "    <tr>\n",
       "      <th>55</th>\n",
       "      <td>2019-08-01</td>\n",
       "      <td>A</td>\n",
       "    </tr>\n",
       "    <tr>\n",
       "      <th>66</th>\n",
       "      <td>2019-08-01</td>\n",
       "      <td>B</td>\n",
       "    </tr>\n",
       "    <tr>\n",
       "      <th>175</th>\n",
       "      <td>2019-08-02</td>\n",
       "      <td>A</td>\n",
       "    </tr>\n",
       "  </tbody>\n",
       "</table>\n",
       "</div>"
      ],
      "text/plain": [
       "           date group\n",
       "55   2019-08-01     A\n",
       "66   2019-08-01     B\n",
       "175  2019-08-02     A"
      ]
     },
     "execution_count": 21,
     "metadata": {},
     "output_type": "execute_result"
    }
   ],
   "source": [
    "# построим график кумулятивной средней выручки по группам\n",
    "\n",
    "dates_groups = orders[['date','group']].drop_duplicates().sort_values(by='date')\n",
    "dates_groups.head(3)"
   ]
  },
  {
   "cell_type": "code",
   "execution_count": 22,
   "metadata": {},
   "outputs": [
    {
     "data": {
      "text/html": [
       "<div>\n",
       "<style scoped>\n",
       "    .dataframe tbody tr th:only-of-type {\n",
       "        vertical-align: middle;\n",
       "    }\n",
       "\n",
       "    .dataframe tbody tr th {\n",
       "        vertical-align: top;\n",
       "    }\n",
       "\n",
       "    .dataframe thead th {\n",
       "        text-align: right;\n",
       "    }\n",
       "</style>\n",
       "<table border=\"1\" class=\"dataframe\">\n",
       "  <thead>\n",
       "    <tr style=\"text-align: right;\">\n",
       "      <th></th>\n",
       "      <th>date</th>\n",
       "      <th>group</th>\n",
       "      <th>transaction_id</th>\n",
       "      <th>visitor_id</th>\n",
       "      <th>revenue</th>\n",
       "    </tr>\n",
       "  </thead>\n",
       "  <tbody>\n",
       "    <tr>\n",
       "      <th>55</th>\n",
       "      <td>2019-08-01</td>\n",
       "      <td>A</td>\n",
       "      <td>24</td>\n",
       "      <td>20</td>\n",
       "      <td>148579</td>\n",
       "    </tr>\n",
       "    <tr>\n",
       "      <th>66</th>\n",
       "      <td>2019-08-01</td>\n",
       "      <td>B</td>\n",
       "      <td>21</td>\n",
       "      <td>20</td>\n",
       "      <td>101217</td>\n",
       "    </tr>\n",
       "    <tr>\n",
       "      <th>175</th>\n",
       "      <td>2019-08-02</td>\n",
       "      <td>A</td>\n",
       "      <td>44</td>\n",
       "      <td>38</td>\n",
       "      <td>242401</td>\n",
       "    </tr>\n",
       "    <tr>\n",
       "      <th>173</th>\n",
       "      <td>2019-08-02</td>\n",
       "      <td>B</td>\n",
       "      <td>45</td>\n",
       "      <td>43</td>\n",
       "      <td>266748</td>\n",
       "    </tr>\n",
       "  </tbody>\n",
       "</table>\n",
       "</div>"
      ],
      "text/plain": [
       "           date group  transaction_id  visitor_id  revenue\n",
       "55   2019-08-01     A              24          20   148579\n",
       "66   2019-08-01     B              21          20   101217\n",
       "175  2019-08-02     A              44          38   242401\n",
       "173  2019-08-02     B              45          43   266748"
      ]
     },
     "execution_count": 22,
     "metadata": {},
     "output_type": "execute_result"
    }
   ],
   "source": [
    "# собираем таблицу с кумулятивными данными по заказам, пользователям и выручке\n",
    "\n",
    "orders_aggregated = (\n",
    "    dates_groups.apply(lambda x: orders[np.logical_and(orders['date']<=x['date'], orders['group']==x['group'])]\n",
    "    .agg({'date':'max', 'group':'max', 'transaction_id':'nunique', 'visitor_id':'nunique', 'revenue':'sum'}), axis=1)\n",
    ")\n",
    "orders_aggregated.head(4)"
   ]
  },
  {
   "cell_type": "code",
   "execution_count": 23,
   "metadata": {
    "scrolled": true
   },
   "outputs": [
    {
     "data": {
      "text/html": [
       "<div>\n",
       "<style scoped>\n",
       "    .dataframe tbody tr th:only-of-type {\n",
       "        vertical-align: middle;\n",
       "    }\n",
       "\n",
       "    .dataframe tbody tr th {\n",
       "        vertical-align: top;\n",
       "    }\n",
       "\n",
       "    .dataframe thead th {\n",
       "        text-align: right;\n",
       "    }\n",
       "</style>\n",
       "<table border=\"1\" class=\"dataframe\">\n",
       "  <thead>\n",
       "    <tr style=\"text-align: right;\">\n",
       "      <th></th>\n",
       "      <th>date</th>\n",
       "      <th>group</th>\n",
       "      <th>visitors</th>\n",
       "    </tr>\n",
       "  </thead>\n",
       "  <tbody>\n",
       "    <tr>\n",
       "      <th>55</th>\n",
       "      <td>2019-08-01</td>\n",
       "      <td>A</td>\n",
       "      <td>719</td>\n",
       "    </tr>\n",
       "    <tr>\n",
       "      <th>66</th>\n",
       "      <td>2019-08-01</td>\n",
       "      <td>B</td>\n",
       "      <td>713</td>\n",
       "    </tr>\n",
       "    <tr>\n",
       "      <th>175</th>\n",
       "      <td>2019-08-02</td>\n",
       "      <td>A</td>\n",
       "      <td>1338</td>\n",
       "    </tr>\n",
       "    <tr>\n",
       "      <th>173</th>\n",
       "      <td>2019-08-02</td>\n",
       "      <td>B</td>\n",
       "      <td>1294</td>\n",
       "    </tr>\n",
       "  </tbody>\n",
       "</table>\n",
       "</div>"
      ],
      "text/plain": [
       "           date group  visitors\n",
       "55   2019-08-01     A       719\n",
       "66   2019-08-01     B       713\n",
       "175  2019-08-02     A      1338\n",
       "173  2019-08-02     B      1294"
      ]
     },
     "execution_count": 23,
     "metadata": {},
     "output_type": "execute_result"
    }
   ],
   "source": [
    "# собираем таблицу с кумулятивными данными по пользователям\n",
    "\n",
    "visitors_aggregated = (\n",
    "    dates_groups.apply(lambda x: visitors[np.logical_and(visitors['date']<=x['date'], visitors['group']==x['group'])]\n",
    "    .agg({'date':'max', 'group':'max', 'visitors':'sum'}), axis=1)               \n",
    ")\n",
    "visitors_aggregated.head(4)"
   ]
  },
  {
   "cell_type": "code",
   "execution_count": 24,
   "metadata": {},
   "outputs": [],
   "source": [
    "# объедняем кумулятивные данные в одну таблицу: в ней будут дата, группа, кумулятивное кол-во заказов к этой дате,\n",
    "# кумулятивное кол-во покупателей к этой дате, кумулятивная выручка, а также кумулятивное кол-во посетителей\n",
    "\n",
    "cumulative_data = orders_aggregated.merge(visitors_aggregated, left_on=['date', 'group'], right_on=['date','group'])\n"
   ]
  },
  {
   "cell_type": "code",
   "execution_count": 25,
   "metadata": {
    "scrolled": true
   },
   "outputs": [
    {
     "data": {
      "text/html": [
       "<div>\n",
       "<style scoped>\n",
       "    .dataframe tbody tr th:only-of-type {\n",
       "        vertical-align: middle;\n",
       "    }\n",
       "\n",
       "    .dataframe tbody tr th {\n",
       "        vertical-align: top;\n",
       "    }\n",
       "\n",
       "    .dataframe thead th {\n",
       "        text-align: right;\n",
       "    }\n",
       "</style>\n",
       "<table border=\"1\" class=\"dataframe\">\n",
       "  <thead>\n",
       "    <tr style=\"text-align: right;\">\n",
       "      <th></th>\n",
       "      <th>date</th>\n",
       "      <th>group</th>\n",
       "      <th>orders</th>\n",
       "      <th>buyers</th>\n",
       "      <th>revenue</th>\n",
       "      <th>visitors</th>\n",
       "    </tr>\n",
       "  </thead>\n",
       "  <tbody>\n",
       "    <tr>\n",
       "      <th>0</th>\n",
       "      <td>2019-08-01</td>\n",
       "      <td>A</td>\n",
       "      <td>24</td>\n",
       "      <td>20</td>\n",
       "      <td>148579</td>\n",
       "      <td>719</td>\n",
       "    </tr>\n",
       "  </tbody>\n",
       "</table>\n",
       "</div>"
      ],
      "text/plain": [
       "         date group  orders  buyers  revenue  visitors\n",
       "0  2019-08-01     A      24      20   148579       719"
      ]
     },
     "execution_count": 25,
     "metadata": {},
     "output_type": "execute_result"
    }
   ],
   "source": [
    "# заменим названия нескольких столбцов на те, которые будут лучше отражать смысл агрегированных данных: \n",
    "# transaction_id на orders, а visitor_id на bayers\n",
    "\n",
    "cumulative_data = cumulative_data.rename(columns={'transaction_id':'orders', 'visitor_id':'buyers'})\n",
    "cumulative_data.head(1)"
   ]
  },
  {
   "cell_type": "code",
   "execution_count": 26,
   "metadata": {
    "scrolled": true
   },
   "outputs": [],
   "source": [
    "# сохраним отдельно данные с кумулятивным кол-вом заказов и кумулятивной выручкой в группе А\n",
    "\n",
    "cumulative_revenue_a = cumulative_data.query('group==\"A\"')[['date', 'orders', 'revenue']]"
   ]
  },
  {
   "cell_type": "code",
   "execution_count": 27,
   "metadata": {},
   "outputs": [],
   "source": [
    "# то же самое сделаем с группой B\n",
    "\n",
    "cumulative_revenue_b = cumulative_data.query('group==\"B\"')[['date', 'orders','revenue']]"
   ]
  },
  {
   "cell_type": "code",
   "execution_count": 28,
   "metadata": {
    "scrolled": true
   },
   "outputs": [
    {
     "data": {
      "image/png": "[encoded data removed]",
      "text/plain": [
       "<Figure size 720x432 with 1 Axes>"
      ]
     },
     "metadata": {
      "needs_background": "light"
     },
     "output_type": "display_data"
    }
   ],
   "source": [
    "# строим графики кумулятивных выручек обеих групп\n",
    "\n",
    "register_matplotlib_converters()\n",
    "\n",
    "plt.figure(figsize=(10, 6)) \n",
    "\n",
    "plt.plot(cumulative_revenue_a['date'], cumulative_revenue_a['revenue'], label='A')\n",
    "\n",
    "plt.plot(cumulative_revenue_b['date'], cumulative_revenue_b['revenue'], label='B')\n",
    "\n",
    "plt.xlabel('Кумулятивная выручка')\n",
    "plt.ylabel('Дата проведения теста')\n",
    "plt.legend()\n",
    "plt.title('График кумулятивной выручки')\n",
    "plt.legend() \n",
    "plt.show()"
   ]
  },
  {
   "cell_type": "markdown",
   "metadata": {},
   "source": [
    "График кумулятивной выручки по обеим группам демонстрирует, что выручка росла на протяжении всего теста для обеих групп. В глаза бросается резкий скачок в группе В 19 августа. Это может быть связано, как с резким увеличением заказов в эту дату, так и с аномалией - нестандартно дорогими заказами. "
   ]
  },
  {
   "cell_type": "code",
   "execution_count": 29,
   "metadata": {
    "scrolled": true
   },
   "outputs": [
    {
     "data": {
      "image/png": "[encoded data removed]",
      "text/plain": [
       "<Figure size 720x432 with 1 Axes>"
      ]
     },
     "metadata": {
      "needs_background": "light"
     },
     "output_type": "display_data"
    }
   ],
   "source": [
    "# построим графики кумулятивного среднего чека для обеих групп\n",
    "\n",
    "plt.figure(figsize=(10, 6))\n",
    "\n",
    "plt.plot(cumulative_revenue_a['date'], cumulative_revenue_a['revenue']/cumulative_revenue_a['orders'], label=\"A\")\n",
    "plt.plot(cumulative_revenue_b['date'], cumulative_revenue_b['revenue']/cumulative_revenue_b['orders'], label=\"B\")\n",
    "plt.xlabel('Дата проведения теста')\n",
    "plt.ylabel('Кумулятивный средний чек')\n",
    "plt.title('График кумулятивного среднего чека')\n",
    "plt.legend()\n",
    "plt.show()"
   ]
  },
  {
   "cell_type": "markdown",
   "metadata": {},
   "source": [
    "Глядя на график можно сказать, что в группе B наблюдается резкий скачок в среднем чеке 19 августа, скачок в эту дату был заметен также на графике кумулятивной выручки. Судя по всему в этот день заказы были аномально дорогими, а, значит, рассматриваемому показателю в этой группе понадобится время и больше данных, чтобы стабилизироваться на уровне реального среднего чека. \n",
    "\n",
    "Средний чек группы A тоже быстро рос 8 по 13 апреля, однако этот рост был не таким кардинальным, как в группе B. Затем скачки сбавили амплитуду, но судя по графику средний чек группы А пока не стабилизировался окончательно. "
   ]
  },
  {
   "cell_type": "code",
   "execution_count": 30,
   "metadata": {
    "scrolled": true
   },
   "outputs": [
    {
     "data": {
      "image/png": "[encoded data removed]",
      "text/plain": [
       "<Figure size 720x432 with 1 Axes>"
      ]
     },
     "metadata": {
      "needs_background": "light"
     },
     "output_type": "display_data"
    }
   ],
   "source": [
    "# построим график относительного изменения кумулятивного среднего чека группы B к группе A\n",
    "\n",
    "merged_cumulative_revenue = (\n",
    "    cumulative_revenue_a.merge(cumulative_revenue_b, left_on='date', right_on='date', how='left', suffixes=['A', 'B'])\n",
    ")\n",
    "\n",
    "plt.figure(figsize=(10, 6))\n",
    "plt.plot(\n",
    "    merged_cumulative_revenue['date'], (merged_cumulative_revenue['revenueB']\n",
    "    /merged_cumulative_revenue['ordersB'])/(merged_cumulative_revenue['revenueA']/merged_cumulative_revenue['ordersA']) - 1)\n",
    "\n",
    "plt.title('График относительного изменения кумулятивного среднего чека группы B к группе A')\n",
    "plt.ylabel('Относительное различие в кумулятивном среднем чеке')\n",
    "plt.xlabel('Даты проведения теста')\n",
    "plt.axhline(y=0, color='black', linestyle='--')\n",
    "plt.show()"
   ]
  },
  {
   "cell_type": "markdown",
   "metadata": {},
   "source": [
    "Этот график хорошо показывает, как менялись различия в кумулятивном среднем чеке на протяжении проведения теста. В нескольких местах график достаточно резко скачет, это особенно заметно в начале теста, а также 10 и 19 августа: амплитуда этих скачков от 30 до 45%. \n",
    "\n",
    "Вначале средний чек группы B был на 20% ниже, чем в группе А, но всего за несколько дней ситуация изменилась. На протяжении 10 дней теста группа B лидировала по этому показателю с разницей почти в 40%, потом средний чек сегмента B снизился на 10% в сравнении с этим показателем в группе A, а 19 августа взлетел, после чего продолжил быть заметно больше, несмотря на начавшееся сразу после скачка снижение.\n",
    "\n",
    "График говорит о том, что в данных вероятнее всего есть выбросы - очень дорогие заказы."
   ]
  },
  {
   "cell_type": "code",
   "execution_count": 31,
   "metadata": {
    "scrolled": true
   },
   "outputs": [
    {
     "data": {
      "image/png": "[encoded data removed]",
      "text/plain": [
       "<Figure size 720x432 with 1 Axes>"
      ]
     },
     "metadata": {
      "needs_background": "light"
     },
     "output_type": "display_data"
    }
   ],
   "source": [
    "# построим график кумулятивного среднего количества заказов на посетителя(конверсии) по группам\n",
    "\n",
    "cumulative_data['conversion'] = cumulative_data['orders']/cumulative_data['visitors']\n",
    "\n",
    "cumulative_data_a = cumulative_data.query('group==\"A\"')\n",
    "cumulative_data_b = cumulative_data.query('group==\"B\"')\n",
    "\n",
    "plt.figure(figsize=(10, 6))\n",
    "plt.plot(cumulative_data_a['date'], cumulative_data_a['conversion'], label=\"A\")\n",
    "plt.plot(cumulative_data_b['date'], cumulative_data_b['conversion'], label=\"B\")\n",
    "plt.title('График кумулятивного среднего количества заказов на посетителя по группам')\n",
    "plt.xlabel('Среднее количество заказов на посетителя')\n",
    "plt.ylabel('Даты проведения теста')\n",
    "plt.legend()\n",
    "plt.axis([\"2019-08-01\", '2019-09-01', 0.02, 0.039])\n",
    "plt.show()"
   ]
  },
  {
   "cell_type": "markdown",
   "metadata": {},
   "source": [
    "В начале теста скачки в среднем количестве заказов на посетителя были резкими и встречались в обоих сегментах, что может быть связано, как с хорошей конверсией в покупку новых пользователей, так и с тем, что в тесте пристутствуют покупатели с нестандартным поведением - те, которые делают заказов больше, чем средний покупатель. При том в течение непродолжительного времени группа A лидировала по рассматриваемому показателю. Но приблизительно с конца первой недели теста группа B вырвалась вперед и сохранила свое положение. \n",
    "\n",
    "Конверсия из посетителей в заказы для группы A в начале теста была около 3,3%, затем ненадолго поднялась почти до 3,7%, но с этого момента преимущественно падает. К концу месяца она достигла примерно 3%. \n",
    "\n",
    "Этот показатель у группы B напротив в первые дни теста был значительно ниже - примерно 2,95%, затем заметно вырос и в последние 10 дней теста началось медленное снижение. К концу месяца кумулятивная конверсия из посетителей в заказы составила примерно 3,4%\n",
    "\n",
    "Начиная со второй недели теста скачки также стали менее резкими, но все-таки к концу месяца стабилизация показателя не была достигнула полностью. "
   ]
  },
  {
   "cell_type": "code",
   "execution_count": 32,
   "metadata": {
    "scrolled": true
   },
   "outputs": [
    {
     "data": {
      "image/png": "[encoded data removed]",
      "text/plain": [
       "<Figure size 864x576 with 1 Axes>"
      ]
     },
     "metadata": {
      "needs_background": "light"
     },
     "output_type": "display_data"
    }
   ],
   "source": [
    "# построим график относительного изменения \n",
    "# кумулятивного среднего количества заказов на посетителя группы В к группе А\n",
    "\n",
    "merged_cumulative_conversions = (\n",
    "    cumulative_data_a[['date', 'conversion']]\n",
    "    .merge(cumulative_data_b[['date', 'conversion']], left_on='date', right_on='date', how='left', suffixes=['A', 'B'])\n",
    ")\n",
    "plt.figure(figsize=(12, 8))\n",
    "plt.plot(merged_cumulative_conversions['date'], merged_cumulative_conversions['conversionB']\n",
    "         /merged_cumulative_conversions['conversionA'] - 1)\n",
    "plt.title('График относительного прироста кумулятивного среднего количества заказов на посетителя группы B относительно группы А')\n",
    "plt.ylabel('Относительный прирост кумулятивного ср. кол-ва заказов')\n",
    "plt.xlabel('Даты проведения теста')\n",
    "plt.axhline(y=0, color='black', linestyle='--')\n",
    "plt.axhline(y=-0.1, color='grey', linestyle='--')\n",
    "plt.axis([\"2019-07-31\", '2019-09-01', -0.13, 0.22]) \n",
    "plt.show()"
   ]
  },
  {
   "cell_type": "markdown",
   "metadata": {},
   "source": [
    "Этот график наглядно демонстрирует различие между кумулятивным средним в количестве заказов в разных сегментах теста, позволяет численно оценить относительную разницу, которая была заметна на предыдущем графике. \n",
    "\n",
    "В самом начале теста результаты группы B по среднему количеству заказов были меньше приблизительно на 12% относительно группы А, после этого последовало резкое колебание метрики вверх-вниз: результаты группы В сначала превзошли результаты второго сегмента, потом снова были ниже примерно на 8%. После этого разница в кумулятивном среднем количестве заказов на пользователя была в пользу сегмента В: на пике она достигла 20%, затем несколько снизилась, а в последние дни снова начала расти. По последним имеющимся данным относительная разница составляет около 14% в пользу группы В.\n",
    "\n",
    "Судя по графику рассматриваемый показатель начал стабилизироваться примерно с 21 августа."
   ]
  },
  {
   "cell_type": "markdown",
   "metadata": {},
   "source": [
    "**Промежуточные выводы по анализу графиков кумулятивных метрик**\n",
    "\n",
    "**Пока все графики демонстрируют превосходство группы В, как в среднем чеке, так и в количестве заказов. Но из-за вида графиков возникло предположение, что в данных есть аномалии**\n",
    "\n",
    "На основании графиков кумулятивной выручки и кумулятивного среднего чека в изучаемых сегментах, возникло подозрение, что в данных могут присутствовать выбросы и аномалии. На обоих графиках присутствуют резкие скачки показателя, что вероятнее всего связано с нестандартным пользовательским поведением, которое может повредить достоверности статистического теста. Далее исследуем данные на предмет аномалий."
   ]
  },
  {
   "cell_type": "markdown",
   "metadata": {},
   "source": [
    "### Поиск выбросов и аномалий\n",
    "<a id='header_13'></a>"
   ]
  },
  {
   "cell_type": "code",
   "execution_count": 33,
   "metadata": {
    "scrolled": false
   },
   "outputs": [
    {
     "data": {
      "image/png": "[encoded data removed]",
      "text/plain": [
       "<Figure size 432x288 with 1 Axes>"
      ]
     },
     "metadata": {
      "needs_background": "light"
     },
     "output_type": "display_data"
    }
   ],
   "source": [
    "# построим точечный график количества заказов по пользователям\n",
    "\n",
    "orders_by_buyers = (\n",
    "    orders.groupby('visitor_id', as_index=False)\n",
    "    .agg({'transaction_id':'nunique'})\n",
    ")\n",
    "\n",
    "orders_by_buyers.columns = ['visitor_id', 'orders']\n",
    "x_values = pd.Series(range(0, len(orders_by_buyers)))\n",
    "plt.scatter(x_values, orders_by_buyers['orders'])\n",
    "\n",
    "plt.title('Распределение количества заказов по пользователям', fontsize=14)\n",
    "plt.ylabel('Количество заказов', fontsize=12)\n",
    "\n",
    "\n",
    "plt.grid(True, alpha=0.3)\n",
    "\n",
    "plt.tight_layout()\n",
    "plt.show()"
   ]
  },
  {
   "cell_type": "markdown",
   "metadata": {},
   "source": [
    "По этому графику отчетливно видно, что преимущественно, покупатели совершают одну покупку, реже две. Есть покупатели, которые не ограничиваются 1-2 покупками, но их немного. Можно увидеть совсем редкие случаи с 8, 9 и 11 заказами. \n",
    "\n",
    "Далее проверим сколько заказов совершают 95% и 99% всех пользователей. Это поможет установить границу для разграничения нормального и аномального количества заказов на 1 покупателя. "
   ]
  },
  {
   "cell_type": "code",
   "execution_count": 34,
   "metadata": {
    "scrolled": true
   },
   "outputs": [
    {
     "data": {
      "text/plain": [
       "'Не более 5% пользователей оформляли больше чем 2.0 заказов.'"
      ]
     },
     "metadata": {},
     "output_type": "display_data"
    },
    {
     "data": {
      "text/plain": [
       "'Не более 1% пользователей оформляли больше чем 4.0 заказов.'"
      ]
     },
     "execution_count": 34,
     "metadata": {},
     "output_type": "execute_result"
    }
   ],
   "source": [
    "# найдем 95 и 99 процентили в количестве заказов пользователей\n",
    "\n",
    "percentile_95, percentile_99 = np.percentile(orders_by_buyers['orders'], [95, 99])\n",
    "\n",
    "display(f'Не более 5% пользователей оформляли больше чем {percentile_95} заказов.')\n",
    "f'Не более 1% пользователей оформляли больше чем {percentile_99} заказов.'"
   ]
  },
  {
   "cell_type": "markdown",
   "metadata": {},
   "source": [
    "Выберем 2 заказа в качестве верхней допустимой границы для количества заказов на пользователя, так как таким образом мы сохраним большую часть данных, но избавимся от наиболее экстремальных значений."
   ]
  },
  {
   "cell_type": "code",
   "execution_count": 35,
   "metadata": {},
   "outputs": [
    {
     "data": {
      "image/png": "[encoded data removed]",
      "text/plain": [
       "<Figure size 432x288 with 1 Axes>"
      ]
     },
     "metadata": {
      "needs_background": "light"
     },
     "output_type": "display_data"
    }
   ],
   "source": [
    "# посмотрим точечный график для стоимости заказов, но добавим цветовую кодировку, чтобы увидеть распределение стоимости заказов\n",
    "# по группам теста\n",
    "\n",
    "sns.scatterplot(data= orders, x=pd.Series(range(0, len(orders['revenue']))), y='revenue', hue=\"group\")\n",
    "\n",
    "plt.title('Точечная диаграмма стоимости заказов', fontsize=14)\n",
    "plt.ylabel('Стоимость заказа', fontsize=12)\n",
    "\n",
    "plt.grid(True, alpha=0.3)\n",
    "\n",
    "plt.tight_layout()\n",
    "plt.show()\n"
   ]
  },
  {
   "cell_type": "markdown",
   "metadata": {},
   "source": [
    "На графике видна общая масса заказов, которая вся сгруппировалась внизу и два отделившихся заказа, один из которых почти достиг \"потолка\" графика из-за своей стоимости в приблизительно 1 200 000 рублей. Это выброс.\n",
    "\n",
    "**Точечная диаграмма с цветовой кодировкой разных групп теста позволила увидеть, что наиболее дорогие заказы были сделаны пользователями из группы В**\n",
    "\n",
    "Посмотрим на распределение менее крупных заказов отдельно."
   ]
  },
  {
   "cell_type": "code",
   "execution_count": 36,
   "metadata": {},
   "outputs": [
    {
     "data": {
      "image/png": "[encoded data removed]",
      "text/plain": [
       "<Figure size 432x288 with 1 Axes>"
      ]
     },
     "metadata": {
      "needs_background": "light"
     },
     "output_type": "display_data"
    }
   ],
   "source": [
    "# сделаем срез из датасета orders с условием, что выручка с заказа не больше 50 000р, \n",
    "# чтобы посмотреть на распределение более мелких заказов\n",
    "\n",
    "orders_slice = orders.query('revenue < 50000')\n",
    "sns.scatterplot(data= orders_slice, x=pd.Series(range(0, len(orders_slice['revenue']))), y='revenue', hue=\"group\")\n",
    "\n",
    "plt.title('Точечная диаграмма стоимости заказов дешевле 50 000р', fontsize=14)\n",
    "plt.ylabel('Стоимость заказа', fontsize=12)\n",
    "\n",
    "plt.grid(True, alpha=0.3)\n",
    "\n",
    "plt.tight_layout()\n",
    "plt.show()"
   ]
  },
  {
   "cell_type": "markdown",
   "metadata": {},
   "source": [
    "Этот график отчетливее показывает, что большая часть заказов находится в диапазоне от 0 до 5000 рублей. В данных периодически встречаются и более дорогие заказы, но их количество не так значительно. Судя по графику заказ стоимостью около 40 000 рублей уже можно считать редкостью.\n",
    "\n",
    "Далее найдем 95 и 99 процентили, чтобы выбрать границу, по которой будем проводить чистку аномалий."
   ]
  },
  {
   "cell_type": "code",
   "execution_count": 37,
   "metadata": {},
   "outputs": [
    {
     "data": {
      "text/plain": [
       "'Не более 5% заказов дороже 28000.000000000004 рублей'"
      ]
     },
     "metadata": {},
     "output_type": "display_data"
    },
    {
     "data": {
      "text/plain": [
       "'Не более 1% заказов дороже 58233.19999999999 рублей'"
      ]
     },
     "execution_count": 37,
     "metadata": {},
     "output_type": "execute_result"
    }
   ],
   "source": [
    "# найдем 95 и 99 процентили стоимости заказов\n",
    "\n",
    "revenue_percentile_95, revenue_percentile_99 = np.percentile(orders['revenue'], [95, 99])\n",
    "display(f'Не более 5% заказов дороже {revenue_percentile_95} рублей')\n",
    "f'Не более 1% заказов дороже {revenue_percentile_99} рублей'"
   ]
  },
  {
   "cell_type": "markdown",
   "metadata": {},
   "source": [
    "Пожалуй, откажемся от 5% данных, чтобы исключить аномально высокие значения стоимости заказов. "
   ]
  },
  {
   "cell_type": "markdown",
   "metadata": {},
   "source": [
    "### Расчет статистической значимости различий в среднем количестве заказов по неочищенным данным\n",
    "<a id='header_14'></a>"
   ]
  },
  {
   "cell_type": "markdown",
   "metadata": {},
   "source": [
    "Сформулируем нулевую и альтернативную гипотезы:\n",
    "\n",
    "H0: среднее количество заказов в обеих группах одинаковое\n",
    "\n",
    "H1: Среднее количество заказов в группах разное\n",
    "\n",
    "Для того, чтобы применить стат-тест для определения статистически значимой разницы, необходимо подготовить данные к анализу. В подготовленную таблицу войдут данные, содержащие дату проведения теста, агрегированные данные на каждую дату теста, а также кумулятивные данные к каждой дате теста. \n",
    "\n",
    "Список столбцов, которые будут входить в таблицу:\n",
    "\n",
    "- date — дата;\n",
    "- orders_per_date_a — количество заказов в выбранную дату в группе A;\n",
    "- revenue_per_date_a — суммарная выручка в выбранную дату в группе A;\n",
    "- orders_per_date_b — количество заказов в выбранную дату в группе B;\n",
    "- revenue_per_date_b — суммарная выручка в выбранную дату в группе B;\n",
    "- orders_cumulative_a — суммарное число заказов до выбранной даты включительно в группе A;\n",
    "- revenue_cumulative_a— суммарная выручка до выбранной даты включительно в группе A;\n",
    "- orders_cumulative_b — суммарное количество заказов до выбранной даты включительно в группе B;\n",
    "- revenue_cumulative_b — суммарная выручка до выбранной даты включительно в группе B;\n",
    "- visitors_per_date_a — количество пользователей в выбранную дату в группе A;\n",
    "- visitors_per_date_b — количество пользователей в выбранную дату в группе B;\n",
    "- visitors_cumulative_a — количество пользователей до выбранной даты включительно в группе A;\n",
    "- visitors_cumulative_b — количество пользователей до выбранной даты включительно в группе B."
   ]
  },
  {
   "cell_type": "code",
   "execution_count": 38,
   "metadata": {},
   "outputs": [
    {
     "data": {
      "text/html": [
       "<div>\n",
       "<style scoped>\n",
       "    .dataframe tbody tr th:only-of-type {\n",
       "        vertical-align: middle;\n",
       "    }\n",
       "\n",
       "    .dataframe tbody tr th {\n",
       "        vertical-align: top;\n",
       "    }\n",
       "\n",
       "    .dataframe thead th {\n",
       "        text-align: right;\n",
       "    }\n",
       "</style>\n",
       "<table border=\"1\" class=\"dataframe\">\n",
       "  <thead>\n",
       "    <tr style=\"text-align: right;\">\n",
       "      <th></th>\n",
       "      <th>date</th>\n",
       "      <th>orders_per_date_a</th>\n",
       "      <th>revenue_per_date_a</th>\n",
       "      <th>orders_per_date_b</th>\n",
       "      <th>revenue_per_date_b</th>\n",
       "      <th>orders_cumulative_a</th>\n",
       "      <th>revenue_cumulative_a</th>\n",
       "      <th>orders_cumulative_b</th>\n",
       "      <th>revenue_cumulative_b</th>\n",
       "      <th>visitors_per_date_a</th>\n",
       "      <th>visitors_per_date_b</th>\n",
       "      <th>visitors_cumulative_a</th>\n",
       "      <th>visitors_cumulative_b</th>\n",
       "    </tr>\n",
       "  </thead>\n",
       "  <tbody>\n",
       "    <tr>\n",
       "      <th>0</th>\n",
       "      <td>2019-08-01</td>\n",
       "      <td>24</td>\n",
       "      <td>148579</td>\n",
       "      <td>21</td>\n",
       "      <td>101217</td>\n",
       "      <td>24</td>\n",
       "      <td>148579</td>\n",
       "      <td>21</td>\n",
       "      <td>101217</td>\n",
       "      <td>719</td>\n",
       "      <td>713</td>\n",
       "      <td>719</td>\n",
       "      <td>713</td>\n",
       "    </tr>\n",
       "    <tr>\n",
       "      <th>1</th>\n",
       "      <td>2019-08-02</td>\n",
       "      <td>20</td>\n",
       "      <td>93822</td>\n",
       "      <td>24</td>\n",
       "      <td>165531</td>\n",
       "      <td>44</td>\n",
       "      <td>242401</td>\n",
       "      <td>45</td>\n",
       "      <td>266748</td>\n",
       "      <td>619</td>\n",
       "      <td>581</td>\n",
       "      <td>1338</td>\n",
       "      <td>1294</td>\n",
       "    </tr>\n",
       "    <tr>\n",
       "      <th>2</th>\n",
       "      <td>2019-08-03</td>\n",
       "      <td>24</td>\n",
       "      <td>112473</td>\n",
       "      <td>16</td>\n",
       "      <td>114248</td>\n",
       "      <td>68</td>\n",
       "      <td>354874</td>\n",
       "      <td>61</td>\n",
       "      <td>380996</td>\n",
       "      <td>507</td>\n",
       "      <td>509</td>\n",
       "      <td>1845</td>\n",
       "      <td>1803</td>\n",
       "    </tr>\n",
       "    <tr>\n",
       "      <th>3</th>\n",
       "      <td>2019-08-04</td>\n",
       "      <td>16</td>\n",
       "      <td>70825</td>\n",
       "      <td>17</td>\n",
       "      <td>108571</td>\n",
       "      <td>84</td>\n",
       "      <td>425699</td>\n",
       "      <td>78</td>\n",
       "      <td>489567</td>\n",
       "      <td>717</td>\n",
       "      <td>770</td>\n",
       "      <td>2562</td>\n",
       "      <td>2573</td>\n",
       "    </tr>\n",
       "    <tr>\n",
       "      <th>4</th>\n",
       "      <td>2019-08-05</td>\n",
       "      <td>25</td>\n",
       "      <td>124218</td>\n",
       "      <td>23</td>\n",
       "      <td>92428</td>\n",
       "      <td>109</td>\n",
       "      <td>549917</td>\n",
       "      <td>101</td>\n",
       "      <td>581995</td>\n",
       "      <td>756</td>\n",
       "      <td>707</td>\n",
       "      <td>3318</td>\n",
       "      <td>3280</td>\n",
       "    </tr>\n",
       "  </tbody>\n",
       "</table>\n",
       "</div>"
      ],
      "text/plain": [
       "         date  orders_per_date_a  revenue_per_date_a  orders_per_date_b  \\\n",
       "0  2019-08-01                 24              148579                 21   \n",
       "1  2019-08-02                 20               93822                 24   \n",
       "2  2019-08-03                 24              112473                 16   \n",
       "3  2019-08-04                 16               70825                 17   \n",
       "4  2019-08-05                 25              124218                 23   \n",
       "\n",
       "   revenue_per_date_b  orders_cumulative_a  revenue_cumulative_a  \\\n",
       "0              101217                   24                148579   \n",
       "1              165531                   44                242401   \n",
       "2              114248                   68                354874   \n",
       "3              108571                   84                425699   \n",
       "4               92428                  109                549917   \n",
       "\n",
       "   orders_cumulative_b  revenue_cumulative_b  visitors_per_date_a  \\\n",
       "0                   21                101217                  719   \n",
       "1                   45                266748                  619   \n",
       "2                   61                380996                  507   \n",
       "3                   78                489567                  717   \n",
       "4                  101                581995                  756   \n",
       "\n",
       "   visitors_per_date_b  visitors_cumulative_a  visitors_cumulative_b  \n",
       "0                  713                    719                    713  \n",
       "1                  581                   1338                   1294  \n",
       "2                  509                   1845                   1803  \n",
       "3                  770                   2562                   2573  \n",
       "4                  707                   3318                   3280  "
      ]
     },
     "execution_count": 38,
     "metadata": {},
     "output_type": "execute_result"
    }
   ],
   "source": [
    "# соберем таблицу data, которая будет содержать данные по обеим группам теста: агрегированные данные на конкретную \n",
    "# дату + кумулятивные данные\n",
    "\n",
    "# делаем срез группы А из таблицы с посетителями \n",
    "visitors_a_daily = visitors.query('group==\"A\"')[['date','visitors']]\n",
    "visitors_a_daily.columns = ['date', 'visitors_per_date_a']\n",
    "\n",
    "# считаем кумулятивное количество посетителей в группе А\n",
    "visitors_a_cumulative = (\n",
    "    visitors_a_daily.apply(lambda x: visitors_a_daily[visitors_a_daily['date']<=x['date']]\n",
    "    .agg({'date':'max', 'visitors_per_date_a':'sum'}), axis=1)\n",
    ")\n",
    "visitors_a_cumulative.columns = ['date', 'visitors_cumulative_a']\n",
    "\n",
    "# делаем срез группы В из таблицы с посетителями\n",
    "visitors_b_daily = visitors.query('group==\"B\"')[['date','visitors']]\n",
    "visitors_b_daily.columns = ['date', 'visitors_per_date_b']\n",
    "\n",
    "# считаем кумулятивное количество посетителей в группе В\n",
    "visitors_b_cumulative = (\n",
    "    visitors_b_daily.apply(lambda x: visitors_b_daily[visitors_b_daily['date']<=x['date']]\n",
    "    .agg({'date':'max', 'visitors_per_date_b':'sum'}), axis=1)\n",
    ")\n",
    "visitors_b_cumulative.columns = ['date', 'visitors_cumulative_b']\n",
    "\n",
    "# делаем срез группы А с данными о заказах и группируем их по дате теста. Считаем агрегированные заказы и выручку по дням\n",
    "orders_a_daily = (\n",
    "    orders.query('group==\"A\"')[['date', 'transaction_id', 'visitor_id', 'revenue']]\n",
    "    .groupby('date', as_index=False)\n",
    "    .agg({'transaction_id':pd.Series.nunique, 'revenue':'sum'})\n",
    ")\n",
    "orders_a_daily.columns = ['date', 'orders_per_date_a', 'revenue_per_date_a']\n",
    "\n",
    "# считаем кумулятивные заказы и выручку для группы А\n",
    "orders_a_cumulative = (\n",
    "    orders_a_daily.apply(lambda x: orders_a_daily[orders_a_daily['date']<=x['date']]\n",
    "    .agg({'date':'max', 'orders_per_date_a':'sum', 'revenue_per_date_a':'sum'}), axis=1)\n",
    "    .sort_values(by=['date'])\n",
    ")\n",
    "orders_a_cumulative.columns = ['date', 'orders_cumulative_a', 'revenue_cumulative_a']\n",
    "\n",
    "## делаем срез группы В с данными о заказах и группируем их по дате теста. Считаем агрегированные заказы и выручку по дням\n",
    "orders_b_daily = (\n",
    "    orders.query('group==\"B\"')[['date', 'transaction_id', 'visitor_id', 'revenue']]\n",
    "    .groupby('date', as_index=False)\n",
    "    .agg({'transaction_id':pd.Series.nunique, 'revenue':'sum'})\n",
    ")\n",
    "orders_b_daily.columns = ['date', 'orders_per_date_b', 'revenue_per_date_b']\n",
    "\n",
    "# считаем кумулятивные заказы и выручку группы В\n",
    "orders_b_cumulative = (\n",
    "    orders_b_daily.apply(lambda x: orders_b_daily[orders_b_daily['date']<=x['date']]\n",
    "    .agg({'date':'max', 'orders_per_date_b':'sum', 'revenue_per_date_b':'sum'}), axis=1)\n",
    "    .sort_values(by=['date'])\n",
    ")\n",
    "orders_b_cumulative.columns = ['date', 'orders_cumulative_b', 'revenue_cumulative_b']\n",
    "\n",
    "# собираем все рассчитанные данные в единую таблицу\n",
    "data = (\n",
    "    orders_a_daily.merge(orders_b_daily, left_on='date', right_on='date', how='left')\n",
    "    .merge(orders_a_cumulative, left_on='date', right_on='date', how='left')\n",
    "    .merge(orders_b_cumulative, left_on='date', right_on='date', how='left')\n",
    "    .merge(visitors_a_daily, left_on='date', right_on='date', how='left')\n",
    "    .merge(visitors_b_daily, left_on='date', right_on='date', how='left')\n",
    "    .merge(visitors_a_cumulative, left_on='date', right_on='date', how='left')\n",
    "    .merge(visitors_b_cumulative, left_on='date', right_on='date', how='left')\n",
    ")\n",
    "\n",
    "data.head(5)"
   ]
  },
  {
   "cell_type": "markdown",
   "metadata": {},
   "source": [
    "Для того, чтобы вычислить статистически значимую разницу в среднем количестве заказов на посетителя между разными группами, необходимо создать две выборки с количеством заказов, которые сделали пользователи разных групп. "
   ]
  },
  {
   "cell_type": "code",
   "execution_count": 39,
   "metadata": {},
   "outputs": [
    {
     "data": {
      "text/html": [
       "<div>\n",
       "<style scoped>\n",
       "    .dataframe tbody tr th:only-of-type {\n",
       "        vertical-align: middle;\n",
       "    }\n",
       "\n",
       "    .dataframe tbody tr th {\n",
       "        vertical-align: top;\n",
       "    }\n",
       "\n",
       "    .dataframe thead th {\n",
       "        text-align: right;\n",
       "    }\n",
       "</style>\n",
       "<table border=\"1\" class=\"dataframe\">\n",
       "  <thead>\n",
       "    <tr style=\"text-align: right;\">\n",
       "      <th></th>\n",
       "      <th>visitor_id</th>\n",
       "      <th>orders</th>\n",
       "    </tr>\n",
       "  </thead>\n",
       "  <tbody>\n",
       "    <tr>\n",
       "      <th>0</th>\n",
       "      <td>8300375</td>\n",
       "      <td>1</td>\n",
       "    </tr>\n",
       "    <tr>\n",
       "      <th>1</th>\n",
       "      <td>11685486</td>\n",
       "      <td>1</td>\n",
       "    </tr>\n",
       "  </tbody>\n",
       "</table>\n",
       "</div>"
      ],
      "text/plain": [
       "   visitor_id  orders\n",
       "0     8300375       1\n",
       "1    11685486       1"
      ]
     },
     "execution_count": 39,
     "metadata": {},
     "output_type": "execute_result"
    }
   ],
   "source": [
    "# сгруппируем orders по visitor_id и посчитаем количество заказов за время теста для группы А\n",
    "\n",
    "orders_by_visitors_a = (\n",
    "    orders.query('group==\"A\"')\n",
    "    .groupby('visitor_id', as_index=False)\n",
    "    .agg({'transaction_id':pd.Series.nunique})\n",
    ")\n",
    "orders_by_visitors_a.columns = ['visitor_id', 'orders']\n",
    "orders_by_visitors_a.head(2)"
   ]
  },
  {
   "cell_type": "code",
   "execution_count": 40,
   "metadata": {},
   "outputs": [
    {
     "data": {
      "text/html": [
       "<div>\n",
       "<style scoped>\n",
       "    .dataframe tbody tr th:only-of-type {\n",
       "        vertical-align: middle;\n",
       "    }\n",
       "\n",
       "    .dataframe tbody tr th {\n",
       "        vertical-align: top;\n",
       "    }\n",
       "\n",
       "    .dataframe thead th {\n",
       "        text-align: right;\n",
       "    }\n",
       "</style>\n",
       "<table border=\"1\" class=\"dataframe\">\n",
       "  <thead>\n",
       "    <tr style=\"text-align: right;\">\n",
       "      <th></th>\n",
       "      <th>visitor_id</th>\n",
       "      <th>orders</th>\n",
       "    </tr>\n",
       "  </thead>\n",
       "  <tbody>\n",
       "    <tr>\n",
       "      <th>0</th>\n",
       "      <td>5114589</td>\n",
       "      <td>1</td>\n",
       "    </tr>\n",
       "    <tr>\n",
       "      <th>1</th>\n",
       "      <td>6958315</td>\n",
       "      <td>1</td>\n",
       "    </tr>\n",
       "  </tbody>\n",
       "</table>\n",
       "</div>"
      ],
      "text/plain": [
       "   visitor_id  orders\n",
       "0     5114589       1\n",
       "1     6958315       1"
      ]
     },
     "execution_count": 40,
     "metadata": {},
     "output_type": "execute_result"
    }
   ],
   "source": [
    "# сгруппируем orders по visitor_id и посчитаем количество заказов за время теста для группы B\n",
    "\n",
    "orders_by_visitors_b = (\n",
    "    orders.query('group==\"B\"')\n",
    "    .groupby('visitor_id', as_index=False)\n",
    "    .agg({'transaction_id':pd.Series.nunique})\n",
    ")\n",
    "orders_by_visitors_b.columns = ['visitor_id', 'orders']\n",
    "orders_by_visitors_b.head(2)"
   ]
  },
  {
   "cell_type": "code",
   "execution_count": 41,
   "metadata": {
    "scrolled": true
   },
   "outputs": [
    {
     "data": {
      "text/plain": [
       "0    18330\n",
       "1      552\n",
       "2       23\n",
       "3        5\n",
       "4        4\n",
       "5        1\n",
       "6        1\n",
       "Name: orders, dtype: int64"
      ]
     },
     "metadata": {},
     "output_type": "display_data"
    },
    {
     "data": {
      "text/plain": [
       "0    18233\n",
       "1      473\n",
       "2       17\n",
       "3        7\n",
       "4        3\n",
       "5        2\n",
       "7        1\n",
       "Name: orders, dtype: int64"
      ]
     },
     "execution_count": 41,
     "metadata": {},
     "output_type": "execute_result"
    }
   ],
   "source": [
    "# создадим две выборки sample_a и sample_b c количеством заказов всех пользователей по группам.\n",
    "# для пользователей, не совершивших заказ, поставим нули\n",
    "\n",
    "sample_a = (\n",
    "    pd.concat([orders_by_visitors_a['orders'],\n",
    "               pd.Series(0, index=np.arange(data['visitors_per_date_a'].sum() - len(orders_by_visitors_a['orders']))\n",
    "                         , name='orders')],axis=0)\n",
    ")\n",
    "\n",
    "sample_b = (\n",
    "    pd.concat([orders_by_visitors_b['orders'],\n",
    "               pd.Series(0, index=np.arange(data['visitors_per_date_b'].sum() - len(orders_by_visitors_b['orders']))\n",
    "                         , name='orders')],axis=0)\n",
    ")\n",
    "\n",
    "# ради интереса проверим, в какой группе присуствуют пользователи, которые совершали больше всего заказов\n",
    "display(sample_b.value_counts())\n",
    "sample_a.value_counts()"
   ]
  },
  {
   "cell_type": "markdown",
   "metadata": {},
   "source": [
    "Случайным образом возникло предположение, что в переданном нам датасете с заказами пользлователей, присутствует проблемы с делением поьзователей на группы. На точечном графике, построенном сразу для всех пользователей, видны были выбросы с пользователями, совершившими 9-11 заказов за время теста. Однако максимальное количество заказов в получившихся у нас выборках соответствует 7. Возможно, один и тот же пользователь попал в обе группы. Проверим это."
   ]
  },
  {
   "cell_type": "code",
   "execution_count": 42,
   "metadata": {},
   "outputs": [
    {
     "data": {
      "text/html": [
       "<div>\n",
       "<style scoped>\n",
       "    .dataframe tbody tr th:only-of-type {\n",
       "        vertical-align: middle;\n",
       "    }\n",
       "\n",
       "    .dataframe tbody tr th {\n",
       "        vertical-align: top;\n",
       "    }\n",
       "\n",
       "    .dataframe thead th {\n",
       "        text-align: right;\n",
       "    }\n",
       "</style>\n",
       "<table border=\"1\" class=\"dataframe\">\n",
       "  <thead>\n",
       "    <tr style=\"text-align: right;\">\n",
       "      <th></th>\n",
       "      <th>visitor_id</th>\n",
       "      <th>orders</th>\n",
       "    </tr>\n",
       "  </thead>\n",
       "  <tbody>\n",
       "    <tr>\n",
       "      <th>487</th>\n",
       "      <td>2038680547</td>\n",
       "      <td>8</td>\n",
       "    </tr>\n",
       "    <tr>\n",
       "      <th>569</th>\n",
       "      <td>2378935119</td>\n",
       "      <td>9</td>\n",
       "    </tr>\n",
       "    <tr>\n",
       "      <th>591</th>\n",
       "      <td>2458001652</td>\n",
       "      <td>11</td>\n",
       "    </tr>\n",
       "    <tr>\n",
       "      <th>1023</th>\n",
       "      <td>4256040402</td>\n",
       "      <td>11</td>\n",
       "    </tr>\n",
       "  </tbody>\n",
       "</table>\n",
       "</div>"
      ],
      "text/plain": [
       "      visitor_id  orders\n",
       "487   2038680547       8\n",
       "569   2378935119       9\n",
       "591   2458001652      11\n",
       "1023  4256040402      11"
      ]
     },
     "execution_count": 42,
     "metadata": {},
     "output_type": "execute_result"
    }
   ],
   "source": [
    "# найдем пользователей, совершивших аномально большое количество заказов\n",
    "\n",
    "orders_by_buyers.query('orders > 7')"
   ]
  },
  {
   "cell_type": "code",
   "execution_count": 43,
   "metadata": {
    "scrolled": true
   },
   "outputs": [
    {
     "data": {
      "text/html": [
       "<div>\n",
       "<style scoped>\n",
       "    .dataframe tbody tr th:only-of-type {\n",
       "        vertical-align: middle;\n",
       "    }\n",
       "\n",
       "    .dataframe tbody tr th {\n",
       "        vertical-align: top;\n",
       "    }\n",
       "\n",
       "    .dataframe thead th {\n",
       "        text-align: right;\n",
       "    }\n",
       "</style>\n",
       "<table border=\"1\" class=\"dataframe\">\n",
       "  <thead>\n",
       "    <tr style=\"text-align: right;\">\n",
       "      <th></th>\n",
       "      <th>transaction_id</th>\n",
       "      <th>visitor_id</th>\n",
       "      <th>date</th>\n",
       "      <th>revenue</th>\n",
       "      <th>group</th>\n",
       "    </tr>\n",
       "  </thead>\n",
       "  <tbody>\n",
       "    <tr>\n",
       "      <th>33</th>\n",
       "      <td>486237576</td>\n",
       "      <td>2378935119</td>\n",
       "      <td>2019-08-15</td>\n",
       "      <td>1650</td>\n",
       "      <td>A</td>\n",
       "    </tr>\n",
       "    <tr>\n",
       "      <th>118</th>\n",
       "      <td>4233533907</td>\n",
       "      <td>2378935119</td>\n",
       "      <td>2019-08-22</td>\n",
       "      <td>3390</td>\n",
       "      <td>A</td>\n",
       "    </tr>\n",
       "    <tr>\n",
       "      <th>179</th>\n",
       "      <td>1784270968</td>\n",
       "      <td>2378935119</td>\n",
       "      <td>2019-08-17</td>\n",
       "      <td>310</td>\n",
       "      <td>A</td>\n",
       "    </tr>\n",
       "    <tr>\n",
       "      <th>391</th>\n",
       "      <td>2213813903</td>\n",
       "      <td>2378935119</td>\n",
       "      <td>2019-08-25</td>\n",
       "      <td>21220</td>\n",
       "      <td>B</td>\n",
       "    </tr>\n",
       "    <tr>\n",
       "      <th>435</th>\n",
       "      <td>2430683444</td>\n",
       "      <td>2378935119</td>\n",
       "      <td>2019-08-28</td>\n",
       "      <td>20450</td>\n",
       "      <td>B</td>\n",
       "    </tr>\n",
       "    <tr>\n",
       "      <th>473</th>\n",
       "      <td>3224706027</td>\n",
       "      <td>2378935119</td>\n",
       "      <td>2019-08-28</td>\n",
       "      <td>4410</td>\n",
       "      <td>B</td>\n",
       "    </tr>\n",
       "    <tr>\n",
       "      <th>697</th>\n",
       "      <td>1612868255</td>\n",
       "      <td>2378935119</td>\n",
       "      <td>2019-08-09</td>\n",
       "      <td>30649</td>\n",
       "      <td>B</td>\n",
       "    </tr>\n",
       "    <tr>\n",
       "      <th>1029</th>\n",
       "      <td>469609643</td>\n",
       "      <td>2378935119</td>\n",
       "      <td>2019-08-10</td>\n",
       "      <td>58220</td>\n",
       "      <td>A</td>\n",
       "    </tr>\n",
       "    <tr>\n",
       "      <th>1031</th>\n",
       "      <td>1661772358</td>\n",
       "      <td>2378935119</td>\n",
       "      <td>2019-08-10</td>\n",
       "      <td>2640</td>\n",
       "      <td>B</td>\n",
       "    </tr>\n",
       "  </tbody>\n",
       "</table>\n",
       "</div>"
      ],
      "text/plain": [
       "      transaction_id  visitor_id        date  revenue group\n",
       "33         486237576  2378935119  2019-08-15     1650     A\n",
       "118       4233533907  2378935119  2019-08-22     3390     A\n",
       "179       1784270968  2378935119  2019-08-17      310     A\n",
       "391       2213813903  2378935119  2019-08-25    21220     B\n",
       "435       2430683444  2378935119  2019-08-28    20450     B\n",
       "473       3224706027  2378935119  2019-08-28     4410     B\n",
       "697       1612868255  2378935119  2019-08-09    30649     B\n",
       "1029       469609643  2378935119  2019-08-10    58220     A\n",
       "1031      1661772358  2378935119  2019-08-10     2640     B"
      ]
     },
     "execution_count": 43,
     "metadata": {},
     "output_type": "execute_result"
    }
   ],
   "source": [
    "# проверим пользователя с id 2378935119. Не регистрировался ли он сразу в обеих группах?\n",
    "\n",
    "orders.query('visitor_id==2378935119')"
   ]
  },
  {
   "cell_type": "markdown",
   "metadata": {},
   "source": [
    "Видимо это так, у нас в датасете есть пользователи, которые участвовали в тесте сразу в обеих группах. Проверим, сколько таких пользователей"
   ]
  },
  {
   "cell_type": "code",
   "execution_count": 44,
   "metadata": {},
   "outputs": [
    {
     "data": {
      "text/plain": [
       "'Количество пользователей, встречающихся сразу в обеих группах теста : 58'"
      ]
     },
     "execution_count": 44,
     "metadata": {},
     "output_type": "execute_result"
    }
   ],
   "source": [
    "# посчитаем количество пользователей, которые присутствуют сразу в обеих группах теста\n",
    "\n",
    "b_visitors = orders.query('group==\"B\"')['visitor_id'].unique()\n",
    "a_visitors = orders.query('group==\"A\"')['visitor_id'].unique()\n",
    "\n",
    "ab_visitors = np.intersect1d(a_visitors, b_visitors)\n",
    "        \n",
    "f'Количество пользователей, встречающихся сразу в обеих группах теста : {len(ab_visitors)}'"
   ]
  },
  {
   "cell_type": "markdown",
   "metadata": {},
   "source": [
    "Наличие пользователей, которые участвуют сразу в обеих группах нарушает принципы проведения A/B-тестирования. \n",
    "\n",
    "Пока посчитаем статистическую значимость различий в среднем числе заказов на пользователя  по «сырым» данным — без удаления аномальных пользователей."
   ]
  },
  {
   "cell_type": "code",
   "execution_count": 45,
   "metadata": {},
   "outputs": [
    {
     "data": {
      "text/plain": [
       "'Значание p_value равно : 0.017'"
      ]
     },
     "metadata": {},
     "output_type": "display_data"
    },
    {
     "name": "stdout",
     "output_type": "stream",
     "text": [
      "Отвергаем нулевую гипотезу, разница статистически значима\n"
     ]
    }
   ],
   "source": [
    "# применим статистический критерий Манна-Уитни для определения, есть ли статистически значимая разница в среднем \n",
    "# количестве заказов в группах теста\n",
    "\n",
    "alpha = 0.05\n",
    "\n",
    "p_value = st.mannwhitneyu(sample_a, sample_b)[1]\n",
    "\n",
    "display(\"Значание p_value равно : {0:.3f}\".format(p_value))\n",
    "\n",
    "if p_value < alpha:\n",
    "    print('Отвергаем нулевую гипотезу, разница статистически значима')\n",
    "else:\n",
    "    print('Не получилось отвергнуть нулевую гипотезу, не получилось обнаружить статистически значимых различий')\n",
    "        "
   ]
  },
  {
   "cell_type": "markdown",
   "metadata": {},
   "source": [
    "Получившееся значение p_value равно 0,017, что ниже принятого уровня статистической значимости 0,05. Значит, нулевую гипотезу о равенстве среднего количества заказов в группах А и В можно отвергнуть. Судя по всему наблюдаемая разница неслучайна. \n",
    "\n",
    "Проверим, каков относительный прирост среднего числа заказов группы В"
   ]
  },
  {
   "cell_type": "code",
   "execution_count": 46,
   "metadata": {
    "scrolled": true
   },
   "outputs": [
    {
     "data": {
      "text/plain": [
       "'Относительный прирост среднего количества заказов группы В составляет 0.138'"
      ]
     },
     "execution_count": 46,
     "metadata": {},
     "output_type": "execute_result"
    }
   ],
   "source": [
    "# найдем относительный прирост среднего количества заказов пользователя группы В к группе А\n",
    "\n",
    "f'Относительный прирост среднего количества заказов группы В составляет {(sample_b.mean()/sample_a.mean() - 1):.3f}'"
   ]
  },
  {
   "cell_type": "markdown",
   "metadata": {},
   "source": [
    "Среднее количество заказов на пользователя у группы В больше на 13%."
   ]
  },
  {
   "cell_type": "markdown",
   "metadata": {},
   "source": [
    "### Расчет статистической значимости различий в среднем чеке в разных группах теста по неочищенным данным\n",
    "<a id='header_15'></a>"
   ]
  },
  {
   "cell_type": "markdown",
   "metadata": {},
   "source": [
    "Сформулируем нулевую и альтернативную гипотезы:\n",
    "\n",
    "- Нулевая гипотеза H0: Средние чеки разных групп теста равны\n",
    "- Альтернативная гипотеза H1: Средние чеки групп А и В отличаются\n",
    "\n",
    "Уровень статистической значимости, необходимой для принятия решения об отвержении нулевой гипотезы, оставим равным 5%"
   ]
  },
  {
   "cell_type": "code",
   "execution_count": 47,
   "metadata": {},
   "outputs": [
    {
     "data": {
      "text/plain": [
       "'Значание p_value равно 0.729'"
      ]
     },
     "metadata": {},
     "output_type": "display_data"
    },
    {
     "name": "stdout",
     "output_type": "stream",
     "text": [
      "Не получилось отвергнуть нулевую гипотезу, вывод о значимом различии сделать нельзя\n"
     ]
    }
   ],
   "source": [
    "# применим статистический критерий Манн-Уитни для определения, есть ли статистически значимая разница\n",
    "# в средних чеках в разных группах теста\n",
    "\n",
    "p_value_2 = st.mannwhitneyu(orders.query('group==\"A\"')['revenue'], orders.query('group==\"B\"')['revenue'])[1].round(3)\n",
    "\n",
    "display(f'Значание p_value равно {p_value_2}')\n",
    "\n",
    "if p_value_2 < alpha:\n",
    "    print('Отвергаем нулевую гипотезу, разница статистически значима')\n",
    "else:\n",
    "    print('Не получилось отвергнуть нулевую гипотезу, вывод о значимом различии сделать нельзя')\n",
    "        \n",
    "    "
   ]
  },
  {
   "cell_type": "markdown",
   "metadata": {},
   "source": [
    "Получившееся значение p_value превосходит принятый нами уровень стат значимости в 5%. Это значит, что имеющиеся у нас данные не дают оснований для того, чтобы отвергать нулевую гипотезу о равенстве средних чеков. \n",
    "\n",
    "Посмотрим на относительные различия в средних чеках между группами."
   ]
  },
  {
   "cell_type": "code",
   "execution_count": 48,
   "metadata": {},
   "outputs": [
    {
     "data": {
      "text/plain": [
       "'Относительный прирост среднего чека группы В к группе А: 0.259'"
      ]
     },
     "execution_count": 48,
     "metadata": {},
     "output_type": "execute_result"
    }
   ],
   "source": [
    "# найдем относительное различие в среднем чеке группы В к группе А\n",
    "\n",
    "average_check_rise = (orders.query('group==\"B\"')['revenue'].mean()/orders.query('group==\"A\"')['revenue'].mean() - 1).round(3)\n",
    "f'Относительный прирост среднего чека группы В к группе А: {average_check_rise}'"
   ]
  },
  {
   "cell_type": "markdown",
   "metadata": {},
   "source": [
    "Средний чек группы В больше примерно на 26%. Однако тест, проведенный с помощью критерия Манна-Уитни, продемонстрировал отсутствие статистически значимой разницы в средних чеках разных сегментов."
   ]
  },
  {
   "cell_type": "markdown",
   "metadata": {},
   "source": [
    "### Очищение данных от выбросов и аномалий\n",
    "<a id='header_16'></a>"
   ]
  },
  {
   "cell_type": "markdown",
   "metadata": {},
   "source": [
    "**Несмотря на то, что статистический критерий Манна-Уитни является ранговым и устойчив к отдельным выбросам, очистим данные от аномалий.**\n",
    "\n",
    "На этапе изучения данных на предмет аномалий и выбросов мы нашли 95 процентили количества заказов и стоимости заказа - это 2 заказа и 28 000 рублей соответственно. Исключать из анализа будем пользователей:\n",
    "- которые сделали более 2 заказов\n",
    "- которые сделали заказ дороже 28 000 рублей\n",
    "\n",
    "Также не будем забывать, что на этапе создания выборок для проведения теста, было обнаружено, что деление теста не сегменты А и В было нарушено. 58 пользователей оказались записаны сразу в оба сегмента. Удалим их, чтобы они не искажали результаты. \n",
    "\n",
    "Всех пользователей, которых выделим как \"аномальных\" объединим в единый датафрейм, чтобы не потерять и оценить какой объем данных исключаем их анализа."
   ]
  },
  {
   "cell_type": "code",
   "execution_count": 49,
   "metadata": {},
   "outputs": [
    {
     "data": {
      "text/plain": [
       "'Количество аномальных пользователей: 113'"
      ]
     },
     "execution_count": 49,
     "metadata": {},
     "output_type": "execute_result"
    }
   ],
   "source": [
    "# создадим датафрейм abnormal_visitors с пользователями, совершившими более 2 заказов, заказы на сумму более 2800 рублей\n",
    "# или попали сразу в обе группы\n",
    "\n",
    "max_revenue = int(np.percentile(orders['revenue'], [95]))\n",
    "max_orders = int(np.percentile(orders_by_buyers['orders'], [95]))\n",
    "\n",
    "visitors_with_many_orders = orders_by_buyers.query('orders > @max_orders')['visitor_id']\n",
    "\n",
    "visitors_with_expansive_orders = orders.query('revenue > @max_revenue')['visitor_id']\n",
    "\n",
    "ab_visitors = pd.Series(ab_visitors)\n",
    "\n",
    "abnormal_visitors = (\n",
    "    pd.concat([visitors_with_many_orders, visitors_with_expansive_orders, ab_visitors], axis=0)\n",
    "    .drop_duplicates()\n",
    "    .sort_values()\n",
    ")\n",
    "f'Количество аномальных пользователей: {len(abnormal_visitors)}'"
   ]
  },
  {
   "cell_type": "markdown",
   "metadata": {},
   "source": [
    "В общей массе пользователей, участвовавших в тесте, нашлось 113 пользователей с аномальным поведением. Исключим этих пользователей из дальнейшего вычисления статистически значимых различий в среднем количестве заказов и среднем чеке, так как они могли повлиять на результат теста."
   ]
  },
  {
   "cell_type": "code",
   "execution_count": 50,
   "metadata": {},
   "outputs": [],
   "source": [
    "# создадим очищенные выборки с количеством заказов по каждой группе теста\n",
    "\n",
    "sample_a_filtered = pd.concat(\n",
    "    [orders_by_visitors_a.query('visitor_id not in @abnormal_visitors')['orders'],\n",
    "     pd.Series(0, index=np.arange(data['visitors_per_date_a'].sum() - len(orders_by_visitors_a['orders'])),\n",
    "     name='orders')], axis=0\n",
    ")\n",
    "\n",
    "sample_b_filtered = pd.concat(\n",
    "    [orders_by_visitors_b.query('visitor_id not in @abnormal_visitors')['orders'],\n",
    "     pd.Series(0, index=np.arange(data['visitors_per_date_b'].sum() - len(orders_by_visitors_b['orders'])),\n",
    "     name='orders')], axis=0\n",
    ")\n"
   ]
  },
  {
   "cell_type": "code",
   "execution_count": 51,
   "metadata": {},
   "outputs": [
    {
     "data": {
      "text/html": [
       "<div>\n",
       "<style scoped>\n",
       "    .dataframe tbody tr th:only-of-type {\n",
       "        vertical-align: middle;\n",
       "    }\n",
       "\n",
       "    .dataframe tbody tr th {\n",
       "        vertical-align: top;\n",
       "    }\n",
       "\n",
       "    .dataframe thead th {\n",
       "        text-align: right;\n",
       "    }\n",
       "</style>\n",
       "<table border=\"1\" class=\"dataframe\">\n",
       "  <thead>\n",
       "    <tr style=\"text-align: right;\">\n",
       "      <th></th>\n",
       "      <th>visitor_id</th>\n",
       "    </tr>\n",
       "    <tr>\n",
       "      <th>group</th>\n",
       "      <th></th>\n",
       "    </tr>\n",
       "  </thead>\n",
       "  <tbody>\n",
       "    <tr>\n",
       "      <th>A</th>\n",
       "      <td>85</td>\n",
       "    </tr>\n",
       "    <tr>\n",
       "      <th>B</th>\n",
       "      <td>86</td>\n",
       "    </tr>\n",
       "  </tbody>\n",
       "</table>\n",
       "</div>"
      ],
      "text/plain": [
       "       visitor_id\n",
       "group            \n",
       "A              85\n",
       "B              86"
      ]
     },
     "execution_count": 51,
     "metadata": {},
     "output_type": "execute_result"
    }
   ],
   "source": [
    "# проверяю, сколько удаленных пользователей в каждой группе\n",
    "\n",
    "orders.query('visitor_id in @abnormal_visitors').groupby('group').agg({'visitor_id':'nunique'})"
   ]
  },
  {
   "cell_type": "markdown",
   "metadata": {},
   "source": [
    "Данные были очищены от аномалий: \n",
    "\n",
    "- пользователей, которые совершали более 2 заказов\n",
    "- пользователей, которые делали заказы на сумму, более 28 000 рублей\n",
    "- пользователей, попавших сразу в обе группы теста"
   ]
  },
  {
   "cell_type": "markdown",
   "metadata": {},
   "source": [
    "### Подсчет статистической значимости различий в конверсиях в заказ между группами по очищенным данным\n",
    "<a id='header_17'></a>"
   ]
  },
  {
   "cell_type": "markdown",
   "metadata": {},
   "source": [
    "Далее будем снова применять статистический критерий Манна-Уитни для определения статистической значимости различий, но на этот раз использовать его для очищенных данных. Определим, повлияли ли выбросы на результаты теста, или нет.\n",
    "\n",
    "Нулевая и альтернативная гипотезы остаются прежними:\n",
    "\n",
    "-  H0: Среднее количество заказов в разных группах теста равно\n",
    "-  H1: Среднее количество заказов в группах А и В отличается"
   ]
  },
  {
   "cell_type": "code",
   "execution_count": 52,
   "metadata": {
    "scrolled": true
   },
   "outputs": [
    {
     "data": {
      "text/plain": [
       "'Значание p_value равно : 0.009'"
      ]
     },
     "metadata": {},
     "output_type": "display_data"
    },
    {
     "name": "stdout",
     "output_type": "stream",
     "text": [
      "Отвергаем нулевую гипотезу, разница статистически значима\n"
     ]
    }
   ],
   "source": [
    "# применим статистический критерий Манн-Уитни для определения, имеется ли значимая разница в среднем количестве\n",
    "# заказов на пользователя, т.е. конверсии, в разных сегментах теста\n",
    "\n",
    "p_value_3 = st.mannwhitneyu(sample_a_filtered, sample_b_filtered)[1].round(3)\n",
    "\n",
    "display(f'Значание p_value равно : {p_value_3}')\n",
    "\n",
    "if p_value_3 < alpha:\n",
    "    print('Отвергаем нулевую гипотезу, разница статистически значима')\n",
    "else:\n",
    "    print('Не получилось отвергнуть нулевую гипотезу, не получилось обнаружить статистически значимых различий')"
   ]
  },
  {
   "cell_type": "markdown",
   "metadata": {},
   "source": [
    "Полученное значение p_value меньше уровня статистической значимости, что говорит о том, что нулевую гипотезу об отстутствии разницы в среднем количестве заказов между группами теста, необходимо отвергнуть в пользу альтернативной. \n",
    "\n",
    "Посчитаем относительный прирост среднего числа заказов в группе В."
   ]
  },
  {
   "cell_type": "code",
   "execution_count": 53,
   "metadata": {},
   "outputs": [
    {
     "data": {
      "text/plain": [
       "'Относительный прирост среднего количества заказов группы В по очищенным данным составляет 0.189'"
      ]
     },
     "execution_count": 53,
     "metadata": {},
     "output_type": "execute_result"
    }
   ],
   "source": [
    "# найдем относительный прирост среднего количества заказов группы В к группе А по очищенным данным\n",
    "\n",
    "f'Относительный прирост среднего количества заказов группы В по очищенным данным составляет {(sample_b_filtered.mean()/sample_a_filtered.mean() - 1):.3f}'"
   ]
  },
  {
   "cell_type": "markdown",
   "metadata": {},
   "source": [
    "Среднее количество заказов на посетителя в группе В выше: относительное различие между сегментами по очищенным данным составляет около 19%.\n",
    "\n",
    "Ранее мы проводили статистический тест на \"сырых\" данных. В целом, результаты теста не изменились после очищения данных от выбросов: нулевая гипотеза в обоих случаях была отвергнута в пользу альтернативной, а относительная разница дважды показывала лидирующее положение группы В по показателю средней конверсии пользователей в заказ. \n",
    "\n",
    "Результаты теста по \"сырым\" данным:\n",
    "p_value - 0,017; относительный прирост в среднем количестве заказов в группе В - 0,138\n",
    "\n",
    "Результаты теста по \"очищенным\" данным:\n",
    "p_value - 0,009; относительный прирост в среднем количестве заказов в группе В - 0,189"
   ]
  },
  {
   "cell_type": "markdown",
   "metadata": {},
   "source": [
    "### Подсчет статистической значимости различий в среднем чеке между сегментами по очищенным данным\n",
    "<a id='header_18'></a>"
   ]
  },
  {
   "cell_type": "markdown",
   "metadata": {},
   "source": [
    "Оставляем уже сформулированные ранее нулевую и альтернативную гипотезы:\n",
    "\n",
    "- Нулевая гипотеза H0: Средние чеки разных групп теста равны\n",
    "- Альтернативная гипотеза H1: Средние чеки групп А и В отличаются\n",
    "\n",
    "На этот раз будем использовать критерий Манна-Уитни для данных, очищенных от выбросов. Посмотрим, как это повлияет на результаты теста. Рассчитаем также относительную разницу показателей для групп А и В."
   ]
  },
  {
   "cell_type": "code",
   "execution_count": 54,
   "metadata": {},
   "outputs": [
    {
     "data": {
      "text/plain": [
       "'Значание p_value равно 0.762'"
      ]
     },
     "metadata": {},
     "output_type": "display_data"
    },
    {
     "name": "stdout",
     "output_type": "stream",
     "text": [
      "Не получилось отвергнуть нулевую гипотезу, вывод о значимом различии сделать нельзя\n"
     ]
    }
   ],
   "source": [
    "# применим гритерий Манна-Уитни для определения, есть ли статистически значимая разница в среднем чеке разных групп\n",
    "# пользователей после очистки данных\n",
    "\n",
    "p_value_4 = (\n",
    "    st.mannwhitneyu(orders.query('group==\"A\" and visitor_id not in @abnormal_visitors')['revenue'],\n",
    "                    orders.query('group==\"B\" and visitor_id not in @abnormal_visitors')['revenue'])[1].round(3)\n",
    ")\n",
    "\n",
    "display(f'Значание p_value равно {p_value_4}')\n",
    "\n",
    "if p_value_4 < alpha:\n",
    "    print('Отвергаем нулевую гипотезу, разница статистически значима')\n",
    "else:\n",
    "    print('Не получилось отвергнуть нулевую гипотезу, вывод о значимом различии сделать нельзя')"
   ]
  },
  {
   "cell_type": "markdown",
   "metadata": {},
   "source": [
    "Как и в случае с \"сырыми\" данными, мы получили p_value значительно превышающее уровень статистической значимости, что говорит о том, что мы не можем отвергнуть нулевую гипотезу: при условии, что нулевая гипотеза о равенстве средних чеков верна, наблюдаемые данные вполне вероятны.\n",
    "\n",
    "Далее рассчитаем относительную разницу между средними чеками сегментов."
   ]
  },
  {
   "cell_type": "code",
   "execution_count": 55,
   "metadata": {},
   "outputs": [
    {
     "data": {
      "text/plain": [
       "'Относительный прирост среднего чека группы В к группе А: -0.022'"
      ]
     },
     "execution_count": 55,
     "metadata": {},
     "output_type": "execute_result"
    }
   ],
   "source": [
    "# рассчитаем относительную разницу между сегментами по очищенным данным\n",
    "\n",
    "average_check_rise_filtered = (\n",
    "    orders.query('group==\"B\" and visitor_id not in @abnormal_visitors')['revenue'].mean()\n",
    "    /orders.query('group==\"A\" and visitor_id not in @abnormal_visitors')['revenue'].mean() - 1).round(3)\n",
    "f'Относительный прирост среднего чека группы В к группе А: {average_check_rise_filtered}'"
   ]
  },
  {
   "cell_type": "markdown",
   "metadata": {},
   "source": [
    "Относительная разница между сегментами изменилась после очищения данных от выбросов: \"сырые\" данные демонстрировали, что средний чек группы В больше аналогичного показателя в группе А примерно на 26%. После исключения аномальных пользователей, средний чек группы В меньше, чем в группе А примерно на 2%. \n",
    "\n",
    "**Для того, чтобы принять решение о продолжении или остановке теста, взглянем еще раз на график относиетельной разницы в среднем чеке между группами. Проверим, стабилизировался ли этот показатель.**"
   ]
  },
  {
   "cell_type": "code",
   "execution_count": 56,
   "metadata": {
    "scrolled": true
   },
   "outputs": [
    {
     "data": {
      "image/png": "[encoded data removed]",
      "text/plain": [
       "<Figure size 720x432 with 1 Axes>"
      ]
     },
     "metadata": {
      "needs_background": "light"
     },
     "output_type": "display_data"
    }
   ],
   "source": [
    "# восстановим все шаги, предпринятые для построения кумулятивных графиков и графиков относительной разницы,\n",
    "# но в этот раз будем использовать очищенные данные\n",
    "\n",
    "normal_slice = orders.query('visitor_id not in @abnormal_visitors')\n",
    "\n",
    "orders_aggregated_2 = (\n",
    "    dates_groups.apply(lambda x: normal_slice[np.logical_and(normal_slice['date']<=x['date'], normal_slice['group']==x['group'])]\n",
    "    .agg({'date':'max', 'group':'max', 'transaction_id':'nunique', 'visitor_id':'nunique', 'revenue':'sum'}), axis=1)\n",
    ")\n",
    "\n",
    "cumulative_data_2 = orders_aggregated_2.merge(visitors_aggregated, left_on=['date', 'group'], right_on=['date','group'])\n",
    "\n",
    "cumulative_data_2 = cumulative_data_2.rename(columns={'transaction_id':'orders', 'visitor_id':'buyers'})\n",
    "\n",
    "cumulative_revenue_a_2 = cumulative_data_2.query('group==\"A\"')[['date', 'orders', 'revenue']]\n",
    "\n",
    "cumulative_revenue_b_2 = cumulative_data_2.query('group==\"B\"')[['date', 'orders','revenue']]\n",
    "\n",
    "# построим график относительного изменения кумулятивного среднего чека группы B к группе A\n",
    "\n",
    "merged_cumulative_revenue_2 = (\n",
    "    cumulative_revenue_a_2.merge(cumulative_revenue_b_2, left_on='date', right_on='date', how='left', suffixes=['A', 'B'])\n",
    ")\n",
    "\n",
    "plt.figure(figsize=(10, 6))\n",
    "plt.plot(\n",
    "    merged_cumulative_revenue_2['date'], (merged_cumulative_revenue_2['revenueB']\n",
    "    /merged_cumulative_revenue_2['ordersB'])/(merged_cumulative_revenue_2['revenueA']/merged_cumulative_revenue_2['ordersA']) - 1)\n",
    "\n",
    "plt.title('График относительного изменения кумулятивного среднего чека группы B к группе A по очищенным данным')\n",
    "plt.ylabel('Относительное различие в кумулятивном среднем чеке')\n",
    "plt.xlabel('Даты проведения теста')\n",
    "plt.axhline(y=0, color='black', linestyle='--')\n",
    "plt.show()"
   ]
  },
  {
   "cell_type": "markdown",
   "metadata": {},
   "source": [
    "График относительного изменения кумулятивного среднего чека начинает стабилизироваться, поэтому не похоже, что разница будет значительно увеличиваться. "
   ]
  },
  {
   "cell_type": "markdown",
   "metadata": {},
   "source": [
    "# Выводы по проведенному исследованию\n",
    "<a id='header_19'></a>"
   ]
  },
  {
   "cell_type": "markdown",
   "metadata": {},
   "source": [
    "**Данный проект был посвящен приоритезации гипотез, предложенных отделом маркетинга, а также анализу запущенного A/B-теста и его результатов. Целью исследования было достижение понимания, существует ли статистически значимый эффект от предложенного в гипотезе нововведения, другими словами - наблюдается ли статистически значимая разница между показателями двух групп теста. Результаты теста позволят компании принять решение, расширять ли нововведение на всех пользователей или нет, поэтому данное исследование также призвано определить необходимость остановки теста или его продолжения**\n",
    "\n",
    "Исследование проводилось на основе нескольких датасетов. Во-первых, с помощью двух разных методов приоритезации исследовали датафрейм со списком перспективных гипотез, который включал в себя ранее рассчитанные параметры, необходимые для приоритезации проверки гипотез. Во-вторых, мы анализировали данные уже запущенного теста - информацию о количестве пользователей и покупках пользователей из групп A и B.\n",
    "\n",
    "Исследование проводилось на основе трех датасетов: с гипотезами и параметрами для выявления их приоритетности - hypothesis, с информацией о заказах пользователей из уже запущенного A/B-теста - orders и с информацией о количестве пользователей в каждую из дат проведения теста - visitors.\n",
    "\n",
    "Размеры датасетов (количество строк и столбцов):\n",
    "\n",
    "hypothesis: 9 строк и 5 столбцов\n",
    "\n",
    "orders: 1197 строк и 5 столбцов\n",
    "\n",
    "visitors: 62 строки и 3 столбца\n",
    "\n",
    "Знакомство с данными позволило заметить проблемы, которые были устранены на этапе предобработки. \n",
    "\n",
    "**Предобработка данных**\n",
    "\n",
    "На этапе предобработки удалось устранить проблемы, выявленные во время знакомства с данными:\n",
    "- все названия столбцов приведены к единому стилю\n",
    "- изменен тип данных в столбцах с дато и временем\n",
    "\n",
    "Пропуски и дубликаты не были обнаружены.\n",
    "\n",
    "**Приоритезация гипотез**\n",
    "\n",
    "Топ-3 наиболее приоритетных гипотез меняется в зависимости от используемого метода приоритезации, что связано с наличием в фреймворке RICE дополнительного параметра reach, который оценивает охват. Так, лидирующая по ICE-score гипотеза №8, предлагающая запуск акции со скидкой на день рождения, получила низкий RICE, так как затрагивает небольшое количество пользователей - именинников.\n",
    "\n",
    "Чтобы внедряемые изменения были эффективными, советуем начать тестирование одной из следующих наиболее перспективных гипотез:\n",
    "\n",
    "1) гипотеза №7: Добавить форму подписки на все основные страницы, чтобы собрать базу клиентов для email-рассылок\n",
    "\n",
    "2) гипотеза №2: Добавить блоки рекомендаций товаров на сайт интернет магазина, чтобы повысить конверсию и средний чек заказа\n",
    "\n",
    "3) гипотеза №0: Добавить два новых канала привлечения трафика, что позволит привлекать на 30% больше пользователей\n",
    "\n",
    "**Анализ запущенного A/B-теста**\n",
    "\n",
    "Выявление различий в группах теста осуществлялось с помощью анализа двух метрик: конверсии пользователей в заказы, то есть среднего количества заказов на пользователя и среднего чека.\n",
    "\n",
    "Для оценки резултатов запущенного A/B-теста, а также достоверности его результатов и определения, достигнута ли статистически значимая разница по интересующим нас показателям у разных групп теста были предприняты следующие действия:\n",
    "\n",
    "- были построены кумулятивные графики выручки, среднего количества заказов, а также среднего чека\n",
    "\n",
    "Графики позволили заподозрить наличие в данных аномалий - пользователей, демонстрирующих нестандартную активность - совершающих очень большое количество заказов и очень дорогие заказы. Поэтому было решено провести дополнительную проверку на наличие выбросов и аномалий в данных, чтобы исключить их влияние на результаты теста.\n",
    "\n",
    "- были построены графики относительной разницы среднего количества заказов и среднего чека\n",
    "\n",
    "Было установлено, что к концу теста кумулятивный средний чек группы В был выше аналогичного показателя группы А примерно на 26%\n",
    "Бало установлено, что в концу теста кумулятивная средняя конверсия у группы В была выше аналогичного показателя группы А приблизительно на 14%\n",
    "\n",
    "- был проведен статистический тест с помощью критерия Манна-Уитни по \"сырым данным\" для определения статистически значимой разницы между сегментами теста: сравнивались среднее количество заказов и средний чек. Для этого были сформулированы пары нулевой и альтернативной гипотез.\n",
    "\n",
    "*Поиск статистически значимой разницы в конверсиях:*\n",
    "\n",
    "• H0: Среднее количество заказов в разных группах теста равно\n",
    "\n",
    "• H1: Среднее количество заказов в группах А и В отличается\n",
    "\n",
    "*Поиск статистически значимой разницы в среднем чеке:*\n",
    "\n",
    "• H0: Средний чек в разных группах теста одинаков\n",
    "\n",
    "• H1: Средний чек в группах А и В отличается\n",
    "\n",
    "**Статистические тесты, запущенные на основе \"сырых\" данных позволили установить:**\n",
    "\n",
    "• *наличие статистически значимого различия в конверсиях разных сегментов теста*: p_value = 0,017, то есть меньше выбранного уровня статистической значимости в 0,05%, что позволило отвергнуть нулевую гипотезу. Вероятнее всего, различия между группами в конверсии присутствуют.\n",
    "Средняя конверсия группы В лучше примерно на 14% относительно группы А.\n",
    "\n",
    "• *отсутствие статистически значимого различия в среднем чеке разных сегментов теста*: p_value = 0,729, что значительно превышает уровень стат.значимости, а значит, не позволяет отвергуть нулевую гипотезу. \n",
    "При этом средний чек группы В выше в относительном выражении примерно на 26%.\n",
    "\n",
    "**Обработка выбросов и аномалий в данных**\n",
    "\n",
    "*Было проведено исследование структуры данных о количестве заказов пользователей и стоимости заказов, с целью получения представления о \"нормальных\" значениях*\n",
    "\n",
    "Построенные точечные диаграммы и найденные 99 и 95 процентили по количеству заказов и стоимости заказа помогли найти верхнюю границу, по которой была проведена \"очистка\" данных. Не более 5% от всех пользователей оформляли больше чем 2 заказа, 1% пользователей оформляли заказ более 4 раз. Не более 5% от всех заказов имеют стоимость больше чем 28 000 рублей, 1% заказов - более 58 233 рублей. \n",
    "\n",
    "Мы исключили из исследования пользователей, сделавших более 2 заказов и заказы стоимостью превышающие 28000 рублей. \n",
    "\n",
    "Также во время подготовки данных к проведения статистического теста, было обнаружено, что в данных есть неожиданная проблема - 58 пользователей попали сразу в обе группы теста. Их было решено также исключить, чтобы они не оказали влияния на достоверность теста. \n",
    "\n",
    "Всего во время \"очистки\" данных было исключено 113 пользователей.\n",
    "\n",
    "**Статистические тесты, запущенные на основе \"очищенных\" данных позволили установить**\n",
    "\n",
    "• *наличие статистически значимой разницы в конверсиях разных сегментов*: p_value = 0,009, заметно меньше выбранного уровня статистической значимости в 0,05%, что позволило отвергнуть нулевую гипотезу. \n",
    "Значимое различие было найдено, как на основе \"сырых\" данных, так и по \"очищенным\"\n",
    "Средняя конверсия группы В по очищенным данным лучше примерно на 19% относительно группы А.\n",
    "\n",
    "• *отсутствие статистически значимого различия в среднем чеке разных сегментов теста*: p_value = 0,762, что также, как и в случае с \"сырыми\" данными, значительно превышает уровень стат.значимости, а значит, не позволяет отвергуть нулевую гипотезу. \n",
    "При этом отсносительная разница сегментов изменилась - по очищенным данным средний чек группы В хуже на 0,02% относительно группы А.\n"
   ]
  },
  {
   "cell_type": "markdown",
   "metadata": {},
   "source": [
    " # Рекомендации по результатам A-B теста\n",
    " <a id='header_20'></a>"
   ]
  },
  {
   "cell_type": "markdown",
   "metadata": {},
   "source": [
    "В целом, на основании \"сырых\" и \"чистых\" данных мы видим статистически значимую разницу в конверсии и отсутствие значимой разницы в среднем чеке. При этом сегмент В имеет подтвержденное значимое преимущество по конверсии, однако, в случае со средним чеком по \"чистым данным\" относительная разница не в пользу группы В. \n",
    "\n",
    "Перед принятием решения о продолжении и приостановке A/B-теста необходимо еще раз ознакомиться с заранее рассчитанным размером выборки. Если мы имеем достаточно наблюдений относительно рассчитанного заранее количества и при этом, график относительной разницы стабилизировался, то следует остановить тест.\n",
    "\n",
    "В нашем случае мы можем зафиксировать наличие разницы между группами с оговоркой, что разница наблюдается лишь в одной целевой метрике - конверсии в заказ. Проведенный статистический тест позволил отвергнуть нулевую гипотезу о равенстве конверсий, так как вероятность случайно получить такую разницу очень низкая (p_value = 0,009). А вот в среднем чеке не удалось обнаружить и подтвердить различия (p_value = 0,762): вряд ли при продолжении теста p_value снизится до уровня 0.05 или ниже. \n",
    "\n",
    "**Таким образом, мы можем рекомендовать завершение теста. Группа В лучше: основная целевая метрика - конверсия, показала устойчивое улучшение, в то время как вторая метрика - средний чек, не ухудшилась. Значит, изменение затронуло количество заказов, но не их размер.**\n"
   ]
  }
 ],
 "metadata": {
  "ExecuteTimeLog": [
   {
    "duration": 47,
    "start_time": "2025-04-03T17:34:08.879Z"
   },
   {
    "duration": 1355,
    "start_time": "2025-04-03T17:34:20.132Z"
   },
   {
    "duration": 66,
    "start_time": "2025-04-03T17:34:21.880Z"
   },
   {
    "duration": 2,
    "start_time": "2025-04-03T17:34:38.335Z"
   },
   {
    "duration": 67,
    "start_time": "2025-04-03T17:34:40.565Z"
   },
   {
    "duration": 12,
    "start_time": "2025-04-03T17:35:11.607Z"
   },
   {
    "duration": 8,
    "start_time": "2025-04-03T17:37:07.270Z"
   },
   {
    "duration": 7,
    "start_time": "2025-04-03T17:38:01.670Z"
   },
   {
    "duration": 11,
    "start_time": "2025-04-03T17:38:52.810Z"
   },
   {
    "duration": 10,
    "start_time": "2025-04-03T17:40:14.099Z"
   },
   {
    "duration": 10,
    "start_time": "2025-04-03T17:41:21.287Z"
   },
   {
    "duration": 66,
    "start_time": "2025-04-03T17:44:21.591Z"
   },
   {
    "duration": 7,
    "start_time": "2025-04-03T17:44:28.064Z"
   },
   {
    "duration": 8,
    "start_time": "2025-04-03T17:44:33.006Z"
   },
   {
    "duration": 10,
    "start_time": "2025-04-03T17:44:39.539Z"
   },
   {
    "duration": 4,
    "start_time": "2025-04-03T18:48:09.689Z"
   },
   {
    "duration": 13,
    "start_time": "2025-04-03T18:48:56.533Z"
   },
   {
    "duration": 5,
    "start_time": "2025-04-03T18:51:40.544Z"
   },
   {
    "duration": 13,
    "start_time": "2025-04-03T18:51:42.349Z"
   },
   {
    "duration": 286,
    "start_time": "2025-04-03T18:56:10.458Z"
   },
   {
    "duration": 3,
    "start_time": "2025-04-03T18:56:40.391Z"
   },
   {
    "duration": 11,
    "start_time": "2025-04-03T18:56:47.056Z"
   },
   {
    "duration": 326,
    "start_time": "2025-04-03T18:56:54.566Z"
   },
   {
    "duration": 4,
    "start_time": "2025-04-03T19:10:14.768Z"
   },
   {
    "duration": 1094,
    "start_time": "2025-04-03T19:10:58.715Z"
   },
   {
    "duration": 66,
    "start_time": "2025-04-03T19:10:59.811Z"
   },
   {
    "duration": 12,
    "start_time": "2025-04-03T19:10:59.879Z"
   },
   {
    "duration": 7,
    "start_time": "2025-04-03T19:10:59.893Z"
   },
   {
    "duration": 17,
    "start_time": "2025-04-03T19:10:59.901Z"
   },
   {
    "duration": 12,
    "start_time": "2025-04-03T19:10:59.920Z"
   },
   {
    "duration": 10,
    "start_time": "2025-04-03T19:10:59.934Z"
   },
   {
    "duration": 9,
    "start_time": "2025-04-03T19:10:59.946Z"
   },
   {
    "duration": 4,
    "start_time": "2025-04-03T19:10:59.957Z"
   },
   {
    "duration": 12,
    "start_time": "2025-04-03T19:10:59.963Z"
   },
   {
    "duration": 4,
    "start_time": "2025-04-03T19:10:59.977Z"
   },
   {
    "duration": 5,
    "start_time": "2025-04-03T19:12:05.401Z"
   },
   {
    "duration": 13,
    "start_time": "2025-04-03T19:12:15.210Z"
   },
   {
    "duration": 13,
    "start_time": "2025-04-03T19:12:31.302Z"
   },
   {
    "duration": 15,
    "start_time": "2025-04-03T19:14:08.017Z"
   },
   {
    "duration": 1083,
    "start_time": "2025-04-03T19:14:52.137Z"
   },
   {
    "duration": 67,
    "start_time": "2025-04-03T19:14:53.222Z"
   },
   {
    "duration": 11,
    "start_time": "2025-04-03T19:14:53.291Z"
   },
   {
    "duration": 37,
    "start_time": "2025-04-03T19:14:53.303Z"
   },
   {
    "duration": 20,
    "start_time": "2025-04-03T19:14:53.341Z"
   },
   {
    "duration": 38,
    "start_time": "2025-04-03T19:14:53.362Z"
   },
   {
    "duration": 16,
    "start_time": "2025-04-03T19:14:53.402Z"
   },
   {
    "duration": 77,
    "start_time": "2025-04-03T19:14:53.420Z"
   },
   {
    "duration": 31,
    "start_time": "2025-04-03T19:14:53.498Z"
   },
   {
    "duration": 15,
    "start_time": "2025-04-03T19:14:53.531Z"
   },
   {
    "duration": 2,
    "start_time": "2025-04-03T19:14:53.547Z"
   },
   {
    "duration": 5,
    "start_time": "2025-04-03T19:18:37.991Z"
   },
   {
    "duration": 13,
    "start_time": "2025-04-03T19:18:44.939Z"
   },
   {
    "duration": 5,
    "start_time": "2025-04-03T19:18:57.517Z"
   },
   {
    "duration": 11,
    "start_time": "2025-04-03T19:19:06.384Z"
   },
   {
    "duration": 92,
    "start_time": "2025-04-03T19:20:08.079Z"
   },
   {
    "duration": 4,
    "start_time": "2025-04-03T19:20:13.360Z"
   },
   {
    "duration": 6,
    "start_time": "2025-04-03T19:21:16.679Z"
   },
   {
    "duration": 5,
    "start_time": "2025-04-03T19:24:34.149Z"
   },
   {
    "duration": 6,
    "start_time": "2025-04-03T19:25:00.168Z"
   },
   {
    "duration": 5,
    "start_time": "2025-04-03T19:25:45.161Z"
   },
   {
    "duration": 1308,
    "start_time": "2025-04-04T10:00:10.729Z"
   },
   {
    "duration": 78,
    "start_time": "2025-04-04T10:00:12.039Z"
   },
   {
    "duration": 13,
    "start_time": "2025-04-04T10:00:12.119Z"
   },
   {
    "duration": 15,
    "start_time": "2025-04-04T10:00:12.133Z"
   },
   {
    "duration": 9,
    "start_time": "2025-04-04T10:00:12.149Z"
   },
   {
    "duration": 21,
    "start_time": "2025-04-04T10:00:12.159Z"
   },
   {
    "duration": 11,
    "start_time": "2025-04-04T10:00:12.182Z"
   },
   {
    "duration": 10,
    "start_time": "2025-04-04T10:00:12.195Z"
   },
   {
    "duration": 15,
    "start_time": "2025-04-04T10:00:12.207Z"
   },
   {
    "duration": 33,
    "start_time": "2025-04-04T10:00:12.224Z"
   },
   {
    "duration": 6,
    "start_time": "2025-04-04T10:00:12.258Z"
   },
   {
    "duration": 16,
    "start_time": "2025-04-04T10:00:12.266Z"
   },
   {
    "duration": 6,
    "start_time": "2025-04-04T10:00:12.284Z"
   },
   {
    "duration": 6,
    "start_time": "2025-04-04T10:00:12.292Z"
   },
   {
    "duration": 16,
    "start_time": "2025-04-04T10:00:12.299Z"
   },
   {
    "duration": 14,
    "start_time": "2025-04-04T10:00:12.316Z"
   },
   {
    "duration": 5,
    "start_time": "2025-04-04T10:00:12.332Z"
   },
   {
    "duration": 9,
    "start_time": "2025-04-04T10:03:05.001Z"
   },
   {
    "duration": 5,
    "start_time": "2025-04-04T10:04:32.637Z"
   },
   {
    "duration": 5,
    "start_time": "2025-04-04T10:06:07.811Z"
   },
   {
    "duration": 5,
    "start_time": "2025-04-04T10:06:28.596Z"
   },
   {
    "duration": 9,
    "start_time": "2025-04-04T10:11:51.967Z"
   },
   {
    "duration": 9,
    "start_time": "2025-04-04T10:18:18.948Z"
   },
   {
    "duration": 11,
    "start_time": "2025-04-04T10:21:32.718Z"
   },
   {
    "duration": 109,
    "start_time": "2025-04-04T10:22:26.271Z"
   },
   {
    "duration": 11,
    "start_time": "2025-04-04T10:22:34.288Z"
   },
   {
    "duration": 11,
    "start_time": "2025-04-04T10:23:20.640Z"
   },
   {
    "duration": 1325,
    "start_time": "2025-04-04T18:33:22.158Z"
   },
   {
    "duration": 187,
    "start_time": "2025-04-04T18:33:23.485Z"
   },
   {
    "duration": 17,
    "start_time": "2025-04-04T18:33:23.674Z"
   },
   {
    "duration": 8,
    "start_time": "2025-04-04T18:33:23.694Z"
   },
   {
    "duration": 13,
    "start_time": "2025-04-04T18:33:23.704Z"
   },
   {
    "duration": 10,
    "start_time": "2025-04-04T18:33:23.719Z"
   },
   {
    "duration": 13,
    "start_time": "2025-04-04T18:33:23.730Z"
   },
   {
    "duration": 51,
    "start_time": "2025-04-04T18:33:23.744Z"
   },
   {
    "duration": 5,
    "start_time": "2025-04-04T18:33:23.797Z"
   },
   {
    "duration": 13,
    "start_time": "2025-04-04T18:33:23.805Z"
   },
   {
    "duration": 5,
    "start_time": "2025-04-04T18:33:23.820Z"
   },
   {
    "duration": 7,
    "start_time": "2025-04-04T18:33:23.827Z"
   },
   {
    "duration": 19,
    "start_time": "2025-04-04T18:33:23.836Z"
   },
   {
    "duration": 7,
    "start_time": "2025-04-04T18:33:23.877Z"
   },
   {
    "duration": 6,
    "start_time": "2025-04-04T18:33:23.886Z"
   },
   {
    "duration": 6,
    "start_time": "2025-04-04T18:33:23.894Z"
   },
   {
    "duration": 4,
    "start_time": "2025-04-04T18:33:23.902Z"
   },
   {
    "duration": 6,
    "start_time": "2025-04-04T18:33:23.908Z"
   },
   {
    "duration": 11,
    "start_time": "2025-04-04T18:33:23.916Z"
   },
   {
    "duration": 60,
    "start_time": "2025-04-04T18:33:23.929Z"
   },
   {
    "duration": 12,
    "start_time": "2025-04-04T18:48:24.315Z"
   },
   {
    "duration": 12,
    "start_time": "2025-04-04T18:49:14.070Z"
   },
   {
    "duration": 18,
    "start_time": "2025-04-04T18:49:22.005Z"
   },
   {
    "duration": 141,
    "start_time": "2025-04-04T18:56:16.571Z"
   },
   {
    "duration": 173,
    "start_time": "2025-04-04T18:56:45.117Z"
   },
   {
    "duration": 197,
    "start_time": "2025-04-04T18:56:58.160Z"
   },
   {
    "duration": 179,
    "start_time": "2025-04-04T18:57:19.457Z"
   },
   {
    "duration": 84,
    "start_time": "2025-04-04T18:57:36.294Z"
   },
   {
    "duration": 86,
    "start_time": "2025-04-04T18:57:58.152Z"
   },
   {
    "duration": 170,
    "start_time": "2025-04-04T18:58:09.204Z"
   },
   {
    "duration": 167,
    "start_time": "2025-04-04T18:58:21.319Z"
   },
   {
    "duration": 120,
    "start_time": "2025-04-04T19:03:34.597Z"
   },
   {
    "duration": 126,
    "start_time": "2025-04-04T19:03:52.589Z"
   },
   {
    "duration": 12,
    "start_time": "2025-04-04T19:17:42.558Z"
   },
   {
    "duration": 12,
    "start_time": "2025-04-04T19:17:50.062Z"
   },
   {
    "duration": 19,
    "start_time": "2025-04-04T19:21:10.683Z"
   },
   {
    "duration": 13,
    "start_time": "2025-04-04T19:21:21.606Z"
   },
   {
    "duration": 12,
    "start_time": "2025-04-04T19:21:25.338Z"
   },
   {
    "duration": 9,
    "start_time": "2025-04-04T19:25:32.885Z"
   },
   {
    "duration": 11,
    "start_time": "2025-04-04T19:25:47.834Z"
   },
   {
    "duration": 10,
    "start_time": "2025-04-04T19:26:58.583Z"
   },
   {
    "duration": 3,
    "start_time": "2025-04-04T19:27:13.514Z"
   },
   {
    "duration": 9,
    "start_time": "2025-04-04T19:27:20.862Z"
   },
   {
    "duration": 12,
    "start_time": "2025-04-04T19:28:46.171Z"
   },
   {
    "duration": 5,
    "start_time": "2025-04-04T19:29:22.612Z"
   },
   {
    "duration": 252,
    "start_time": "2025-04-04T19:30:43.298Z"
   },
   {
    "duration": 194,
    "start_time": "2025-04-04T19:34:19.247Z"
   },
   {
    "duration": 213,
    "start_time": "2025-04-04T19:35:18.273Z"
   },
   {
    "duration": 186,
    "start_time": "2025-04-04T19:49:32.990Z"
   },
   {
    "duration": 3,
    "start_time": "2025-04-04T19:50:11.662Z"
   },
   {
    "duration": 216,
    "start_time": "2025-04-04T19:50:37.473Z"
   },
   {
    "duration": 181,
    "start_time": "2025-04-04T19:51:03.972Z"
   },
   {
    "duration": 4,
    "start_time": "2025-04-04T19:53:54.886Z"
   },
   {
    "duration": 186,
    "start_time": "2025-04-04T19:55:17.910Z"
   },
   {
    "duration": 175,
    "start_time": "2025-04-04T19:55:28.095Z"
   },
   {
    "duration": 285,
    "start_time": "2025-04-04T19:56:12.538Z"
   },
   {
    "duration": 180,
    "start_time": "2025-04-04T19:57:13.397Z"
   },
   {
    "duration": 183,
    "start_time": "2025-04-04T19:57:20.277Z"
   },
   {
    "duration": 184,
    "start_time": "2025-04-04T19:57:30.381Z"
   },
   {
    "duration": 191,
    "start_time": "2025-04-04T19:58:10.770Z"
   },
   {
    "duration": 174,
    "start_time": "2025-04-04T19:58:23.151Z"
   },
   {
    "duration": 191,
    "start_time": "2025-04-04T19:58:37.462Z"
   },
   {
    "duration": 210,
    "start_time": "2025-04-04T19:58:47.871Z"
   },
   {
    "duration": 190,
    "start_time": "2025-04-04T19:58:52.973Z"
   },
   {
    "duration": 194,
    "start_time": "2025-04-04T19:58:57.661Z"
   },
   {
    "duration": 92,
    "start_time": "2025-04-05T10:23:40.527Z"
   },
   {
    "duration": 97,
    "start_time": "2025-04-05T10:24:29.664Z"
   },
   {
    "duration": 47,
    "start_time": "2025-04-05T10:24:40.191Z"
   },
   {
    "duration": 1343,
    "start_time": "2025-04-05T10:25:48.519Z"
   },
   {
    "duration": 65,
    "start_time": "2025-04-05T10:25:49.864Z"
   },
   {
    "duration": 15,
    "start_time": "2025-04-05T10:25:49.931Z"
   },
   {
    "duration": 7,
    "start_time": "2025-04-05T10:25:49.949Z"
   },
   {
    "duration": 8,
    "start_time": "2025-04-05T10:25:49.957Z"
   },
   {
    "duration": 12,
    "start_time": "2025-04-05T10:25:49.966Z"
   },
   {
    "duration": 23,
    "start_time": "2025-04-05T10:25:49.980Z"
   },
   {
    "duration": 57,
    "start_time": "2025-04-05T10:25:50.005Z"
   },
   {
    "duration": 37,
    "start_time": "2025-04-05T10:25:50.064Z"
   },
   {
    "duration": 56,
    "start_time": "2025-04-05T10:25:50.104Z"
   },
   {
    "duration": 45,
    "start_time": "2025-04-05T10:25:50.162Z"
   },
   {
    "duration": 46,
    "start_time": "2025-04-05T10:25:50.208Z"
   },
   {
    "duration": 67,
    "start_time": "2025-04-05T10:25:50.256Z"
   },
   {
    "duration": 32,
    "start_time": "2025-04-05T10:25:50.325Z"
   },
   {
    "duration": 68,
    "start_time": "2025-04-05T10:25:50.359Z"
   },
   {
    "duration": 32,
    "start_time": "2025-04-05T10:25:50.428Z"
   },
   {
    "duration": 17,
    "start_time": "2025-04-05T10:25:50.462Z"
   },
   {
    "duration": 14,
    "start_time": "2025-04-05T10:25:50.480Z"
   },
   {
    "duration": 25,
    "start_time": "2025-04-05T10:25:50.495Z"
   },
   {
    "duration": 34,
    "start_time": "2025-04-05T10:25:50.522Z"
   },
   {
    "duration": 30,
    "start_time": "2025-04-05T10:25:50.558Z"
   },
   {
    "duration": 204,
    "start_time": "2025-04-05T10:25:50.590Z"
   },
   {
    "duration": 131,
    "start_time": "2025-04-05T10:25:50.796Z"
   },
   {
    "duration": 16,
    "start_time": "2025-04-05T10:25:50.928Z"
   },
   {
    "duration": 20,
    "start_time": "2025-04-05T10:25:50.945Z"
   },
   {
    "duration": 12,
    "start_time": "2025-04-05T10:25:50.967Z"
   },
   {
    "duration": 6,
    "start_time": "2025-04-05T10:25:50.981Z"
   },
   {
    "duration": 313,
    "start_time": "2025-04-05T10:25:50.990Z"
   },
   {
    "duration": 210,
    "start_time": "2025-04-05T10:25:51.304Z"
   },
   {
    "duration": 260,
    "start_time": "2025-04-05T10:25:51.516Z"
   },
   {
    "duration": 159,
    "start_time": "2025-04-05T10:26:25.368Z"
   },
   {
    "duration": 13,
    "start_time": "2025-04-05T10:27:52.862Z"
   },
   {
    "duration": 160,
    "start_time": "2025-04-05T10:28:08.041Z"
   },
   {
    "duration": 337,
    "start_time": "2025-04-05T10:28:17.430Z"
   },
   {
    "duration": 20,
    "start_time": "2025-04-05T10:28:38.814Z"
   },
   {
    "duration": 300,
    "start_time": "2025-04-05T10:28:46.360Z"
   },
   {
    "duration": 281,
    "start_time": "2025-04-05T10:29:06.185Z"
   },
   {
    "duration": 385,
    "start_time": "2025-04-05T10:29:55.949Z"
   },
   {
    "duration": 328,
    "start_time": "2025-04-05T10:30:07.986Z"
   },
   {
    "duration": 189,
    "start_time": "2025-04-05T10:31:18.105Z"
   },
   {
    "duration": 371,
    "start_time": "2025-04-05T10:32:15.253Z"
   },
   {
    "duration": 322,
    "start_time": "2025-04-05T10:32:22.284Z"
   },
   {
    "duration": 320,
    "start_time": "2025-04-05T10:32:42.948Z"
   },
   {
    "duration": 204,
    "start_time": "2025-04-05T10:33:02.408Z"
   },
   {
    "duration": 205,
    "start_time": "2025-04-05T10:59:36.372Z"
   },
   {
    "duration": 181,
    "start_time": "2025-04-05T11:00:03.632Z"
   },
   {
    "duration": 211,
    "start_time": "2025-04-05T11:00:22.981Z"
   },
   {
    "duration": 218,
    "start_time": "2025-04-05T11:00:33.723Z"
   },
   {
    "duration": 208,
    "start_time": "2025-04-05T11:02:21.770Z"
   },
   {
    "duration": 299,
    "start_time": "2025-04-05T11:02:55.532Z"
   },
   {
    "duration": 231,
    "start_time": "2025-04-05T11:02:59.272Z"
   },
   {
    "duration": 316,
    "start_time": "2025-04-05T11:04:14.633Z"
   },
   {
    "duration": 297,
    "start_time": "2025-04-05T11:04:38.301Z"
   },
   {
    "duration": 256,
    "start_time": "2025-04-05T11:06:28.102Z"
   },
   {
    "duration": 174,
    "start_time": "2025-04-05T12:52:23.532Z"
   },
   {
    "duration": 217,
    "start_time": "2025-04-05T12:53:52.545Z"
   },
   {
    "duration": 227,
    "start_time": "2025-04-05T12:54:20.636Z"
   },
   {
    "duration": 218,
    "start_time": "2025-04-05T12:55:07.341Z"
   },
   {
    "duration": 303,
    "start_time": "2025-04-05T12:57:18.456Z"
   },
   {
    "duration": 300,
    "start_time": "2025-04-05T12:57:48.448Z"
   },
   {
    "duration": 311,
    "start_time": "2025-04-05T12:59:06.183Z"
   },
   {
    "duration": 347,
    "start_time": "2025-04-05T13:00:16.069Z"
   },
   {
    "duration": 364,
    "start_time": "2025-04-05T13:00:45.794Z"
   },
   {
    "duration": 473,
    "start_time": "2025-04-05T13:01:25.519Z"
   },
   {
    "duration": 328,
    "start_time": "2025-04-05T13:01:52.800Z"
   },
   {
    "duration": 347,
    "start_time": "2025-04-05T13:02:14.162Z"
   },
   {
    "duration": 14,
    "start_time": "2025-04-05T13:49:50.386Z"
   },
   {
    "duration": 13,
    "start_time": "2025-04-05T13:50:23.903Z"
   },
   {
    "duration": 14,
    "start_time": "2025-04-05T13:50:28.272Z"
   },
   {
    "duration": 112,
    "start_time": "2025-04-05T13:50:34.101Z"
   },
   {
    "duration": 95,
    "start_time": "2025-04-05T13:59:44.943Z"
   },
   {
    "duration": 5,
    "start_time": "2025-04-05T13:59:47.231Z"
   },
   {
    "duration": 6,
    "start_time": "2025-04-05T13:59:56.867Z"
   },
   {
    "duration": 6,
    "start_time": "2025-04-05T14:00:02.590Z"
   },
   {
    "duration": 123,
    "start_time": "2025-04-05T14:08:53.555Z"
   },
   {
    "duration": 123,
    "start_time": "2025-04-05T14:09:22.528Z"
   },
   {
    "duration": 135,
    "start_time": "2025-04-05T14:10:40.935Z"
   },
   {
    "duration": 142,
    "start_time": "2025-04-05T14:10:49.684Z"
   },
   {
    "duration": 142,
    "start_time": "2025-04-05T14:18:50.618Z"
   },
   {
    "duration": 154,
    "start_time": "2025-04-05T14:21:02.125Z"
   },
   {
    "duration": 147,
    "start_time": "2025-04-05T14:22:42.759Z"
   },
   {
    "duration": 142,
    "start_time": "2025-04-05T14:22:47.459Z"
   },
   {
    "duration": 7,
    "start_time": "2025-04-05T14:27:33.924Z"
   },
   {
    "duration": 9,
    "start_time": "2025-04-05T14:29:30.823Z"
   },
   {
    "duration": 6,
    "start_time": "2025-04-05T14:30:03.667Z"
   },
   {
    "duration": 1283,
    "start_time": "2025-04-07T11:41:08.462Z"
   },
   {
    "duration": 190,
    "start_time": "2025-04-07T11:41:09.748Z"
   },
   {
    "duration": 12,
    "start_time": "2025-04-07T11:41:09.940Z"
   },
   {
    "duration": 8,
    "start_time": "2025-04-07T11:41:09.954Z"
   },
   {
    "duration": 22,
    "start_time": "2025-04-07T11:41:09.964Z"
   },
   {
    "duration": 11,
    "start_time": "2025-04-07T11:41:09.988Z"
   },
   {
    "duration": 16,
    "start_time": "2025-04-07T11:41:10.001Z"
   },
   {
    "duration": 16,
    "start_time": "2025-04-07T11:41:10.019Z"
   },
   {
    "duration": 19,
    "start_time": "2025-04-07T11:41:10.037Z"
   },
   {
    "duration": 16,
    "start_time": "2025-04-07T11:41:10.057Z"
   },
   {
    "duration": 8,
    "start_time": "2025-04-07T11:41:10.075Z"
   },
   {
    "duration": 13,
    "start_time": "2025-04-07T11:41:10.085Z"
   },
   {
    "duration": 9,
    "start_time": "2025-04-07T11:41:10.099Z"
   },
   {
    "duration": 9,
    "start_time": "2025-04-07T11:41:10.111Z"
   },
   {
    "duration": 14,
    "start_time": "2025-04-07T11:41:10.122Z"
   },
   {
    "duration": 9,
    "start_time": "2025-04-07T11:41:10.138Z"
   },
   {
    "duration": 16,
    "start_time": "2025-04-07T11:41:10.149Z"
   },
   {
    "duration": 7,
    "start_time": "2025-04-07T11:41:10.166Z"
   },
   {
    "duration": 15,
    "start_time": "2025-04-07T11:41:10.174Z"
   },
   {
    "duration": 10,
    "start_time": "2025-04-07T11:41:10.190Z"
   },
   {
    "duration": 67,
    "start_time": "2025-04-07T11:41:10.201Z"
   },
   {
    "duration": 222,
    "start_time": "2025-04-07T11:41:10.269Z"
   },
   {
    "duration": 122,
    "start_time": "2025-04-07T11:41:10.492Z"
   },
   {
    "duration": 6,
    "start_time": "2025-04-07T11:41:10.616Z"
   },
   {
    "duration": 9,
    "start_time": "2025-04-07T11:41:10.623Z"
   },
   {
    "duration": 6,
    "start_time": "2025-04-07T11:41:10.633Z"
   },
   {
    "duration": 5,
    "start_time": "2025-04-07T11:41:10.662Z"
   },
   {
    "duration": 307,
    "start_time": "2025-04-07T11:41:10.668Z"
   },
   {
    "duration": 216,
    "start_time": "2025-04-07T11:41:10.977Z"
   },
   {
    "duration": 109,
    "start_time": "2025-04-07T11:41:11.195Z"
   },
   {
    "duration": 0,
    "start_time": "2025-04-07T11:41:11.306Z"
   },
   {
    "duration": 0,
    "start_time": "2025-04-07T11:41:11.307Z"
   },
   {
    "duration": 0,
    "start_time": "2025-04-07T11:41:11.308Z"
   },
   {
    "duration": 0,
    "start_time": "2025-04-07T11:41:11.309Z"
   },
   {
    "duration": 0,
    "start_time": "2025-04-07T11:41:11.311Z"
   },
   {
    "duration": 0,
    "start_time": "2025-04-07T11:41:11.312Z"
   },
   {
    "duration": 0,
    "start_time": "2025-04-07T11:41:11.313Z"
   },
   {
    "duration": 10,
    "start_time": "2025-04-07T11:44:08.995Z"
   },
   {
    "duration": 1037,
    "start_time": "2025-04-07T11:44:17.207Z"
   },
   {
    "duration": 78,
    "start_time": "2025-04-07T11:44:18.246Z"
   },
   {
    "duration": 11,
    "start_time": "2025-04-07T11:44:18.326Z"
   },
   {
    "duration": 73,
    "start_time": "2025-04-07T11:44:18.339Z"
   },
   {
    "duration": 21,
    "start_time": "2025-04-07T11:44:18.414Z"
   },
   {
    "duration": 14,
    "start_time": "2025-04-07T11:44:18.436Z"
   },
   {
    "duration": 13,
    "start_time": "2025-04-07T11:44:18.452Z"
   },
   {
    "duration": 19,
    "start_time": "2025-04-07T11:44:18.466Z"
   },
   {
    "duration": 7,
    "start_time": "2025-04-07T11:44:18.486Z"
   },
   {
    "duration": 15,
    "start_time": "2025-04-07T11:44:18.495Z"
   },
   {
    "duration": 4,
    "start_time": "2025-04-07T11:44:18.512Z"
   },
   {
    "duration": 8,
    "start_time": "2025-04-07T11:44:18.517Z"
   },
   {
    "duration": 3,
    "start_time": "2025-04-07T11:44:18.527Z"
   },
   {
    "duration": 6,
    "start_time": "2025-04-07T11:44:18.531Z"
   },
   {
    "duration": 25,
    "start_time": "2025-04-07T11:44:18.538Z"
   },
   {
    "duration": 6,
    "start_time": "2025-04-07T11:44:18.564Z"
   },
   {
    "duration": 6,
    "start_time": "2025-04-07T11:44:18.571Z"
   },
   {
    "duration": 12,
    "start_time": "2025-04-07T11:44:18.578Z"
   },
   {
    "duration": 12,
    "start_time": "2025-04-07T11:44:18.591Z"
   },
   {
    "duration": 13,
    "start_time": "2025-04-07T11:44:18.604Z"
   },
   {
    "duration": 20,
    "start_time": "2025-04-07T11:44:18.619Z"
   },
   {
    "duration": 178,
    "start_time": "2025-04-07T11:44:18.640Z"
   },
   {
    "duration": 123,
    "start_time": "2025-04-07T11:44:18.820Z"
   },
   {
    "duration": 20,
    "start_time": "2025-04-07T11:44:18.944Z"
   },
   {
    "duration": 28,
    "start_time": "2025-04-07T11:44:18.965Z"
   },
   {
    "duration": 30,
    "start_time": "2025-04-07T11:44:18.994Z"
   },
   {
    "duration": 11,
    "start_time": "2025-04-07T11:44:19.026Z"
   },
   {
    "duration": 396,
    "start_time": "2025-04-07T11:44:19.040Z"
   },
   {
    "duration": 212,
    "start_time": "2025-04-07T11:44:19.438Z"
   },
   {
    "duration": 113,
    "start_time": "2025-04-07T11:44:19.651Z"
   },
   {
    "duration": 0,
    "start_time": "2025-04-07T11:44:19.766Z"
   },
   {
    "duration": 0,
    "start_time": "2025-04-07T11:44:19.767Z"
   },
   {
    "duration": 0,
    "start_time": "2025-04-07T11:44:19.768Z"
   },
   {
    "duration": 0,
    "start_time": "2025-04-07T11:44:19.769Z"
   },
   {
    "duration": 0,
    "start_time": "2025-04-07T11:44:19.770Z"
   },
   {
    "duration": 0,
    "start_time": "2025-04-07T11:44:19.771Z"
   },
   {
    "duration": 0,
    "start_time": "2025-04-07T11:44:19.772Z"
   },
   {
    "duration": 0,
    "start_time": "2025-04-07T11:44:19.773Z"
   },
   {
    "duration": 1083,
    "start_time": "2025-04-07T11:44:59.440Z"
   },
   {
    "duration": 68,
    "start_time": "2025-04-07T11:45:00.525Z"
   },
   {
    "duration": 40,
    "start_time": "2025-04-07T11:45:00.595Z"
   },
   {
    "duration": 45,
    "start_time": "2025-04-07T11:45:00.637Z"
   },
   {
    "duration": 48,
    "start_time": "2025-04-07T11:45:00.683Z"
   },
   {
    "duration": 92,
    "start_time": "2025-04-07T11:45:00.733Z"
   },
   {
    "duration": 32,
    "start_time": "2025-04-07T11:45:00.827Z"
   },
   {
    "duration": 41,
    "start_time": "2025-04-07T11:45:00.861Z"
   },
   {
    "duration": 23,
    "start_time": "2025-04-07T11:45:00.904Z"
   },
   {
    "duration": 28,
    "start_time": "2025-04-07T11:45:00.930Z"
   },
   {
    "duration": 35,
    "start_time": "2025-04-07T11:45:00.960Z"
   },
   {
    "duration": 38,
    "start_time": "2025-04-07T11:45:00.996Z"
   },
   {
    "duration": 91,
    "start_time": "2025-04-07T11:45:01.036Z"
   },
   {
    "duration": 23,
    "start_time": "2025-04-07T11:45:01.128Z"
   },
   {
    "duration": 23,
    "start_time": "2025-04-07T11:45:01.152Z"
   },
   {
    "duration": 21,
    "start_time": "2025-04-07T11:45:01.177Z"
   },
   {
    "duration": 27,
    "start_time": "2025-04-07T11:45:01.200Z"
   },
   {
    "duration": 26,
    "start_time": "2025-04-07T11:45:01.229Z"
   },
   {
    "duration": 42,
    "start_time": "2025-04-07T11:45:01.256Z"
   },
   {
    "duration": 87,
    "start_time": "2025-04-07T11:45:01.300Z"
   },
   {
    "duration": 54,
    "start_time": "2025-04-07T11:45:01.389Z"
   },
   {
    "duration": 188,
    "start_time": "2025-04-07T11:45:01.445Z"
   },
   {
    "duration": 131,
    "start_time": "2025-04-07T11:45:01.634Z"
   },
   {
    "duration": 11,
    "start_time": "2025-04-07T11:45:01.767Z"
   },
   {
    "duration": 52,
    "start_time": "2025-04-07T11:45:01.779Z"
   },
   {
    "duration": 12,
    "start_time": "2025-04-07T11:45:01.833Z"
   },
   {
    "duration": 25,
    "start_time": "2025-04-07T11:45:01.847Z"
   },
   {
    "duration": 306,
    "start_time": "2025-04-07T11:45:01.875Z"
   },
   {
    "duration": 214,
    "start_time": "2025-04-07T11:45:02.183Z"
   },
   {
    "duration": 114,
    "start_time": "2025-04-07T11:45:02.398Z"
   },
   {
    "duration": 0,
    "start_time": "2025-04-07T11:45:02.513Z"
   },
   {
    "duration": 0,
    "start_time": "2025-04-07T11:45:02.515Z"
   },
   {
    "duration": 0,
    "start_time": "2025-04-07T11:45:02.516Z"
   },
   {
    "duration": 0,
    "start_time": "2025-04-07T11:45:02.516Z"
   },
   {
    "duration": 0,
    "start_time": "2025-04-07T11:45:02.518Z"
   },
   {
    "duration": 0,
    "start_time": "2025-04-07T11:45:02.519Z"
   },
   {
    "duration": 0,
    "start_time": "2025-04-07T11:45:02.520Z"
   },
   {
    "duration": 0,
    "start_time": "2025-04-07T11:45:02.521Z"
   },
   {
    "duration": 15,
    "start_time": "2025-04-07T11:45:34.367Z"
   },
   {
    "duration": 302,
    "start_time": "2025-04-07T11:45:42.823Z"
   },
   {
    "duration": 225,
    "start_time": "2025-04-07T11:45:47.611Z"
   },
   {
    "duration": 344,
    "start_time": "2025-04-07T11:45:52.883Z"
   },
   {
    "duration": 110,
    "start_time": "2025-04-07T11:45:56.486Z"
   },
   {
    "duration": 5,
    "start_time": "2025-04-07T11:45:59.632Z"
   },
   {
    "duration": 203,
    "start_time": "2025-04-07T11:46:02.086Z"
   },
   {
    "duration": 154,
    "start_time": "2025-04-07T11:46:05.273Z"
   },
   {
    "duration": 5,
    "start_time": "2025-04-07T11:46:07.627Z"
   },
   {
    "duration": 101,
    "start_time": "2025-04-07T13:37:56.009Z"
   },
   {
    "duration": 112,
    "start_time": "2025-04-07T13:38:25.526Z"
   },
   {
    "duration": 214,
    "start_time": "2025-04-07T13:39:12.223Z"
   },
   {
    "duration": 227,
    "start_time": "2025-04-07T13:45:40.309Z"
   },
   {
    "duration": 11,
    "start_time": "2025-04-07T14:37:33.530Z"
   },
   {
    "duration": 67,
    "start_time": "2025-04-07T14:37:48.382Z"
   },
   {
    "duration": 77,
    "start_time": "2025-04-07T14:37:58.311Z"
   },
   {
    "duration": 63,
    "start_time": "2025-04-07T14:38:05.030Z"
   },
   {
    "duration": 71,
    "start_time": "2025-04-07T14:38:10.188Z"
   },
   {
    "duration": 73,
    "start_time": "2025-04-07T14:38:37.505Z"
   },
   {
    "duration": 3,
    "start_time": "2025-04-07T14:40:48.138Z"
   },
   {
    "duration": 7,
    "start_time": "2025-04-07T14:44:18.156Z"
   },
   {
    "duration": 7,
    "start_time": "2025-04-07T14:44:32.737Z"
   },
   {
    "duration": 9,
    "start_time": "2025-04-07T14:45:37.370Z"
   },
   {
    "duration": 11,
    "start_time": "2025-04-07T14:46:18.958Z"
   },
   {
    "duration": 8,
    "start_time": "2025-04-07T14:47:53.504Z"
   },
   {
    "duration": 4,
    "start_time": "2025-04-07T14:47:58.046Z"
   },
   {
    "duration": 4,
    "start_time": "2025-04-07T14:48:23.128Z"
   },
   {
    "duration": 4,
    "start_time": "2025-04-07T14:48:56.647Z"
   },
   {
    "duration": 9,
    "start_time": "2025-04-07T14:49:50.652Z"
   },
   {
    "duration": 8,
    "start_time": "2025-04-07T14:50:43.637Z"
   },
   {
    "duration": 8,
    "start_time": "2025-04-07T14:50:55.174Z"
   },
   {
    "duration": 160,
    "start_time": "2025-04-07T14:55:54.459Z"
   },
   {
    "duration": 141,
    "start_time": "2025-04-07T14:57:00.671Z"
   },
   {
    "duration": 16,
    "start_time": "2025-04-07T14:57:23.447Z"
   },
   {
    "duration": 12,
    "start_time": "2025-04-07T14:58:22.334Z"
   },
   {
    "duration": 11,
    "start_time": "2025-04-07T14:58:41.929Z"
   },
   {
    "duration": 12,
    "start_time": "2025-04-07T14:58:46.343Z"
   },
   {
    "duration": 12,
    "start_time": "2025-04-07T14:59:36.333Z"
   },
   {
    "duration": 11,
    "start_time": "2025-04-07T14:59:45.989Z"
   },
   {
    "duration": 10,
    "start_time": "2025-04-07T15:03:26.059Z"
   },
   {
    "duration": 10,
    "start_time": "2025-04-07T15:03:37.545Z"
   },
   {
    "duration": 4,
    "start_time": "2025-04-07T15:26:32.438Z"
   },
   {
    "duration": 10,
    "start_time": "2025-04-07T15:26:35.176Z"
   },
   {
    "duration": 13,
    "start_time": "2025-04-07T15:27:42.804Z"
   },
   {
    "duration": 12,
    "start_time": "2025-04-07T15:31:59.282Z"
   },
   {
    "duration": 17,
    "start_time": "2025-04-07T15:32:24.347Z"
   },
   {
    "duration": 15,
    "start_time": "2025-04-07T15:33:51.864Z"
   },
   {
    "duration": 8,
    "start_time": "2025-04-07T15:37:50.765Z"
   },
   {
    "duration": 8,
    "start_time": "2025-04-07T15:37:53.596Z"
   },
   {
    "duration": 11,
    "start_time": "2025-04-07T15:43:58.790Z"
   },
   {
    "duration": 11,
    "start_time": "2025-04-07T15:46:34.317Z"
   },
   {
    "duration": 11,
    "start_time": "2025-04-07T15:47:24.453Z"
   },
   {
    "duration": 11,
    "start_time": "2025-04-07T15:51:43.186Z"
   },
   {
    "duration": 8,
    "start_time": "2025-04-07T16:09:23.510Z"
   },
   {
    "duration": 28,
    "start_time": "2025-04-07T16:09:48.010Z"
   },
   {
    "duration": 26,
    "start_time": "2025-04-07T16:10:09.164Z"
   },
   {
    "duration": 4,
    "start_time": "2025-04-07T16:17:27.598Z"
   },
   {
    "duration": 5,
    "start_time": "2025-04-07T16:21:31.673Z"
   },
   {
    "duration": 5,
    "start_time": "2025-04-07T16:22:03.843Z"
   },
   {
    "duration": 4,
    "start_time": "2025-04-07T16:22:10.199Z"
   },
   {
    "duration": 26,
    "start_time": "2025-04-07T16:39:04.634Z"
   },
   {
    "duration": 10,
    "start_time": "2025-04-07T16:41:08.897Z"
   },
   {
    "duration": 11,
    "start_time": "2025-04-07T16:41:18.802Z"
   },
   {
    "duration": 11,
    "start_time": "2025-04-07T16:44:06.972Z"
   },
   {
    "duration": 12,
    "start_time": "2025-04-07T16:44:51.509Z"
   },
   {
    "duration": 13,
    "start_time": "2025-04-07T16:45:00.916Z"
   },
   {
    "duration": 13,
    "start_time": "2025-04-07T16:45:16.082Z"
   },
   {
    "duration": 12,
    "start_time": "2025-04-07T16:45:28.551Z"
   },
   {
    "duration": 11,
    "start_time": "2025-04-07T16:46:39.166Z"
   },
   {
    "duration": 10,
    "start_time": "2025-04-07T16:52:50.454Z"
   },
   {
    "duration": 9,
    "start_time": "2025-04-07T16:53:32.755Z"
   },
   {
    "duration": 3,
    "start_time": "2025-04-07T17:10:45.929Z"
   },
   {
    "duration": 18,
    "start_time": "2025-04-07T17:19:35.928Z"
   },
   {
    "duration": 10,
    "start_time": "2025-04-07T17:20:11.634Z"
   },
   {
    "duration": 11,
    "start_time": "2025-04-07T17:20:33.784Z"
   },
   {
    "duration": 10,
    "start_time": "2025-04-07T17:20:40.509Z"
   },
   {
    "duration": 10,
    "start_time": "2025-04-07T17:22:17.688Z"
   },
   {
    "duration": 10,
    "start_time": "2025-04-07T17:22:28.897Z"
   },
   {
    "duration": 28,
    "start_time": "2025-04-07T17:57:10.640Z"
   },
   {
    "duration": 26,
    "start_time": "2025-04-07T17:57:14.839Z"
   },
   {
    "duration": 12,
    "start_time": "2025-04-07T17:57:43.452Z"
   },
   {
    "duration": 10,
    "start_time": "2025-04-07T17:57:53.499Z"
   },
   {
    "duration": 12,
    "start_time": "2025-04-07T17:58:16.420Z"
   },
   {
    "duration": 16,
    "start_time": "2025-04-07T17:59:18.361Z"
   },
   {
    "duration": 13,
    "start_time": "2025-04-07T17:59:41.180Z"
   },
   {
    "duration": 11,
    "start_time": "2025-04-07T17:59:50.935Z"
   },
   {
    "duration": 14,
    "start_time": "2025-04-07T18:00:04.932Z"
   },
   {
    "duration": 15,
    "start_time": "2025-04-07T18:03:40.780Z"
   },
   {
    "duration": 13,
    "start_time": "2025-04-07T18:03:59.697Z"
   },
   {
    "duration": 11,
    "start_time": "2025-04-07T18:04:20.655Z"
   },
   {
    "duration": 11,
    "start_time": "2025-04-07T18:04:24.856Z"
   },
   {
    "duration": 92,
    "start_time": "2025-04-07T18:11:59.456Z"
   },
   {
    "duration": 28,
    "start_time": "2025-04-07T18:12:15.331Z"
   },
   {
    "duration": 26,
    "start_time": "2025-04-07T18:12:25.919Z"
   },
   {
    "duration": 123,
    "start_time": "2025-04-07T18:24:14.612Z"
   },
   {
    "duration": 4,
    "start_time": "2025-04-07T18:24:20.008Z"
   },
   {
    "duration": 4,
    "start_time": "2025-04-07T18:26:18.693Z"
   },
   {
    "duration": 175,
    "start_time": "2025-04-07T18:45:13.719Z"
   },
   {
    "duration": 12,
    "start_time": "2025-04-07T18:45:25.015Z"
   },
   {
    "duration": 10,
    "start_time": "2025-04-07T18:58:37.791Z"
   },
   {
    "duration": 301,
    "start_time": "2025-04-07T20:01:38.221Z"
   },
   {
    "duration": 9,
    "start_time": "2025-04-07T22:27:05.692Z"
   },
   {
    "duration": 1172,
    "start_time": "2025-04-07T22:36:42.084Z"
   },
   {
    "duration": 72,
    "start_time": "2025-04-07T22:36:43.260Z"
   },
   {
    "duration": 14,
    "start_time": "2025-04-07T22:36:43.333Z"
   },
   {
    "duration": 165,
    "start_time": "2025-04-07T22:36:43.348Z"
   },
   {
    "duration": 20,
    "start_time": "2025-04-07T22:36:43.516Z"
   },
   {
    "duration": 14,
    "start_time": "2025-04-07T22:36:43.537Z"
   },
   {
    "duration": 21,
    "start_time": "2025-04-07T22:36:43.552Z"
   },
   {
    "duration": 24,
    "start_time": "2025-04-07T22:36:43.575Z"
   },
   {
    "duration": 7,
    "start_time": "2025-04-07T22:36:43.600Z"
   },
   {
    "duration": 43,
    "start_time": "2025-04-07T22:36:43.609Z"
   },
   {
    "duration": 5,
    "start_time": "2025-04-07T22:36:43.654Z"
   },
   {
    "duration": 10,
    "start_time": "2025-04-07T22:36:43.661Z"
   },
   {
    "duration": 12,
    "start_time": "2025-04-07T22:36:43.673Z"
   },
   {
    "duration": 5,
    "start_time": "2025-04-07T22:36:43.688Z"
   },
   {
    "duration": 8,
    "start_time": "2025-04-07T22:36:43.695Z"
   },
   {
    "duration": 6,
    "start_time": "2025-04-07T22:36:43.705Z"
   },
   {
    "duration": 10,
    "start_time": "2025-04-07T22:36:43.713Z"
   },
   {
    "duration": 5,
    "start_time": "2025-04-07T22:36:43.725Z"
   },
   {
    "duration": 41,
    "start_time": "2025-04-07T22:36:43.731Z"
   },
   {
    "duration": 12,
    "start_time": "2025-04-07T22:36:43.773Z"
   },
   {
    "duration": 14,
    "start_time": "2025-04-07T22:36:43.787Z"
   },
   {
    "duration": 195,
    "start_time": "2025-04-07T22:36:43.803Z"
   },
   {
    "duration": 126,
    "start_time": "2025-04-07T22:36:43.999Z"
   },
   {
    "duration": 30,
    "start_time": "2025-04-07T22:36:44.127Z"
   },
   {
    "duration": 15,
    "start_time": "2025-04-07T22:36:44.159Z"
   },
   {
    "duration": 30,
    "start_time": "2025-04-07T22:36:44.175Z"
   },
   {
    "duration": 21,
    "start_time": "2025-04-07T22:36:44.207Z"
   },
   {
    "duration": 334,
    "start_time": "2025-04-07T22:36:44.230Z"
   },
   {
    "duration": 247,
    "start_time": "2025-04-07T22:36:44.566Z"
   },
   {
    "duration": 318,
    "start_time": "2025-04-07T22:36:44.814Z"
   },
   {
    "duration": 259,
    "start_time": "2025-04-07T22:36:45.134Z"
   },
   {
    "duration": 348,
    "start_time": "2025-04-07T22:36:45.395Z"
   },
   {
    "duration": 136,
    "start_time": "2025-04-07T22:36:45.744Z"
   },
   {
    "duration": 6,
    "start_time": "2025-04-07T22:36:45.882Z"
   },
   {
    "duration": 164,
    "start_time": "2025-04-07T22:36:45.890Z"
   },
   {
    "duration": 161,
    "start_time": "2025-04-07T22:36:46.056Z"
   },
   {
    "duration": 6,
    "start_time": "2025-04-07T22:36:46.219Z"
   },
   {
    "duration": 318,
    "start_time": "2025-04-07T22:36:46.227Z"
   },
   {
    "duration": 78,
    "start_time": "2025-04-07T22:36:46.547Z"
   },
   {
    "duration": 114,
    "start_time": "2025-04-07T22:36:46.626Z"
   },
   {
    "duration": 28,
    "start_time": "2025-04-07T22:36:46.745Z"
   },
   {
    "duration": 35,
    "start_time": "2025-04-07T22:36:46.776Z"
   },
   {
    "duration": 36,
    "start_time": "2025-04-07T22:36:46.814Z"
   },
   {
    "duration": 52,
    "start_time": "2025-04-07T22:36:46.852Z"
   },
   {
    "duration": 68,
    "start_time": "2025-04-07T22:36:46.906Z"
   },
   {
    "duration": 32,
    "start_time": "2025-04-07T22:36:46.976Z"
   },
   {
    "duration": 35,
    "start_time": "2025-04-07T22:36:47.010Z"
   },
   {
    "duration": 16,
    "start_time": "2025-04-07T22:36:47.047Z"
   },
   {
    "duration": 59,
    "start_time": "2025-04-07T22:36:47.065Z"
   },
   {
    "duration": 13,
    "start_time": "2025-04-07T22:36:47.126Z"
   },
   {
    "duration": 51,
    "start_time": "2025-04-07T22:36:47.141Z"
   },
   {
    "duration": 6,
    "start_time": "2025-04-07T22:36:47.194Z"
   },
   {
    "duration": 16,
    "start_time": "2025-04-07T22:36:47.202Z"
   },
   {
    "duration": 11,
    "start_time": "2025-04-07T22:36:47.221Z"
   },
   {
    "duration": 109,
    "start_time": "2025-04-08T13:11:07.681Z"
   },
   {
    "duration": 105,
    "start_time": "2025-04-08T13:11:14.415Z"
   },
   {
    "duration": 101,
    "start_time": "2025-04-08T13:12:28.875Z"
   },
   {
    "duration": 46,
    "start_time": "2025-04-08T13:13:34.315Z"
   },
   {
    "duration": 1243,
    "start_time": "2025-04-08T13:13:52.727Z"
   },
   {
    "duration": 78,
    "start_time": "2025-04-08T13:13:53.971Z"
   },
   {
    "duration": 13,
    "start_time": "2025-04-08T13:13:54.050Z"
   },
   {
    "duration": 7,
    "start_time": "2025-04-08T13:13:54.065Z"
   },
   {
    "duration": 7,
    "start_time": "2025-04-08T13:13:54.074Z"
   },
   {
    "duration": 13,
    "start_time": "2025-04-08T13:13:54.082Z"
   },
   {
    "duration": 81,
    "start_time": "2025-04-08T13:13:54.096Z"
   },
   {
    "duration": 9,
    "start_time": "2025-04-08T13:13:54.179Z"
   },
   {
    "duration": 4,
    "start_time": "2025-04-08T13:13:54.190Z"
   },
   {
    "duration": 13,
    "start_time": "2025-04-08T13:13:54.196Z"
   },
   {
    "duration": 9,
    "start_time": "2025-04-08T13:13:54.210Z"
   },
   {
    "duration": 17,
    "start_time": "2025-04-08T13:13:54.220Z"
   },
   {
    "duration": 4,
    "start_time": "2025-04-08T13:13:54.238Z"
   },
   {
    "duration": 19,
    "start_time": "2025-04-08T13:13:54.244Z"
   },
   {
    "duration": 8,
    "start_time": "2025-04-08T13:13:54.264Z"
   },
   {
    "duration": 5,
    "start_time": "2025-04-08T13:13:54.274Z"
   },
   {
    "duration": 9,
    "start_time": "2025-04-08T13:13:54.280Z"
   },
   {
    "duration": 8,
    "start_time": "2025-04-08T13:13:54.290Z"
   },
   {
    "duration": 22,
    "start_time": "2025-04-08T13:13:54.299Z"
   },
   {
    "duration": 10,
    "start_time": "2025-04-08T13:14:00.734Z"
   },
   {
    "duration": 3,
    "start_time": "2025-04-08T13:33:01.173Z"
   },
   {
    "duration": 12,
    "start_time": "2025-04-08T13:33:21.466Z"
   },
   {
    "duration": 65,
    "start_time": "2025-04-08T13:45:59.511Z"
   },
   {
    "duration": 3,
    "start_time": "2025-04-08T13:46:07.962Z"
   },
   {
    "duration": 94,
    "start_time": "2025-04-08T13:46:07.967Z"
   },
   {
    "duration": 8,
    "start_time": "2025-04-08T13:46:08.064Z"
   },
   {
    "duration": 38,
    "start_time": "2025-04-08T13:46:08.073Z"
   },
   {
    "duration": 109,
    "start_time": "2025-04-08T13:46:08.113Z"
   },
   {
    "duration": 63,
    "start_time": "2025-04-08T13:46:08.224Z"
   },
   {
    "duration": 25,
    "start_time": "2025-04-08T13:46:08.288Z"
   },
   {
    "duration": 17,
    "start_time": "2025-04-08T13:46:08.315Z"
   },
   {
    "duration": 25,
    "start_time": "2025-04-08T13:46:08.333Z"
   },
   {
    "duration": 44,
    "start_time": "2025-04-08T13:46:08.360Z"
   },
   {
    "duration": 22,
    "start_time": "2025-04-08T13:46:08.406Z"
   },
   {
    "duration": 13,
    "start_time": "2025-04-08T13:46:08.429Z"
   },
   {
    "duration": 23,
    "start_time": "2025-04-08T13:46:08.444Z"
   },
   {
    "duration": 19,
    "start_time": "2025-04-08T13:46:08.469Z"
   },
   {
    "duration": 23,
    "start_time": "2025-04-08T13:46:08.490Z"
   },
   {
    "duration": 12,
    "start_time": "2025-04-08T13:46:08.515Z"
   },
   {
    "duration": 10,
    "start_time": "2025-04-08T13:46:08.528Z"
   },
   {
    "duration": 60,
    "start_time": "2025-04-08T13:46:08.540Z"
   },
   {
    "duration": 31,
    "start_time": "2025-04-08T13:46:08.602Z"
   },
   {
    "duration": 47,
    "start_time": "2025-04-08T13:46:08.635Z"
   },
   {
    "duration": 30,
    "start_time": "2025-04-08T13:46:08.683Z"
   },
   {
    "duration": 39,
    "start_time": "2025-04-08T13:46:08.714Z"
   },
   {
    "duration": 162,
    "start_time": "2025-04-08T13:46:08.755Z"
   },
   {
    "duration": 124,
    "start_time": "2025-04-08T13:46:08.919Z"
   },
   {
    "duration": 24,
    "start_time": "2025-04-08T13:46:09.045Z"
   },
   {
    "duration": 94,
    "start_time": "2025-04-08T13:46:09.071Z"
   },
   {
    "duration": 38,
    "start_time": "2025-04-08T13:46:09.167Z"
   },
   {
    "duration": 31,
    "start_time": "2025-04-08T13:46:09.206Z"
   },
   {
    "duration": 357,
    "start_time": "2025-04-08T13:46:09.240Z"
   },
   {
    "duration": 207,
    "start_time": "2025-04-08T13:46:17.698Z"
   },
   {
    "duration": 10,
    "start_time": "2025-04-08T13:58:31.490Z"
   },
   {
    "duration": 58,
    "start_time": "2025-04-08T13:58:51.817Z"
   },
   {
    "duration": 209,
    "start_time": "2025-04-08T13:59:01.916Z"
   },
   {
    "duration": 220,
    "start_time": "2025-04-08T14:09:25.822Z"
   },
   {
    "duration": 141,
    "start_time": "2025-04-08T14:10:56.234Z"
   },
   {
    "duration": 14,
    "start_time": "2025-04-08T14:11:22.779Z"
   },
   {
    "duration": 15,
    "start_time": "2025-04-08T14:11:28.661Z"
   },
   {
    "duration": 274,
    "start_time": "2025-04-08T14:11:47.889Z"
   },
   {
    "duration": 3,
    "start_time": "2025-04-08T14:12:19.858Z"
   },
   {
    "duration": 310,
    "start_time": "2025-04-08T14:12:21.726Z"
   },
   {
    "duration": 4,
    "start_time": "2025-04-08T15:15:48.476Z"
   },
   {
    "duration": 79,
    "start_time": "2025-04-08T15:15:48.481Z"
   },
   {
    "duration": 8,
    "start_time": "2025-04-08T15:15:48.562Z"
   },
   {
    "duration": 17,
    "start_time": "2025-04-08T15:15:48.572Z"
   },
   {
    "duration": 21,
    "start_time": "2025-04-08T15:15:48.591Z"
   },
   {
    "duration": 39,
    "start_time": "2025-04-08T15:15:48.614Z"
   },
   {
    "duration": 10,
    "start_time": "2025-04-08T15:15:48.654Z"
   },
   {
    "duration": 9,
    "start_time": "2025-04-08T15:15:48.666Z"
   },
   {
    "duration": 26,
    "start_time": "2025-04-08T15:15:48.678Z"
   },
   {
    "duration": 17,
    "start_time": "2025-04-08T15:15:48.705Z"
   },
   {
    "duration": 4,
    "start_time": "2025-04-08T15:15:48.724Z"
   },
   {
    "duration": 10,
    "start_time": "2025-04-08T15:15:48.729Z"
   },
   {
    "duration": 8,
    "start_time": "2025-04-08T15:15:48.740Z"
   },
   {
    "duration": 6,
    "start_time": "2025-04-08T15:15:48.749Z"
   },
   {
    "duration": 13,
    "start_time": "2025-04-08T15:15:48.756Z"
   },
   {
    "duration": 11,
    "start_time": "2025-04-08T15:15:48.770Z"
   },
   {
    "duration": 27,
    "start_time": "2025-04-08T15:15:48.782Z"
   },
   {
    "duration": 10,
    "start_time": "2025-04-08T15:15:48.810Z"
   },
   {
    "duration": 17,
    "start_time": "2025-04-08T15:15:48.821Z"
   },
   {
    "duration": 21,
    "start_time": "2025-04-08T15:15:48.839Z"
   },
   {
    "duration": 28,
    "start_time": "2025-04-08T15:15:48.861Z"
   },
   {
    "duration": 29,
    "start_time": "2025-04-08T15:15:48.890Z"
   },
   {
    "duration": 176,
    "start_time": "2025-04-08T15:15:48.920Z"
   },
   {
    "duration": 122,
    "start_time": "2025-04-08T15:15:49.099Z"
   },
   {
    "duration": 6,
    "start_time": "2025-04-08T15:15:49.223Z"
   },
   {
    "duration": 21,
    "start_time": "2025-04-08T15:15:49.231Z"
   },
   {
    "duration": 77,
    "start_time": "2025-04-08T15:15:49.254Z"
   },
   {
    "duration": 16,
    "start_time": "2025-04-08T15:15:49.333Z"
   },
   {
    "duration": 224,
    "start_time": "2025-04-08T15:15:49.350Z"
   },
   {
    "duration": 218,
    "start_time": "2025-04-08T15:15:49.576Z"
   },
   {
    "duration": 341,
    "start_time": "2025-04-08T15:15:49.796Z"
   },
   {
    "duration": 239,
    "start_time": "2025-04-08T15:15:50.138Z"
   },
   {
    "duration": 349,
    "start_time": "2025-04-08T15:15:50.379Z"
   },
   {
    "duration": 132,
    "start_time": "2025-04-08T15:15:50.730Z"
   },
   {
    "duration": 6,
    "start_time": "2025-04-08T15:15:50.864Z"
   },
   {
    "duration": 150,
    "start_time": "2025-04-08T15:15:50.872Z"
   },
   {
    "duration": 230,
    "start_time": "2025-04-08T15:15:51.024Z"
   },
   {
    "duration": 6,
    "start_time": "2025-04-08T15:15:51.256Z"
   },
   {
    "duration": 331,
    "start_time": "2025-04-08T15:15:51.263Z"
   },
   {
    "duration": 6,
    "start_time": "2025-04-08T15:15:51.596Z"
   },
   {
    "duration": 222,
    "start_time": "2025-04-08T15:15:51.603Z"
   },
   {
    "duration": 78,
    "start_time": "2025-04-08T15:15:51.826Z"
   },
   {
    "duration": 90,
    "start_time": "2025-04-08T15:15:51.906Z"
   },
   {
    "duration": 11,
    "start_time": "2025-04-08T15:15:51.997Z"
   },
   {
    "duration": 8,
    "start_time": "2025-04-08T15:15:52.009Z"
   },
   {
    "duration": 10,
    "start_time": "2025-04-08T15:15:52.019Z"
   },
   {
    "duration": 38,
    "start_time": "2025-04-08T15:15:52.030Z"
   },
   {
    "duration": 27,
    "start_time": "2025-04-08T15:15:52.070Z"
   },
   {
    "duration": 4,
    "start_time": "2025-04-08T15:15:52.098Z"
   },
   {
    "duration": 11,
    "start_time": "2025-04-08T15:15:52.103Z"
   },
   {
    "duration": 12,
    "start_time": "2025-04-08T15:15:52.115Z"
   },
   {
    "duration": 12,
    "start_time": "2025-04-08T15:19:51.917Z"
   },
   {
    "duration": 3,
    "start_time": "2025-04-08T15:20:00.243Z"
   },
   {
    "duration": 1362,
    "start_time": "2025-04-09T12:16:45.115Z"
   },
   {
    "duration": 76,
    "start_time": "2025-04-09T12:16:46.479Z"
   },
   {
    "duration": 11,
    "start_time": "2025-04-09T12:16:46.557Z"
   },
   {
    "duration": 13,
    "start_time": "2025-04-09T12:16:46.570Z"
   },
   {
    "duration": 9,
    "start_time": "2025-04-09T12:16:46.586Z"
   },
   {
    "duration": 13,
    "start_time": "2025-04-09T12:16:46.597Z"
   },
   {
    "duration": 11,
    "start_time": "2025-04-09T12:16:46.612Z"
   },
   {
    "duration": 24,
    "start_time": "2025-04-09T12:16:46.625Z"
   },
   {
    "duration": 5,
    "start_time": "2025-04-09T12:16:46.651Z"
   },
   {
    "duration": 16,
    "start_time": "2025-04-09T12:16:46.658Z"
   },
   {
    "duration": 5,
    "start_time": "2025-04-09T12:16:46.676Z"
   },
   {
    "duration": 23,
    "start_time": "2025-04-09T12:16:46.683Z"
   },
   {
    "duration": 53,
    "start_time": "2025-04-09T12:16:46.708Z"
   },
   {
    "duration": 23,
    "start_time": "2025-04-09T12:16:46.765Z"
   },
   {
    "duration": 7,
    "start_time": "2025-04-09T12:16:46.790Z"
   },
   {
    "duration": 7,
    "start_time": "2025-04-09T12:16:46.798Z"
   },
   {
    "duration": 6,
    "start_time": "2025-04-09T12:16:46.807Z"
   },
   {
    "duration": 11,
    "start_time": "2025-04-09T12:16:46.815Z"
   },
   {
    "duration": 4,
    "start_time": "2025-04-09T12:16:46.827Z"
   },
   {
    "duration": 24,
    "start_time": "2025-04-09T12:16:46.832Z"
   },
   {
    "duration": 12,
    "start_time": "2025-04-09T12:16:46.857Z"
   },
   {
    "duration": 13,
    "start_time": "2025-04-09T12:16:46.871Z"
   },
   {
    "duration": 172,
    "start_time": "2025-04-09T12:16:46.886Z"
   },
   {
    "duration": 134,
    "start_time": "2025-04-09T12:16:47.060Z"
   },
   {
    "duration": 7,
    "start_time": "2025-04-09T12:16:47.197Z"
   },
   {
    "duration": 31,
    "start_time": "2025-04-09T12:16:47.205Z"
   },
   {
    "duration": 15,
    "start_time": "2025-04-09T12:16:47.238Z"
   },
   {
    "duration": 5,
    "start_time": "2025-04-09T12:16:47.254Z"
   },
   {
    "duration": 298,
    "start_time": "2025-04-09T12:16:47.261Z"
   },
   {
    "duration": 229,
    "start_time": "2025-04-09T12:16:47.561Z"
   },
   {
    "duration": 403,
    "start_time": "2025-04-09T12:16:47.792Z"
   },
   {
    "duration": 243,
    "start_time": "2025-04-09T12:16:48.198Z"
   },
   {
    "duration": 363,
    "start_time": "2025-04-09T12:16:48.442Z"
   },
   {
    "duration": 129,
    "start_time": "2025-04-09T12:16:48.807Z"
   },
   {
    "duration": 7,
    "start_time": "2025-04-09T12:16:48.937Z"
   },
   {
    "duration": 163,
    "start_time": "2025-04-09T12:16:48.946Z"
   },
   {
    "duration": 300,
    "start_time": "2025-04-09T12:16:49.111Z"
   },
   {
    "duration": 3,
    "start_time": "2025-04-09T12:16:49.413Z"
   },
   {
    "duration": 288,
    "start_time": "2025-04-09T12:16:49.417Z"
   },
   {
    "duration": 6,
    "start_time": "2025-04-09T12:16:49.707Z"
   },
   {
    "duration": 209,
    "start_time": "2025-04-09T12:16:49.717Z"
   },
   {
    "duration": 73,
    "start_time": "2025-04-09T12:16:49.928Z"
   },
   {
    "duration": 85,
    "start_time": "2025-04-09T12:16:50.003Z"
   },
   {
    "duration": 11,
    "start_time": "2025-04-09T12:16:50.090Z"
   },
   {
    "duration": 30,
    "start_time": "2025-04-09T12:16:50.102Z"
   },
   {
    "duration": 11,
    "start_time": "2025-04-09T12:16:50.134Z"
   },
   {
    "duration": 50,
    "start_time": "2025-04-09T12:16:50.146Z"
   },
   {
    "duration": 188,
    "start_time": "2025-04-09T12:16:50.197Z"
   },
   {
    "duration": 4,
    "start_time": "2025-04-09T12:16:50.386Z"
   },
   {
    "duration": 26,
    "start_time": "2025-04-09T12:16:50.392Z"
   },
   {
    "duration": 28,
    "start_time": "2025-04-09T12:16:50.420Z"
   },
   {
    "duration": 92,
    "start_time": "2025-04-09T12:16:50.449Z"
   },
   {
    "duration": 12,
    "start_time": "2025-04-09T12:16:50.543Z"
   },
   {
    "duration": 12,
    "start_time": "2025-04-09T12:16:50.557Z"
   },
   {
    "duration": 25,
    "start_time": "2025-04-09T12:16:50.571Z"
   },
   {
    "duration": 4,
    "start_time": "2025-04-09T12:16:50.597Z"
   },
   {
    "duration": 21,
    "start_time": "2025-04-09T12:16:50.602Z"
   },
   {
    "duration": 17,
    "start_time": "2025-04-09T12:16:50.637Z"
   },
   {
    "duration": 1493,
    "start_time": "2025-04-09T17:43:41.776Z"
   },
   {
    "duration": 46,
    "start_time": "2025-04-09T17:43:43.271Z"
   },
   {
    "duration": 19,
    "start_time": "2025-04-09T17:43:43.318Z"
   },
   {
    "duration": 8,
    "start_time": "2025-04-09T17:43:43.339Z"
   },
   {
    "duration": 8,
    "start_time": "2025-04-09T17:43:43.348Z"
   },
   {
    "duration": 13,
    "start_time": "2025-04-09T17:43:43.357Z"
   },
   {
    "duration": 17,
    "start_time": "2025-04-09T17:43:43.372Z"
   },
   {
    "duration": 10,
    "start_time": "2025-04-09T17:43:43.391Z"
   },
   {
    "duration": 4,
    "start_time": "2025-04-09T17:43:43.403Z"
   },
   {
    "duration": 11,
    "start_time": "2025-04-09T17:43:43.410Z"
   },
   {
    "duration": 4,
    "start_time": "2025-04-09T17:43:43.423Z"
   },
   {
    "duration": 35,
    "start_time": "2025-04-09T17:43:43.429Z"
   },
   {
    "duration": 4,
    "start_time": "2025-04-09T17:43:43.466Z"
   },
   {
    "duration": 8,
    "start_time": "2025-04-09T17:43:43.473Z"
   },
   {
    "duration": 6,
    "start_time": "2025-04-09T17:43:43.482Z"
   },
   {
    "duration": 6,
    "start_time": "2025-04-09T17:43:43.489Z"
   },
   {
    "duration": 5,
    "start_time": "2025-04-09T17:43:43.496Z"
   },
   {
    "duration": 9,
    "start_time": "2025-04-09T17:43:43.502Z"
   },
   {
    "duration": 12,
    "start_time": "2025-04-09T17:43:43.512Z"
   },
   {
    "duration": 43,
    "start_time": "2025-04-09T17:43:43.525Z"
   },
   {
    "duration": 42,
    "start_time": "2025-04-09T17:43:43.570Z"
   },
   {
    "duration": 17,
    "start_time": "2025-04-09T17:43:43.613Z"
   },
   {
    "duration": 183,
    "start_time": "2025-04-09T17:43:43.632Z"
   },
   {
    "duration": 139,
    "start_time": "2025-04-09T17:43:43.817Z"
   },
   {
    "duration": 15,
    "start_time": "2025-04-09T17:43:43.962Z"
   },
   {
    "duration": 29,
    "start_time": "2025-04-09T17:43:43.979Z"
   },
   {
    "duration": 11,
    "start_time": "2025-04-09T17:43:44.009Z"
   },
   {
    "duration": 9,
    "start_time": "2025-04-09T17:43:44.024Z"
   },
   {
    "duration": 356,
    "start_time": "2025-04-09T17:43:44.034Z"
   },
   {
    "duration": 237,
    "start_time": "2025-04-09T17:43:44.392Z"
   },
   {
    "duration": 451,
    "start_time": "2025-04-09T17:43:44.631Z"
   },
   {
    "duration": 266,
    "start_time": "2025-04-09T17:43:45.084Z"
   },
   {
    "duration": 383,
    "start_time": "2025-04-09T17:43:45.352Z"
   },
   {
    "duration": 132,
    "start_time": "2025-04-09T17:43:45.736Z"
   },
   {
    "duration": 5,
    "start_time": "2025-04-09T17:43:45.870Z"
   },
   {
    "duration": 157,
    "start_time": "2025-04-09T17:43:45.877Z"
   },
   {
    "duration": 300,
    "start_time": "2025-04-09T17:43:46.036Z"
   },
   {
    "duration": 2,
    "start_time": "2025-04-09T17:43:46.338Z"
   },
   {
    "duration": 342,
    "start_time": "2025-04-09T17:43:46.341Z"
   },
   {
    "duration": 6,
    "start_time": "2025-04-09T17:43:46.684Z"
   },
   {
    "duration": 223,
    "start_time": "2025-04-09T17:43:46.692Z"
   },
   {
    "duration": 85,
    "start_time": "2025-04-09T17:43:46.916Z"
   },
   {
    "duration": 101,
    "start_time": "2025-04-09T17:43:47.002Z"
   },
   {
    "duration": 10,
    "start_time": "2025-04-09T17:43:47.105Z"
   },
   {
    "duration": 15,
    "start_time": "2025-04-09T17:43:47.116Z"
   },
   {
    "duration": 10,
    "start_time": "2025-04-09T17:43:47.133Z"
   },
   {
    "duration": 24,
    "start_time": "2025-04-09T17:43:47.163Z"
   },
   {
    "duration": 30,
    "start_time": "2025-04-09T17:43:47.189Z"
   },
   {
    "duration": 5,
    "start_time": "2025-04-09T17:43:47.221Z"
   },
   {
    "duration": 58,
    "start_time": "2025-04-09T17:43:47.227Z"
   },
   {
    "duration": 34,
    "start_time": "2025-04-09T17:43:47.287Z"
   },
   {
    "duration": 6,
    "start_time": "2025-04-09T17:43:47.323Z"
   },
   {
    "duration": 17,
    "start_time": "2025-04-09T17:43:47.331Z"
   },
   {
    "duration": 16,
    "start_time": "2025-04-09T17:43:47.350Z"
   },
   {
    "duration": 32,
    "start_time": "2025-04-09T17:43:47.374Z"
   },
   {
    "duration": 6,
    "start_time": "2025-04-09T17:43:47.408Z"
   },
   {
    "duration": 13,
    "start_time": "2025-04-09T17:43:47.416Z"
   },
   {
    "duration": 59,
    "start_time": "2025-04-09T17:43:47.432Z"
   },
   {
    "duration": 10,
    "start_time": "2025-04-09T17:52:45.113Z"
   },
   {
    "duration": 554,
    "start_time": "2025-04-09T17:58:51.360Z"
   },
   {
    "duration": 104,
    "start_time": "2025-04-09T18:00:40.714Z"
   },
   {
    "duration": 503,
    "start_time": "2025-04-09T18:00:48.508Z"
   },
   {
    "duration": 514,
    "start_time": "2025-04-09T18:07:58.150Z"
   },
   {
    "duration": 11,
    "start_time": "2025-04-09T18:52:09.322Z"
   },
   {
    "duration": 120,
    "start_time": "2025-04-09T18:56:32.524Z"
   },
   {
    "duration": 137,
    "start_time": "2025-04-09T18:56:43.504Z"
   },
   {
    "duration": 453,
    "start_time": "2025-04-09T18:56:53.456Z"
   },
   {
    "duration": 484,
    "start_time": "2025-04-09T18:58:34.945Z"
   },
   {
    "duration": 1277,
    "start_time": "2025-04-09T18:59:02.347Z"
   },
   {
    "duration": 68,
    "start_time": "2025-04-09T18:59:03.626Z"
   },
   {
    "duration": 12,
    "start_time": "2025-04-09T18:59:03.695Z"
   },
   {
    "duration": 30,
    "start_time": "2025-04-09T18:59:03.709Z"
   },
   {
    "duration": 8,
    "start_time": "2025-04-09T18:59:03.741Z"
   },
   {
    "duration": 34,
    "start_time": "2025-04-09T18:59:03.751Z"
   },
   {
    "duration": 11,
    "start_time": "2025-04-09T18:59:03.786Z"
   },
   {
    "duration": 32,
    "start_time": "2025-04-09T18:59:03.798Z"
   },
   {
    "duration": 84,
    "start_time": "2025-04-09T18:59:03.831Z"
   },
   {
    "duration": 12,
    "start_time": "2025-04-09T18:59:03.917Z"
   },
   {
    "duration": 8,
    "start_time": "2025-04-09T18:59:03.930Z"
   },
   {
    "duration": 12,
    "start_time": "2025-04-09T18:59:03.939Z"
   },
   {
    "duration": 8,
    "start_time": "2025-04-09T18:59:03.952Z"
   },
   {
    "duration": 19,
    "start_time": "2025-04-09T18:59:03.962Z"
   },
   {
    "duration": 15,
    "start_time": "2025-04-09T18:59:03.983Z"
   },
   {
    "duration": 22,
    "start_time": "2025-04-09T18:59:03.999Z"
   },
   {
    "duration": 11,
    "start_time": "2025-04-09T18:59:04.022Z"
   },
   {
    "duration": 8,
    "start_time": "2025-04-09T18:59:04.034Z"
   },
   {
    "duration": 11,
    "start_time": "2025-04-09T18:59:04.043Z"
   },
   {
    "duration": 32,
    "start_time": "2025-04-09T18:59:04.055Z"
   },
   {
    "duration": 12,
    "start_time": "2025-04-09T18:59:04.089Z"
   },
   {
    "duration": 112,
    "start_time": "2025-04-09T18:59:04.103Z"
   },
   {
    "duration": 216,
    "start_time": "2025-04-09T18:59:04.216Z"
   },
   {
    "duration": 154,
    "start_time": "2025-04-09T18:59:04.434Z"
   },
   {
    "duration": 8,
    "start_time": "2025-04-09T18:59:04.590Z"
   },
   {
    "duration": 85,
    "start_time": "2025-04-09T18:59:04.600Z"
   },
   {
    "duration": 56,
    "start_time": "2025-04-09T18:59:04.687Z"
   },
   {
    "duration": 7,
    "start_time": "2025-04-09T18:59:04.746Z"
   },
   {
    "duration": 361,
    "start_time": "2025-04-09T18:59:04.754Z"
   },
   {
    "duration": 273,
    "start_time": "2025-04-09T18:59:05.117Z"
   },
   {
    "duration": 335,
    "start_time": "2025-04-09T18:59:05.391Z"
   },
   {
    "duration": 278,
    "start_time": "2025-04-09T18:59:05.729Z"
   },
   {
    "duration": 392,
    "start_time": "2025-04-09T18:59:06.010Z"
   },
   {
    "duration": 133,
    "start_time": "2025-04-09T18:59:06.404Z"
   },
   {
    "duration": 6,
    "start_time": "2025-04-09T18:59:06.539Z"
   },
   {
    "duration": 185,
    "start_time": "2025-04-09T18:59:06.547Z"
   },
   {
    "duration": 352,
    "start_time": "2025-04-09T18:59:06.733Z"
   },
   {
    "duration": 2,
    "start_time": "2025-04-09T18:59:07.087Z"
   },
   {
    "duration": 396,
    "start_time": "2025-04-09T18:59:07.091Z"
   },
   {
    "duration": 6,
    "start_time": "2025-04-09T18:59:07.489Z"
   },
   {
    "duration": 321,
    "start_time": "2025-04-09T18:59:07.497Z"
   },
   {
    "duration": 113,
    "start_time": "2025-04-09T18:59:07.819Z"
   },
   {
    "duration": 98,
    "start_time": "2025-04-09T18:59:07.933Z"
   },
   {
    "duration": 30,
    "start_time": "2025-04-09T18:59:08.033Z"
   },
   {
    "duration": 12,
    "start_time": "2025-04-09T18:59:08.072Z"
   },
   {
    "duration": 11,
    "start_time": "2025-04-09T18:59:08.085Z"
   },
   {
    "duration": 100,
    "start_time": "2025-04-09T18:59:08.098Z"
   },
   {
    "duration": 28,
    "start_time": "2025-04-09T18:59:08.199Z"
   },
   {
    "duration": 4,
    "start_time": "2025-04-09T18:59:08.228Z"
   },
   {
    "duration": 70,
    "start_time": "2025-04-09T18:59:08.234Z"
   },
   {
    "duration": 41,
    "start_time": "2025-04-09T18:59:08.305Z"
   },
   {
    "duration": 5,
    "start_time": "2025-04-09T18:59:08.347Z"
   },
   {
    "duration": 38,
    "start_time": "2025-04-09T18:59:08.354Z"
   },
   {
    "duration": 14,
    "start_time": "2025-04-09T18:59:08.394Z"
   },
   {
    "duration": 9,
    "start_time": "2025-04-09T18:59:08.410Z"
   },
   {
    "duration": 36,
    "start_time": "2025-04-09T18:59:08.420Z"
   },
   {
    "duration": 20,
    "start_time": "2025-04-09T18:59:08.462Z"
   },
   {
    "duration": 13,
    "start_time": "2025-04-09T18:59:08.484Z"
   },
   {
    "duration": 12,
    "start_time": "2025-04-09T18:59:08.498Z"
   },
   {
    "duration": 546,
    "start_time": "2025-04-09T18:59:08.512Z"
   },
   {
    "duration": 27,
    "start_time": "2025-04-09T19:06:26.736Z"
   },
   {
    "duration": 29,
    "start_time": "2025-04-09T19:06:37.459Z"
   },
   {
    "duration": 1218,
    "start_time": "2025-04-09T20:26:42.492Z"
   },
   {
    "duration": 190,
    "start_time": "2025-04-09T20:26:43.712Z"
   },
   {
    "duration": 13,
    "start_time": "2025-04-09T20:26:43.903Z"
   },
   {
    "duration": 15,
    "start_time": "2025-04-09T20:26:43.918Z"
   },
   {
    "duration": 25,
    "start_time": "2025-04-09T20:26:43.935Z"
   },
   {
    "duration": 73,
    "start_time": "2025-04-09T20:26:43.961Z"
   },
   {
    "duration": 45,
    "start_time": "2025-04-09T20:26:44.036Z"
   },
   {
    "duration": 22,
    "start_time": "2025-04-09T20:26:44.083Z"
   },
   {
    "duration": 27,
    "start_time": "2025-04-09T20:26:44.107Z"
   },
   {
    "duration": 14,
    "start_time": "2025-04-09T20:26:44.138Z"
   },
   {
    "duration": 20,
    "start_time": "2025-04-09T20:26:44.154Z"
   },
   {
    "duration": 23,
    "start_time": "2025-04-09T20:26:44.176Z"
   },
   {
    "duration": 11,
    "start_time": "2025-04-09T20:26:44.201Z"
   },
   {
    "duration": 6,
    "start_time": "2025-04-09T20:26:44.214Z"
   },
   {
    "duration": 39,
    "start_time": "2025-04-09T20:26:44.222Z"
   },
   {
    "duration": 20,
    "start_time": "2025-04-09T20:26:44.263Z"
   },
   {
    "duration": 12,
    "start_time": "2025-04-09T20:26:44.285Z"
   },
   {
    "duration": 12,
    "start_time": "2025-04-09T20:26:44.298Z"
   },
   {
    "duration": 7,
    "start_time": "2025-04-09T20:26:44.312Z"
   },
   {
    "duration": 30,
    "start_time": "2025-04-09T20:26:44.321Z"
   },
   {
    "duration": 17,
    "start_time": "2025-04-09T20:26:44.354Z"
   },
   {
    "duration": 19,
    "start_time": "2025-04-09T20:26:44.373Z"
   },
   {
    "duration": 188,
    "start_time": "2025-04-09T20:26:44.394Z"
   },
   {
    "duration": 135,
    "start_time": "2025-04-09T20:26:44.584Z"
   },
   {
    "duration": 20,
    "start_time": "2025-04-09T20:26:44.721Z"
   },
   {
    "duration": 20,
    "start_time": "2025-04-09T20:26:44.743Z"
   },
   {
    "duration": 13,
    "start_time": "2025-04-09T20:26:44.765Z"
   },
   {
    "duration": 54,
    "start_time": "2025-04-09T20:26:44.783Z"
   },
   {
    "duration": 356,
    "start_time": "2025-04-09T20:26:44.839Z"
   },
   {
    "duration": 229,
    "start_time": "2025-04-09T20:26:45.198Z"
   },
   {
    "duration": 363,
    "start_time": "2025-04-09T20:26:45.430Z"
   },
   {
    "duration": 249,
    "start_time": "2025-04-09T20:26:45.795Z"
   },
   {
    "duration": 363,
    "start_time": "2025-04-09T20:26:46.046Z"
   },
   {
    "duration": 123,
    "start_time": "2025-04-09T20:26:46.410Z"
   },
   {
    "duration": 6,
    "start_time": "2025-04-09T20:26:46.539Z"
   },
   {
    "duration": 166,
    "start_time": "2025-04-09T20:26:46.546Z"
   },
   {
    "duration": 320,
    "start_time": "2025-04-09T20:26:46.713Z"
   },
   {
    "duration": 3,
    "start_time": "2025-04-09T20:26:47.039Z"
   },
   {
    "duration": 298,
    "start_time": "2025-04-09T20:26:47.043Z"
   },
   {
    "duration": 6,
    "start_time": "2025-04-09T20:26:47.343Z"
   },
   {
    "duration": 289,
    "start_time": "2025-04-09T20:26:47.351Z"
   },
   {
    "duration": 98,
    "start_time": "2025-04-09T20:26:47.642Z"
   },
   {
    "duration": 76,
    "start_time": "2025-04-09T20:26:47.742Z"
   },
   {
    "duration": 30,
    "start_time": "2025-04-09T20:26:47.819Z"
   },
   {
    "duration": 39,
    "start_time": "2025-04-09T20:26:47.850Z"
   },
   {
    "duration": 37,
    "start_time": "2025-04-09T20:26:47.892Z"
   },
   {
    "duration": 58,
    "start_time": "2025-04-09T20:26:47.931Z"
   },
   {
    "duration": 59,
    "start_time": "2025-04-09T20:26:47.991Z"
   },
   {
    "duration": 6,
    "start_time": "2025-04-09T20:26:48.051Z"
   },
   {
    "duration": 48,
    "start_time": "2025-04-09T20:26:48.059Z"
   },
   {
    "duration": 48,
    "start_time": "2025-04-09T20:26:48.109Z"
   },
   {
    "duration": 46,
    "start_time": "2025-04-09T20:26:48.159Z"
   },
   {
    "duration": 49,
    "start_time": "2025-04-09T20:26:48.207Z"
   },
   {
    "duration": 49,
    "start_time": "2025-04-09T20:26:48.258Z"
   },
   {
    "duration": 34,
    "start_time": "2025-04-09T20:26:48.309Z"
   },
   {
    "duration": 69,
    "start_time": "2025-04-09T20:26:48.345Z"
   },
   {
    "duration": 80,
    "start_time": "2025-04-09T20:26:48.416Z"
   },
   {
    "duration": 43,
    "start_time": "2025-04-09T20:26:48.498Z"
   },
   {
    "duration": 43,
    "start_time": "2025-04-09T20:26:48.543Z"
   },
   {
    "duration": 507,
    "start_time": "2025-04-09T20:26:48.588Z"
   },
   {
    "duration": 1173,
    "start_time": "2025-09-05T12:55:46.001Z"
   },
   {
    "duration": 97,
    "start_time": "2025-09-05T12:55:49.949Z"
   },
   {
    "duration": 4,
    "start_time": "2025-09-05T12:56:13.721Z"
   },
   {
    "duration": 68,
    "start_time": "2025-09-05T12:56:15.793Z"
   },
   {
    "duration": 12,
    "start_time": "2025-09-05T12:56:21.176Z"
   },
   {
    "duration": 7,
    "start_time": "2025-09-05T12:56:26.300Z"
   },
   {
    "duration": 8,
    "start_time": "2025-09-05T12:56:29.417Z"
   },
   {
    "duration": 8,
    "start_time": "2025-09-05T12:56:32.457Z"
   },
   {
    "duration": 11,
    "start_time": "2025-09-05T12:56:38.293Z"
   },
   {
    "duration": 10,
    "start_time": "2025-09-05T12:56:40.632Z"
   },
   {
    "duration": 11,
    "start_time": "2025-09-05T12:56:45.562Z"
   },
   {
    "duration": 4,
    "start_time": "2025-09-05T12:58:07.297Z"
   },
   {
    "duration": 5,
    "start_time": "2025-09-05T12:58:20.179Z"
   },
   {
    "duration": 13,
    "start_time": "2025-09-05T12:58:22.559Z"
   },
   {
    "duration": 7,
    "start_time": "2025-09-05T12:58:44.694Z"
   },
   {
    "duration": 4,
    "start_time": "2025-09-05T12:58:53.862Z"
   },
   {
    "duration": 6,
    "start_time": "2025-09-05T12:58:54.384Z"
   },
   {
    "duration": 5,
    "start_time": "2025-09-05T12:59:06.168Z"
   },
   {
    "duration": 6,
    "start_time": "2025-09-05T12:59:17.210Z"
   },
   {
    "duration": 5,
    "start_time": "2025-09-05T12:59:19.402Z"
   },
   {
    "duration": 5,
    "start_time": "2025-09-05T12:59:21.383Z"
   },
   {
    "duration": 4,
    "start_time": "2025-09-05T12:59:51.893Z"
   },
   {
    "duration": 13,
    "start_time": "2025-09-05T13:01:11.142Z"
   },
   {
    "duration": 11,
    "start_time": "2025-09-05T13:02:21.793Z"
   },
   {
    "duration": 11,
    "start_time": "2025-09-05T13:05:20.866Z"
   },
   {
    "duration": 168,
    "start_time": "2025-09-05T13:05:47.597Z"
   },
   {
    "duration": 114,
    "start_time": "2025-09-05T13:05:50.796Z"
   },
   {
    "duration": 7,
    "start_time": "2025-09-05T13:06:00.568Z"
   },
   {
    "duration": 9,
    "start_time": "2025-09-05T13:06:05.635Z"
   },
   {
    "duration": 7,
    "start_time": "2025-09-05T13:06:10.234Z"
   },
   {
    "duration": 6,
    "start_time": "2025-09-05T13:06:10.917Z"
   },
   {
    "duration": 294,
    "start_time": "2025-09-05T13:06:36.944Z"
   },
   {
    "duration": 210,
    "start_time": "2025-09-05T13:07:12.201Z"
   },
   {
    "duration": 366,
    "start_time": "2025-09-05T13:08:30.465Z"
   },
   {
    "duration": 233,
    "start_time": "2025-09-05T13:09:25.285Z"
   },
   {
    "duration": 219,
    "start_time": "2025-09-05T13:09:35.242Z"
   },
   {
    "duration": 374,
    "start_time": "2025-09-05T13:11:43.053Z"
   },
   {
    "duration": 327,
    "start_time": "2025-09-05T13:11:50.213Z"
   },
   {
    "duration": 193,
    "start_time": "2025-09-05T13:16:54.726Z"
   },
   {
    "duration": 113,
    "start_time": "2025-09-05T13:17:02.763Z"
   },
   {
    "duration": 13,
    "start_time": "2025-09-05T13:19:04.649Z"
   },
   {
    "duration": 76,
    "start_time": "2025-09-05T13:19:45.544Z"
   },
   {
    "duration": 91,
    "start_time": "2025-09-05T13:19:50.371Z"
   },
   {
    "duration": 15,
    "start_time": "2025-09-05T13:19:55.918Z"
   },
   {
    "duration": 233,
    "start_time": "2025-09-05T13:25:09.503Z"
   },
   {
    "duration": 117,
    "start_time": "2025-09-05T13:25:20.144Z"
   },
   {
    "duration": 263,
    "start_time": "2025-09-05T13:25:27.267Z"
   },
   {
    "duration": 240,
    "start_time": "2025-09-05T13:25:46.895Z"
   },
   {
    "duration": 218,
    "start_time": "2025-09-05T13:25:52.915Z"
   },
   {
    "duration": 264,
    "start_time": "2025-09-05T13:26:04.865Z"
   },
   {
    "duration": 271,
    "start_time": "2025-09-05T13:26:11.928Z"
   },
   {
    "duration": 270,
    "start_time": "2025-09-05T13:26:20.427Z"
   },
   {
    "duration": 134,
    "start_time": "2025-09-05T13:26:29.441Z"
   },
   {
    "duration": 351,
    "start_time": "2025-09-05T13:26:37.343Z"
   },
   {
    "duration": 225,
    "start_time": "2025-09-05T13:27:18.407Z"
   },
   {
    "duration": 251,
    "start_time": "2025-09-05T13:27:55.081Z"
   },
   {
    "duration": 6,
    "start_time": "2025-09-05T13:27:58.550Z"
   },
   {
    "duration": 214,
    "start_time": "2025-09-05T13:29:14.615Z"
   },
   {
    "duration": 138,
    "start_time": "2025-09-05T13:29:18.200Z"
   },
   {
    "duration": 271,
    "start_time": "2025-09-05T13:29:37.446Z"
   },
   {
    "duration": 255,
    "start_time": "2025-09-05T13:30:08.880Z"
   },
   {
    "duration": 360,
    "start_time": "2025-09-05T13:31:04.637Z"
   },
   {
    "duration": 345,
    "start_time": "2025-09-05T13:32:04.148Z"
   },
   {
    "duration": 258,
    "start_time": "2025-09-05T13:34:11.873Z"
   },
   {
    "duration": 358,
    "start_time": "2025-09-05T13:35:05.688Z"
   },
   {
    "duration": 7,
    "start_time": "2025-09-05T13:35:35.084Z"
   },
   {
    "duration": 212,
    "start_time": "2025-09-05T13:36:48.306Z"
   },
   {
    "duration": 79,
    "start_time": "2025-09-05T13:37:00.254Z"
   },
   {
    "duration": 99,
    "start_time": "2025-09-05T13:37:02.324Z"
   },
   {
    "duration": 11,
    "start_time": "2025-09-05T13:37:03.845Z"
   },
   {
    "duration": 9,
    "start_time": "2025-09-05T13:37:30.738Z"
   },
   {
    "duration": 10,
    "start_time": "2025-09-05T13:37:37.298Z"
   },
   {
    "duration": 1260,
    "start_time": "2025-09-05T13:38:47.155Z"
   },
   {
    "duration": 1302,
    "start_time": "2025-09-05T13:39:05.516Z"
   },
   {
    "duration": 10,
    "start_time": "2025-09-05T13:40:58.488Z"
   },
   {
    "duration": 10,
    "start_time": "2025-09-05T13:41:05.730Z"
   },
   {
    "duration": 28,
    "start_time": "2025-09-05T13:43:02.445Z"
   },
   {
    "duration": 5,
    "start_time": "2025-09-05T13:43:20.433Z"
   },
   {
    "duration": 13,
    "start_time": "2025-09-05T13:43:50.109Z"
   },
   {
    "duration": 9,
    "start_time": "2025-09-05T13:44:21.601Z"
   },
   {
    "duration": 12,
    "start_time": "2025-09-05T13:49:35.443Z"
   },
   {
    "duration": 11,
    "start_time": "2025-09-05T13:50:00.539Z"
   },
   {
    "duration": 10,
    "start_time": "2025-09-05T13:50:09.014Z"
   },
   {
    "duration": 28,
    "start_time": "2025-09-05T13:50:30.539Z"
   },
   {
    "duration": 5,
    "start_time": "2025-09-05T13:51:01.123Z"
   },
   {
    "duration": 13,
    "start_time": "2025-09-05T13:51:44.819Z"
   },
   {
    "duration": 11,
    "start_time": "2025-09-05T13:52:32.783Z"
   },
   {
    "duration": 608,
    "start_time": "2025-09-05T13:53:13.115Z"
   },
   {
    "duration": 506,
    "start_time": "2025-09-05T13:53:27.037Z"
   },
   {
    "duration": 434,
    "start_time": "2025-09-05T13:53:40.885Z"
   },
   {
    "duration": 1251,
    "start_time": "2025-09-05T14:09:11.847Z"
   },
   {
    "duration": 68,
    "start_time": "2025-09-05T14:09:13.100Z"
   },
   {
    "duration": 11,
    "start_time": "2025-09-05T14:09:13.170Z"
   },
   {
    "duration": 40,
    "start_time": "2025-09-05T14:09:13.183Z"
   },
   {
    "duration": 9,
    "start_time": "2025-09-05T14:09:13.224Z"
   },
   {
    "duration": 11,
    "start_time": "2025-09-05T14:09:13.235Z"
   },
   {
    "duration": 11,
    "start_time": "2025-09-05T14:09:13.248Z"
   },
   {
    "duration": 11,
    "start_time": "2025-09-05T14:09:13.261Z"
   },
   {
    "duration": 6,
    "start_time": "2025-09-05T14:09:13.273Z"
   },
   {
    "duration": 14,
    "start_time": "2025-09-05T14:09:13.282Z"
   },
   {
    "duration": 6,
    "start_time": "2025-09-05T14:09:13.297Z"
   },
   {
    "duration": 7,
    "start_time": "2025-09-05T14:09:13.305Z"
   },
   {
    "duration": 5,
    "start_time": "2025-09-05T14:09:13.314Z"
   },
   {
    "duration": 24,
    "start_time": "2025-09-05T14:09:13.321Z"
   },
   {
    "duration": 12,
    "start_time": "2025-09-05T14:09:13.347Z"
   },
   {
    "duration": 31,
    "start_time": "2025-09-05T14:09:13.361Z"
   },
   {
    "duration": 10,
    "start_time": "2025-09-05T14:09:13.394Z"
   },
   {
    "duration": 4,
    "start_time": "2025-09-05T14:09:13.406Z"
   },
   {
    "duration": 13,
    "start_time": "2025-09-05T14:09:13.412Z"
   },
   {
    "duration": 13,
    "start_time": "2025-09-05T14:09:13.427Z"
   },
   {
    "duration": 47,
    "start_time": "2025-09-05T14:09:13.442Z"
   },
   {
    "duration": 179,
    "start_time": "2025-09-05T14:09:13.491Z"
   },
   {
    "duration": 132,
    "start_time": "2025-09-05T14:09:13.672Z"
   },
   {
    "duration": 6,
    "start_time": "2025-09-05T14:09:13.806Z"
   },
   {
    "duration": 14,
    "start_time": "2025-09-05T14:09:13.814Z"
   },
   {
    "duration": 15,
    "start_time": "2025-09-05T14:09:13.830Z"
   },
   {
    "duration": 14,
    "start_time": "2025-09-05T14:09:13.847Z"
   },
   {
    "duration": 331,
    "start_time": "2025-09-05T14:09:13.865Z"
   },
   {
    "duration": 213,
    "start_time": "2025-09-05T14:09:14.198Z"
   },
   {
    "duration": 309,
    "start_time": "2025-09-05T14:09:14.412Z"
   },
   {
    "duration": 232,
    "start_time": "2025-09-05T14:09:14.723Z"
   },
   {
    "duration": 369,
    "start_time": "2025-09-05T14:09:14.956Z"
   },
   {
    "duration": 298,
    "start_time": "2025-09-05T14:09:15.326Z"
   },
   {
    "duration": 7,
    "start_time": "2025-09-05T14:09:15.625Z"
   },
   {
    "duration": 463,
    "start_time": "2025-09-05T14:09:15.634Z"
   },
   {
    "duration": 404,
    "start_time": "2025-09-05T14:09:16.099Z"
   },
   {
    "duration": 7,
    "start_time": "2025-09-05T14:09:16.504Z"
   },
   {
    "duration": 238,
    "start_time": "2025-09-05T14:09:16.512Z"
   },
   {
    "duration": 86,
    "start_time": "2025-09-05T14:09:16.752Z"
   },
   {
    "duration": 96,
    "start_time": "2025-09-05T14:09:16.839Z"
   },
   {
    "duration": 12,
    "start_time": "2025-09-05T14:09:16.937Z"
   },
   {
    "duration": 8,
    "start_time": "2025-09-05T14:09:16.950Z"
   },
   {
    "duration": 34,
    "start_time": "2025-09-05T14:09:16.960Z"
   },
   {
    "duration": 10,
    "start_time": "2025-09-05T14:09:16.996Z"
   },
   {
    "duration": 26,
    "start_time": "2025-09-05T14:09:17.007Z"
   },
   {
    "duration": 4,
    "start_time": "2025-09-05T14:09:17.034Z"
   },
   {
    "duration": 24,
    "start_time": "2025-09-05T14:09:17.039Z"
   },
   {
    "duration": 30,
    "start_time": "2025-09-05T14:09:17.064Z"
   },
   {
    "duration": 11,
    "start_time": "2025-09-05T14:09:17.095Z"
   },
   {
    "duration": 9,
    "start_time": "2025-09-05T14:09:17.107Z"
   },
   {
    "duration": 18,
    "start_time": "2025-09-05T14:09:17.117Z"
   },
   {
    "duration": 26,
    "start_time": "2025-09-05T14:09:17.137Z"
   },
   {
    "duration": 26,
    "start_time": "2025-09-05T14:09:17.164Z"
   },
   {
    "duration": 33,
    "start_time": "2025-09-05T14:09:17.191Z"
   },
   {
    "duration": 9,
    "start_time": "2025-09-05T14:09:17.225Z"
   },
   {
    "duration": 470,
    "start_time": "2025-09-05T14:09:17.236Z"
   }
  ],
  "kernelspec": {
   "display_name": "Python 3 (ipykernel)",
   "language": "python",
   "name": "python3"
  },
  "language_info": {
   "codemirror_mode": {
    "name": "ipython",
    "version": 3
   },
   "file_extension": ".py",
   "mimetype": "text/x-python",
   "name": "python",
   "nbconvert_exporter": "python",
   "pygments_lexer": "ipython3",
   "version": "3.9.5"
  },
  "toc": {
   "base_numbering": 1,
   "nav_menu": {},
   "number_sections": true,
   "sideBar": true,
   "skip_h1_title": true,
   "title_cell": "Table of Contents",
   "title_sidebar": "Contents",
   "toc_cell": false,
   "toc_position": {},
   "toc_section_display": true,
   "toc_window_display": false
  }
 },
 "nbformat": 4,
 "nbformat_minor": 2
}
